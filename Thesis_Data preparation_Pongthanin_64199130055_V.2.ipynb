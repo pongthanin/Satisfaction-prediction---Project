{
 "cells": [
  {
   "cell_type": "code",
   "execution_count": 608,
   "id": "07a7ac0a",
   "metadata": {},
   "outputs": [],
   "source": [
    "import numpy as np # linear algebra\n",
    "import pandas as pd # data processing, CSV file I/O (e.g. pd.read_csv)\n",
    "import seaborn as sns\n",
    "import matplotlib.pyplot as plt\n",
    "import datetime as dt\n",
    "from scipy import stats \n",
    "import os"
   ]
  },
  {
   "cell_type": "code",
   "execution_count": 609,
   "id": "7971f33d",
   "metadata": {},
   "outputs": [],
   "source": [
    "path = 'C:/Users/66626/Project/Data Set/'\n",
    "file1 = path + 'olist_customers_dataset.csv'\n",
    "file2 = path + 'olist_geolocation_dataset.csv'\n",
    "file3 = path + 'olist_order_items_dataset.csv'\n",
    "file4 = path + 'olist_order_payments_dataset.csv'\n",
    "file5 = path + 'olist_order_reviews_dataset.csv'\n",
    "file6 = path + 'olist_orders_dataset.csv'\n",
    "file7 = path + 'olist_products_dataset.csv'\n",
    "file8 = path + 'olist_sellers_dataset.csv'\n",
    "file9 = path + 'product_category_name_translation.csv'"
   ]
  },
  {
   "cell_type": "code",
   "execution_count": 610,
   "id": "eb46a9b9",
   "metadata": {},
   "outputs": [],
   "source": [
    "df_customers = pd.read_csv(file1)\n",
    "df_geolocation = pd.read_csv(file2)\n",
    "df_item = pd.read_csv(file3)\n",
    "df_order_pay = pd.read_csv(file4)\n",
    "df_reviews = pd.read_csv(file5)\n",
    "df_orders = pd.read_csv(file6)\n",
    "df_products = pd.read_csv(file7)\n",
    "df_sellers = pd.read_csv(file8)\n",
    "df_category = pd.read_csv(file9)"
   ]
  },
  {
   "cell_type": "markdown",
   "id": "fe670da4",
   "metadata": {},
   "source": [
    "### Customer Table (olist_customers_dataset)"
   ]
  },
  {
   "cell_type": "code",
   "execution_count": 611,
   "id": "710518a9",
   "metadata": {},
   "outputs": [
    {
     "data": {
      "text/html": [
       "<div>\n",
       "<style scoped>\n",
       "    .dataframe tbody tr th:only-of-type {\n",
       "        vertical-align: middle;\n",
       "    }\n",
       "\n",
       "    .dataframe tbody tr th {\n",
       "        vertical-align: top;\n",
       "    }\n",
       "\n",
       "    .dataframe thead th {\n",
       "        text-align: right;\n",
       "    }\n",
       "</style>\n",
       "<table border=\"1\" class=\"dataframe\">\n",
       "  <thead>\n",
       "    <tr style=\"text-align: right;\">\n",
       "      <th></th>\n",
       "      <th>customer_id</th>\n",
       "      <th>customer_unique_id</th>\n",
       "      <th>customer_zip_code_prefix</th>\n",
       "      <th>customer_city</th>\n",
       "      <th>customer_state</th>\n",
       "    </tr>\n",
       "  </thead>\n",
       "  <tbody>\n",
       "    <tr>\n",
       "      <th>0</th>\n",
       "      <td>06b8999e2fba1a1fbc88172c00ba8bc7</td>\n",
       "      <td>861eff4711a542e4b93843c6dd7febb0</td>\n",
       "      <td>14409</td>\n",
       "      <td>franca</td>\n",
       "      <td>SP</td>\n",
       "    </tr>\n",
       "    <tr>\n",
       "      <th>1</th>\n",
       "      <td>18955e83d337fd6b2def6b18a428ac77</td>\n",
       "      <td>290c77bc529b7ac935b93aa66c333dc3</td>\n",
       "      <td>9790</td>\n",
       "      <td>sao bernardo do campo</td>\n",
       "      <td>SP</td>\n",
       "    </tr>\n",
       "    <tr>\n",
       "      <th>2</th>\n",
       "      <td>4e7b3e00288586ebd08712fdd0374a03</td>\n",
       "      <td>060e732b5b29e8181a18229c7b0b2b5e</td>\n",
       "      <td>1151</td>\n",
       "      <td>sao paulo</td>\n",
       "      <td>SP</td>\n",
       "    </tr>\n",
       "    <tr>\n",
       "      <th>3</th>\n",
       "      <td>b2b6027bc5c5109e529d4dc6358b12c3</td>\n",
       "      <td>259dac757896d24d7702b9acbbff3f3c</td>\n",
       "      <td>8775</td>\n",
       "      <td>mogi das cruzes</td>\n",
       "      <td>SP</td>\n",
       "    </tr>\n",
       "    <tr>\n",
       "      <th>4</th>\n",
       "      <td>4f2d8ab171c80ec8364f7c12e35b23ad</td>\n",
       "      <td>345ecd01c38d18a9036ed96c73b8d066</td>\n",
       "      <td>13056</td>\n",
       "      <td>campinas</td>\n",
       "      <td>SP</td>\n",
       "    </tr>\n",
       "  </tbody>\n",
       "</table>\n",
       "</div>"
      ],
      "text/plain": [
       "                        customer_id                customer_unique_id  \\\n",
       "0  06b8999e2fba1a1fbc88172c00ba8bc7  861eff4711a542e4b93843c6dd7febb0   \n",
       "1  18955e83d337fd6b2def6b18a428ac77  290c77bc529b7ac935b93aa66c333dc3   \n",
       "2  4e7b3e00288586ebd08712fdd0374a03  060e732b5b29e8181a18229c7b0b2b5e   \n",
       "3  b2b6027bc5c5109e529d4dc6358b12c3  259dac757896d24d7702b9acbbff3f3c   \n",
       "4  4f2d8ab171c80ec8364f7c12e35b23ad  345ecd01c38d18a9036ed96c73b8d066   \n",
       "\n",
       "   customer_zip_code_prefix          customer_city customer_state  \n",
       "0                     14409                 franca             SP  \n",
       "1                      9790  sao bernardo do campo             SP  \n",
       "2                      1151              sao paulo             SP  \n",
       "3                      8775        mogi das cruzes             SP  \n",
       "4                     13056               campinas             SP  "
      ]
     },
     "execution_count": 611,
     "metadata": {},
     "output_type": "execute_result"
    }
   ],
   "source": [
    "df_customers.head()"
   ]
  },
  {
   "cell_type": "code",
   "execution_count": 612,
   "id": "e2c908f1",
   "metadata": {},
   "outputs": [
    {
     "name": "stdout",
     "output_type": "stream",
     "text": [
      "Customers Table contains 99441 rows and 5 columns.\n"
     ]
    }
   ],
   "source": [
    "print(\"Customers Table contains\", df_customers.shape[0], \"rows and\", df_customers.shape[1], \"columns.\")"
   ]
  },
  {
   "cell_type": "code",
   "execution_count": 613,
   "id": "536c4cb8",
   "metadata": {},
   "outputs": [
    {
     "data": {
      "text/plain": [
       "customer_id                 0\n",
       "customer_unique_id          0\n",
       "customer_zip_code_prefix    0\n",
       "customer_city               0\n",
       "customer_state              0\n",
       "dtype: int64"
      ]
     },
     "execution_count": 613,
     "metadata": {},
     "output_type": "execute_result"
    }
   ],
   "source": [
    "# checking for missing values\n",
    "df_customers.isnull().sum()"
   ]
  },
  {
   "cell_type": "code",
   "execution_count": 614,
   "id": "9afbc370",
   "metadata": {},
   "outputs": [
    {
     "name": "stdout",
     "output_type": "stream",
     "text": [
      "<class 'pandas.core.frame.DataFrame'>\n",
      "RangeIndex: 99441 entries, 0 to 99440\n",
      "Data columns (total 5 columns):\n",
      " #   Column                    Non-Null Count  Dtype \n",
      "---  ------                    --------------  ----- \n",
      " 0   customer_id               99441 non-null  object\n",
      " 1   customer_unique_id        99441 non-null  object\n",
      " 2   customer_zip_code_prefix  99441 non-null  int64 \n",
      " 3   customer_city             99441 non-null  object\n",
      " 4   customer_state            99441 non-null  object\n",
      "dtypes: int64(1), object(4)\n",
      "memory usage: 3.8+ MB\n"
     ]
    }
   ],
   "source": [
    "#ตรวจชนิดของข้อมูล\n",
    "#data.dtypes\n",
    "df_customers.info()"
   ]
  },
  {
   "cell_type": "code",
   "execution_count": 615,
   "id": "ecdfdc9d",
   "metadata": {},
   "outputs": [
    {
     "data": {
      "text/plain": [
       "array([14409,  9790,  1151, ...,  5538, 74980, 99043], dtype=int64)"
      ]
     },
     "execution_count": 615,
     "metadata": {},
     "output_type": "execute_result"
    }
   ],
   "source": [
    "#show unique values in customer_zip_code_prefix column\n",
    "#df_customers['customer_zip_code_prefix'].value_counts()\n",
    "df_customers['customer_zip_code_prefix'].unique()"
   ]
  },
  {
   "cell_type": "code",
   "execution_count": 616,
   "id": "764e82ee",
   "metadata": {},
   "outputs": [],
   "source": [
    "df_customers['customer_zip_code_prefix'] = df_customers['customer_zip_code_prefix'].astype('category')\n",
    "df_customers['customer_state'] = df_customers['customer_state'].astype('category')\n",
    "df_customers['customer_city'] = df_customers['customer_city'].astype('category')"
   ]
  },
  {
   "cell_type": "code",
   "execution_count": 617,
   "id": "beaaf7af",
   "metadata": {},
   "outputs": [
    {
     "data": {
      "text/plain": [
       "[14409, 9790, 1151, 8775, 13056, ..., 87145, 98860, 5538, 74980, 99043]\n",
       "Length: 14994\n",
       "Categories (14994, int64): [1003, 1004, 1005, 1006, ..., 99965, 99970, 99980, 99990]"
      ]
     },
     "execution_count": 617,
     "metadata": {},
     "output_type": "execute_result"
    }
   ],
   "source": [
    "df_customers['customer_zip_code_prefix'].unique()"
   ]
  },
  {
   "cell_type": "code",
   "execution_count": 618,
   "id": "509b6351",
   "metadata": {},
   "outputs": [],
   "source": [
    "# dropping columns with unnecessary column\n",
    "df_customers = df_customers.drop(columns=['customer_unique_id'])"
   ]
  },
  {
   "cell_type": "code",
   "execution_count": 619,
   "id": "f7be0ecd",
   "metadata": {},
   "outputs": [
    {
     "name": "stdout",
     "output_type": "stream",
     "text": [
      "<class 'pandas.core.frame.DataFrame'>\n",
      "RangeIndex: 99441 entries, 0 to 99440\n",
      "Data columns (total 4 columns):\n",
      " #   Column                    Non-Null Count  Dtype   \n",
      "---  ------                    --------------  -----   \n",
      " 0   customer_id               99441 non-null  object  \n",
      " 1   customer_zip_code_prefix  99441 non-null  category\n",
      " 2   customer_city             99441 non-null  category\n",
      " 3   customer_state            99441 non-null  category\n",
      "dtypes: category(3), object(1)\n",
      "memory usage: 2.0+ MB\n"
     ]
    }
   ],
   "source": [
    "df_customers.info()"
   ]
  },
  {
   "cell_type": "code",
   "execution_count": 620,
   "id": "55ad76b4",
   "metadata": {},
   "outputs": [
    {
     "data": {
      "text/plain": [
       "0"
      ]
     },
     "execution_count": 620,
     "metadata": {},
     "output_type": "execute_result"
    }
   ],
   "source": [
    "#check duplicated row\n",
    "#By setting keep on False, all duplicates are True.\n",
    "df_customers.duplicated(keep=False).sum()"
   ]
  },
  {
   "cell_type": "code",
   "execution_count": 621,
   "id": "1fc14dd9",
   "metadata": {},
   "outputs": [
    {
     "data": {
      "text/html": [
       "<div>\n",
       "<style scoped>\n",
       "    .dataframe tbody tr th:only-of-type {\n",
       "        vertical-align: middle;\n",
       "    }\n",
       "\n",
       "    .dataframe tbody tr th {\n",
       "        vertical-align: top;\n",
       "    }\n",
       "\n",
       "    .dataframe thead th {\n",
       "        text-align: right;\n",
       "    }\n",
       "</style>\n",
       "<table border=\"1\" class=\"dataframe\">\n",
       "  <thead>\n",
       "    <tr style=\"text-align: right;\">\n",
       "      <th></th>\n",
       "      <th>customer_id</th>\n",
       "      <th>customer_zip_code_prefix</th>\n",
       "      <th>customer_city</th>\n",
       "      <th>customer_state</th>\n",
       "    </tr>\n",
       "  </thead>\n",
       "  <tbody>\n",
       "    <tr>\n",
       "      <th>count</th>\n",
       "      <td>99441</td>\n",
       "      <td>99441</td>\n",
       "      <td>99441</td>\n",
       "      <td>99441</td>\n",
       "    </tr>\n",
       "    <tr>\n",
       "      <th>unique</th>\n",
       "      <td>99441</td>\n",
       "      <td>14994</td>\n",
       "      <td>4119</td>\n",
       "      <td>27</td>\n",
       "    </tr>\n",
       "    <tr>\n",
       "      <th>top</th>\n",
       "      <td>06b8999e2fba1a1fbc88172c00ba8bc7</td>\n",
       "      <td>22790</td>\n",
       "      <td>sao paulo</td>\n",
       "      <td>SP</td>\n",
       "    </tr>\n",
       "    <tr>\n",
       "      <th>freq</th>\n",
       "      <td>1</td>\n",
       "      <td>142</td>\n",
       "      <td>15540</td>\n",
       "      <td>41746</td>\n",
       "    </tr>\n",
       "  </tbody>\n",
       "</table>\n",
       "</div>"
      ],
      "text/plain": [
       "                             customer_id  customer_zip_code_prefix  \\\n",
       "count                              99441                     99441   \n",
       "unique                             99441                     14994   \n",
       "top     06b8999e2fba1a1fbc88172c00ba8bc7                     22790   \n",
       "freq                                   1                       142   \n",
       "\n",
       "       customer_city customer_state  \n",
       "count          99441          99441  \n",
       "unique          4119             27  \n",
       "top        sao paulo             SP  \n",
       "freq           15540          41746  "
      ]
     },
     "execution_count": 621,
     "metadata": {},
     "output_type": "execute_result"
    }
   ],
   "source": [
    "# show basic statistic\n",
    "df_customers.describe()"
   ]
  },
  {
   "cell_type": "code",
   "execution_count": 622,
   "id": "afbaec0e",
   "metadata": {},
   "outputs": [
    {
     "data": {
      "text/html": [
       "<div>\n",
       "<style scoped>\n",
       "    .dataframe tbody tr th:only-of-type {\n",
       "        vertical-align: middle;\n",
       "    }\n",
       "\n",
       "    .dataframe tbody tr th {\n",
       "        vertical-align: top;\n",
       "    }\n",
       "\n",
       "    .dataframe thead th {\n",
       "        text-align: right;\n",
       "    }\n",
       "</style>\n",
       "<table border=\"1\" class=\"dataframe\">\n",
       "  <thead>\n",
       "    <tr style=\"text-align: right;\">\n",
       "      <th></th>\n",
       "      <th>customer_zip_code_prefix</th>\n",
       "      <th>customer_city</th>\n",
       "      <th>customer_state</th>\n",
       "    </tr>\n",
       "  </thead>\n",
       "  <tbody>\n",
       "    <tr>\n",
       "      <th>count</th>\n",
       "      <td>99441</td>\n",
       "      <td>99441</td>\n",
       "      <td>99441</td>\n",
       "    </tr>\n",
       "    <tr>\n",
       "      <th>unique</th>\n",
       "      <td>14994</td>\n",
       "      <td>4119</td>\n",
       "      <td>27</td>\n",
       "    </tr>\n",
       "    <tr>\n",
       "      <th>top</th>\n",
       "      <td>22790</td>\n",
       "      <td>sao paulo</td>\n",
       "      <td>SP</td>\n",
       "    </tr>\n",
       "    <tr>\n",
       "      <th>freq</th>\n",
       "      <td>142</td>\n",
       "      <td>15540</td>\n",
       "      <td>41746</td>\n",
       "    </tr>\n",
       "  </tbody>\n",
       "</table>\n",
       "</div>"
      ],
      "text/plain": [
       "        customer_zip_code_prefix customer_city customer_state\n",
       "count                      99441         99441          99441\n",
       "unique                     14994          4119             27\n",
       "top                        22790     sao paulo             SP\n",
       "freq                         142         15540          41746"
      ]
     },
     "execution_count": 622,
     "metadata": {},
     "output_type": "execute_result"
    }
   ],
   "source": [
    "#To select pandas categorical columns, use 'category' # พยายามเน้นที่เป็นตัวหนังสือก่อน\n",
    "#The top is the most common value. \n",
    "#The freq is the most common value’s frequency.\n",
    "df_customers.describe(include=['category'])"
   ]
  },
  {
   "cell_type": "code",
   "execution_count": 623,
   "id": "0534fa41",
   "metadata": {},
   "outputs": [
    {
     "data": {
      "text/plain": [
       "Text(0, 0.5, 'No. of Customers')"
      ]
     },
     "execution_count": 623,
     "metadata": {},
     "output_type": "execute_result"
    },
    {
     "data": {
      "image/png": "[encoded data removed]",
      "text/plain": [
       "<Figure size 1080x576 with 1 Axes>"
      ]
     },
     "metadata": {
      "needs_background": "light"
     },
     "output_type": "display_data"
    }
   ],
   "source": [
    "# plotting state wise customer distribution\n",
    "plt.figure(figsize=(15,8))\n",
    "sns.countplot(x='customer_state', data=df_customers)\n",
    "plt.title('State Wise Customer Distribution')\n",
    "plt.xlabel('State')\n",
    "plt.ylabel('No. of Customers')"
   ]
  },
  {
   "cell_type": "markdown",
   "id": "1e9250bb",
   "metadata": {},
   "source": [
    "### Geo Table (olist_geolocation_dataset)"
   ]
  },
  {
   "cell_type": "code",
   "execution_count": 624,
   "id": "c38fd10b",
   "metadata": {},
   "outputs": [
    {
     "data": {
      "text/html": [
       "<div>\n",
       "<style scoped>\n",
       "    .dataframe tbody tr th:only-of-type {\n",
       "        vertical-align: middle;\n",
       "    }\n",
       "\n",
       "    .dataframe tbody tr th {\n",
       "        vertical-align: top;\n",
       "    }\n",
       "\n",
       "    .dataframe thead th {\n",
       "        text-align: right;\n",
       "    }\n",
       "</style>\n",
       "<table border=\"1\" class=\"dataframe\">\n",
       "  <thead>\n",
       "    <tr style=\"text-align: right;\">\n",
       "      <th></th>\n",
       "      <th>geolocation_zip_code_prefix</th>\n",
       "      <th>geolocation_lat</th>\n",
       "      <th>geolocation_lng</th>\n",
       "      <th>geolocation_city</th>\n",
       "      <th>geolocation_state</th>\n",
       "    </tr>\n",
       "  </thead>\n",
       "  <tbody>\n",
       "    <tr>\n",
       "      <th>0</th>\n",
       "      <td>1037</td>\n",
       "      <td>-23.545621</td>\n",
       "      <td>-46.639292</td>\n",
       "      <td>sao paulo</td>\n",
       "      <td>SP</td>\n",
       "    </tr>\n",
       "    <tr>\n",
       "      <th>1</th>\n",
       "      <td>1046</td>\n",
       "      <td>-23.546081</td>\n",
       "      <td>-46.644820</td>\n",
       "      <td>sao paulo</td>\n",
       "      <td>SP</td>\n",
       "    </tr>\n",
       "    <tr>\n",
       "      <th>2</th>\n",
       "      <td>1046</td>\n",
       "      <td>-23.546129</td>\n",
       "      <td>-46.642951</td>\n",
       "      <td>sao paulo</td>\n",
       "      <td>SP</td>\n",
       "    </tr>\n",
       "    <tr>\n",
       "      <th>3</th>\n",
       "      <td>1041</td>\n",
       "      <td>-23.544392</td>\n",
       "      <td>-46.639499</td>\n",
       "      <td>sao paulo</td>\n",
       "      <td>SP</td>\n",
       "    </tr>\n",
       "    <tr>\n",
       "      <th>4</th>\n",
       "      <td>1035</td>\n",
       "      <td>-23.541578</td>\n",
       "      <td>-46.641607</td>\n",
       "      <td>sao paulo</td>\n",
       "      <td>SP</td>\n",
       "    </tr>\n",
       "  </tbody>\n",
       "</table>\n",
       "</div>"
      ],
      "text/plain": [
       "   geolocation_zip_code_prefix  geolocation_lat  geolocation_lng  \\\n",
       "0                         1037       -23.545621       -46.639292   \n",
       "1                         1046       -23.546081       -46.644820   \n",
       "2                         1046       -23.546129       -46.642951   \n",
       "3                         1041       -23.544392       -46.639499   \n",
       "4                         1035       -23.541578       -46.641607   \n",
       "\n",
       "  geolocation_city geolocation_state  \n",
       "0        sao paulo                SP  \n",
       "1        sao paulo                SP  \n",
       "2        sao paulo                SP  \n",
       "3        sao paulo                SP  \n",
       "4        sao paulo                SP  "
      ]
     },
     "execution_count": 624,
     "metadata": {},
     "output_type": "execute_result"
    }
   ],
   "source": [
    "# viewing the first 5 rows of the dataset\n",
    "df_geolocation.head()"
   ]
  },
  {
   "cell_type": "code",
   "execution_count": 625,
   "id": "0f28c47c",
   "metadata": {},
   "outputs": [
    {
     "name": "stdout",
     "output_type": "stream",
     "text": [
      "Geolocation Table contains 1000163 rows and 5 columns.\n"
     ]
    }
   ],
   "source": [
    "print(\"Geolocation Table contains\", df_geolocation.shape[0], \"rows and\", df_geolocation.shape[1], \"columns.\")"
   ]
  },
  {
   "cell_type": "code",
   "execution_count": 626,
   "id": "cc8e96c2",
   "metadata": {},
   "outputs": [
    {
     "data": {
      "text/plain": [
       "geolocation_zip_code_prefix    0\n",
       "geolocation_lat                0\n",
       "geolocation_lng                0\n",
       "geolocation_city               0\n",
       "geolocation_state              0\n",
       "dtype: int64"
      ]
     },
     "execution_count": 626,
     "metadata": {},
     "output_type": "execute_result"
    }
   ],
   "source": [
    "df_geolocation.isnull().sum()"
   ]
  },
  {
   "cell_type": "code",
   "execution_count": 627,
   "id": "cbfd37e6",
   "metadata": {},
   "outputs": [
    {
     "name": "stdout",
     "output_type": "stream",
     "text": [
      "<class 'pandas.core.frame.DataFrame'>\n",
      "RangeIndex: 1000163 entries, 0 to 1000162\n",
      "Data columns (total 5 columns):\n",
      " #   Column                       Non-Null Count    Dtype  \n",
      "---  ------                       --------------    -----  \n",
      " 0   geolocation_zip_code_prefix  1000163 non-null  int64  \n",
      " 1   geolocation_lat              1000163 non-null  float64\n",
      " 2   geolocation_lng              1000163 non-null  float64\n",
      " 3   geolocation_city             1000163 non-null  object \n",
      " 4   geolocation_state            1000163 non-null  object \n",
      "dtypes: float64(2), int64(1), object(2)\n",
      "memory usage: 38.2+ MB\n"
     ]
    }
   ],
   "source": [
    "#ตรวจชนิดของข้อมูล\n",
    "df_geolocation.info()"
   ]
  },
  {
   "cell_type": "code",
   "execution_count": 628,
   "id": "adffa033",
   "metadata": {},
   "outputs": [],
   "source": [
    "df_geolocation['geolocation_zip_code_prefix'] = df_geolocation['geolocation_zip_code_prefix'].astype('category')\n",
    "df_geolocation['geolocation_state'] = df_geolocation['geolocation_state'].astype('category')\n",
    "df_geolocation['geolocation_city'] = df_geolocation['geolocation_city'].astype('category')"
   ]
  },
  {
   "cell_type": "code",
   "execution_count": 629,
   "id": "770595fd",
   "metadata": {},
   "outputs": [
    {
     "data": {
      "text/plain": [
       "['sao paulo', 'são paulo', 'sao bernardo do campo', 'jundiaí', 'taboão da serra', ..., 'ibiaçá', 'santa cecilia do sul', 'ciríaco', 'estação', 'vila lângaro']\n",
       "Length: 8011\n",
       "Categories (8011, object): ['* cidade', '...arraial do cabo', '4o. centenario', '4º centenario', ..., 'ângulo', 'érico cardoso', 'óbidos', 'óleo']"
      ]
     },
     "execution_count": 629,
     "metadata": {},
     "output_type": "execute_result"
    }
   ],
   "source": [
    "df_geolocation['geolocation_city'].unique()"
   ]
  },
  {
   "cell_type": "code",
   "execution_count": 630,
   "id": "22614ab1",
   "metadata": {},
   "outputs": [
    {
     "data": {
      "text/plain": [
       "390005"
      ]
     },
     "execution_count": 630,
     "metadata": {},
     "output_type": "execute_result"
    }
   ],
   "source": [
    "#check duplicated row\n",
    "#By setting keep on False, all duplicates are True.\n",
    "df_geolocation.duplicated(keep=False).sum()"
   ]
  },
  {
   "cell_type": "code",
   "execution_count": 631,
   "id": "29ee1a40",
   "metadata": {},
   "outputs": [
    {
     "data": {
      "text/html": [
       "<div>\n",
       "<style scoped>\n",
       "    .dataframe tbody tr th:only-of-type {\n",
       "        vertical-align: middle;\n",
       "    }\n",
       "\n",
       "    .dataframe tbody tr th {\n",
       "        vertical-align: top;\n",
       "    }\n",
       "\n",
       "    .dataframe thead th {\n",
       "        text-align: right;\n",
       "    }\n",
       "</style>\n",
       "<table border=\"1\" class=\"dataframe\">\n",
       "  <thead>\n",
       "    <tr style=\"text-align: right;\">\n",
       "      <th></th>\n",
       "      <th>geolocation_zip_code_prefix</th>\n",
       "      <th>geolocation_lat</th>\n",
       "      <th>geolocation_lng</th>\n",
       "      <th>geolocation_city</th>\n",
       "      <th>geolocation_state</th>\n",
       "    </tr>\n",
       "  </thead>\n",
       "  <tbody>\n",
       "    <tr>\n",
       "      <th>0</th>\n",
       "      <td>1037</td>\n",
       "      <td>-23.545621</td>\n",
       "      <td>-46.639292</td>\n",
       "      <td>sao paulo</td>\n",
       "      <td>SP</td>\n",
       "    </tr>\n",
       "    <tr>\n",
       "      <th>1</th>\n",
       "      <td>1046</td>\n",
       "      <td>-23.546081</td>\n",
       "      <td>-46.644820</td>\n",
       "      <td>sao paulo</td>\n",
       "      <td>SP</td>\n",
       "    </tr>\n",
       "    <tr>\n",
       "      <th>2</th>\n",
       "      <td>1046</td>\n",
       "      <td>-23.546129</td>\n",
       "      <td>-46.642951</td>\n",
       "      <td>sao paulo</td>\n",
       "      <td>SP</td>\n",
       "    </tr>\n",
       "    <tr>\n",
       "      <th>6</th>\n",
       "      <td>1047</td>\n",
       "      <td>-23.546273</td>\n",
       "      <td>-46.641225</td>\n",
       "      <td>sao paulo</td>\n",
       "      <td>SP</td>\n",
       "    </tr>\n",
       "    <tr>\n",
       "      <th>7</th>\n",
       "      <td>1013</td>\n",
       "      <td>-23.546923</td>\n",
       "      <td>-46.634264</td>\n",
       "      <td>sao paulo</td>\n",
       "      <td>SP</td>\n",
       "    </tr>\n",
       "    <tr>\n",
       "      <th>...</th>\n",
       "      <td>...</td>\n",
       "      <td>...</td>\n",
       "      <td>...</td>\n",
       "      <td>...</td>\n",
       "      <td>...</td>\n",
       "    </tr>\n",
       "    <tr>\n",
       "      <th>1000153</th>\n",
       "      <td>99970</td>\n",
       "      <td>-28.343273</td>\n",
       "      <td>-51.873734</td>\n",
       "      <td>ciriaco</td>\n",
       "      <td>RS</td>\n",
       "    </tr>\n",
       "    <tr>\n",
       "      <th>1000154</th>\n",
       "      <td>99950</td>\n",
       "      <td>-28.070493</td>\n",
       "      <td>-52.011342</td>\n",
       "      <td>tapejara</td>\n",
       "      <td>RS</td>\n",
       "    </tr>\n",
       "    <tr>\n",
       "      <th>1000159</th>\n",
       "      <td>99900</td>\n",
       "      <td>-27.877125</td>\n",
       "      <td>-52.224882</td>\n",
       "      <td>getulio vargas</td>\n",
       "      <td>RS</td>\n",
       "    </tr>\n",
       "    <tr>\n",
       "      <th>1000160</th>\n",
       "      <td>99950</td>\n",
       "      <td>-28.071855</td>\n",
       "      <td>-52.014716</td>\n",
       "      <td>tapejara</td>\n",
       "      <td>RS</td>\n",
       "    </tr>\n",
       "    <tr>\n",
       "      <th>1000162</th>\n",
       "      <td>99950</td>\n",
       "      <td>-28.070104</td>\n",
       "      <td>-52.018658</td>\n",
       "      <td>tapejara</td>\n",
       "      <td>RS</td>\n",
       "    </tr>\n",
       "  </tbody>\n",
       "</table>\n",
       "<p>390005 rows × 5 columns</p>\n",
       "</div>"
      ],
      "text/plain": [
       "        geolocation_zip_code_prefix  geolocation_lat  geolocation_lng  \\\n",
       "0                              1037       -23.545621       -46.639292   \n",
       "1                              1046       -23.546081       -46.644820   \n",
       "2                              1046       -23.546129       -46.642951   \n",
       "6                              1047       -23.546273       -46.641225   \n",
       "7                              1013       -23.546923       -46.634264   \n",
       "...                             ...              ...              ...   \n",
       "1000153                       99970       -28.343273       -51.873734   \n",
       "1000154                       99950       -28.070493       -52.011342   \n",
       "1000159                       99900       -27.877125       -52.224882   \n",
       "1000160                       99950       -28.071855       -52.014716   \n",
       "1000162                       99950       -28.070104       -52.018658   \n",
       "\n",
       "        geolocation_city geolocation_state  \n",
       "0              sao paulo                SP  \n",
       "1              sao paulo                SP  \n",
       "2              sao paulo                SP  \n",
       "6              sao paulo                SP  \n",
       "7              sao paulo                SP  \n",
       "...                  ...               ...  \n",
       "1000153          ciriaco                RS  \n",
       "1000154         tapejara                RS  \n",
       "1000159   getulio vargas                RS  \n",
       "1000160         tapejara                RS  \n",
       "1000162         tapejara                RS  \n",
       "\n",
       "[390005 rows x 5 columns]"
      ]
     },
     "execution_count": 631,
     "metadata": {},
     "output_type": "execute_result"
    }
   ],
   "source": [
    "#แสดง row ที่ซ้ำกัน\n",
    "df_geolocation[df_geolocation.duplicated(keep=False)]"
   ]
  },
  {
   "cell_type": "code",
   "execution_count": 632,
   "id": "c32798b4",
   "metadata": {},
   "outputs": [],
   "source": [
    "#drop the duplicate row\n",
    "df_geolocation.drop_duplicates(inplace=True)"
   ]
  },
  {
   "cell_type": "code",
   "execution_count": 633,
   "id": "f0e1e6ef",
   "metadata": {},
   "outputs": [
    {
     "data": {
      "text/plain": [
       "(738332, 5)"
      ]
     },
     "execution_count": 633,
     "metadata": {},
     "output_type": "execute_result"
    }
   ],
   "source": [
    "df_geolocation.shape"
   ]
  },
  {
   "cell_type": "code",
   "execution_count": 634,
   "id": "eddaef10",
   "metadata": {},
   "outputs": [
    {
     "data": {
      "text/plain": [
       "0"
      ]
     },
     "execution_count": 634,
     "metadata": {},
     "output_type": "execute_result"
    }
   ],
   "source": [
    "df_geolocation.duplicated(keep=False).sum()"
   ]
  },
  {
   "cell_type": "code",
   "execution_count": 635,
   "id": "1f637b16",
   "metadata": {},
   "outputs": [
    {
     "data": {
      "text/html": [
       "<div>\n",
       "<style scoped>\n",
       "    .dataframe tbody tr th:only-of-type {\n",
       "        vertical-align: middle;\n",
       "    }\n",
       "\n",
       "    .dataframe tbody tr th {\n",
       "        vertical-align: top;\n",
       "    }\n",
       "\n",
       "    .dataframe thead th {\n",
       "        text-align: right;\n",
       "    }\n",
       "</style>\n",
       "<table border=\"1\" class=\"dataframe\">\n",
       "  <thead>\n",
       "    <tr style=\"text-align: right;\">\n",
       "      <th></th>\n",
       "      <th>geolocation_zip_code_prefix</th>\n",
       "      <th>geolocation_city</th>\n",
       "      <th>geolocation_state</th>\n",
       "    </tr>\n",
       "  </thead>\n",
       "  <tbody>\n",
       "    <tr>\n",
       "      <th>count</th>\n",
       "      <td>738332</td>\n",
       "      <td>738332</td>\n",
       "      <td>738332</td>\n",
       "    </tr>\n",
       "    <tr>\n",
       "      <th>unique</th>\n",
       "      <td>19015</td>\n",
       "      <td>8011</td>\n",
       "      <td>27</td>\n",
       "    </tr>\n",
       "    <tr>\n",
       "      <th>top</th>\n",
       "      <td>38400</td>\n",
       "      <td>sao paulo</td>\n",
       "      <td>SP</td>\n",
       "    </tr>\n",
       "    <tr>\n",
       "      <th>freq</th>\n",
       "      <td>779</td>\n",
       "      <td>79927</td>\n",
       "      <td>285976</td>\n",
       "    </tr>\n",
       "  </tbody>\n",
       "</table>\n",
       "</div>"
      ],
      "text/plain": [
       "        geolocation_zip_code_prefix geolocation_city geolocation_state\n",
       "count                        738332           738332            738332\n",
       "unique                        19015             8011                27\n",
       "top                           38400        sao paulo                SP\n",
       "freq                            779            79927            285976"
      ]
     },
     "execution_count": 635,
     "metadata": {},
     "output_type": "execute_result"
    }
   ],
   "source": [
    "df_geolocation.describe(include=['category'])"
   ]
  },
  {
   "cell_type": "code",
   "execution_count": 636,
   "id": "fef2f962",
   "metadata": {},
   "outputs": [
    {
     "data": {
      "text/html": [
       "<div>\n",
       "<style scoped>\n",
       "    .dataframe tbody tr th:only-of-type {\n",
       "        vertical-align: middle;\n",
       "    }\n",
       "\n",
       "    .dataframe tbody tr th {\n",
       "        vertical-align: top;\n",
       "    }\n",
       "\n",
       "    .dataframe thead th {\n",
       "        text-align: right;\n",
       "    }\n",
       "</style>\n",
       "<table border=\"1\" class=\"dataframe\">\n",
       "  <thead>\n",
       "    <tr style=\"text-align: right;\">\n",
       "      <th></th>\n",
       "      <th>geolocation_zip_code_prefix</th>\n",
       "      <th>geolocation_lat</th>\n",
       "      <th>geolocation_lng</th>\n",
       "      <th>geolocation_city</th>\n",
       "      <th>geolocation_state</th>\n",
       "    </tr>\n",
       "  </thead>\n",
       "  <tbody>\n",
       "    <tr>\n",
       "      <th>0</th>\n",
       "      <td>1037</td>\n",
       "      <td>-23.545621</td>\n",
       "      <td>-46.639292</td>\n",
       "      <td>sao paulo</td>\n",
       "      <td>SP</td>\n",
       "    </tr>\n",
       "    <tr>\n",
       "      <th>1</th>\n",
       "      <td>1046</td>\n",
       "      <td>-23.546081</td>\n",
       "      <td>-46.644820</td>\n",
       "      <td>sao paulo</td>\n",
       "      <td>SP</td>\n",
       "    </tr>\n",
       "    <tr>\n",
       "      <th>2</th>\n",
       "      <td>1046</td>\n",
       "      <td>-23.546129</td>\n",
       "      <td>-46.642951</td>\n",
       "      <td>sao paulo</td>\n",
       "      <td>SP</td>\n",
       "    </tr>\n",
       "    <tr>\n",
       "      <th>3</th>\n",
       "      <td>1041</td>\n",
       "      <td>-23.544392</td>\n",
       "      <td>-46.639499</td>\n",
       "      <td>sao paulo</td>\n",
       "      <td>SP</td>\n",
       "    </tr>\n",
       "    <tr>\n",
       "      <th>4</th>\n",
       "      <td>1035</td>\n",
       "      <td>-23.541578</td>\n",
       "      <td>-46.641607</td>\n",
       "      <td>sao paulo</td>\n",
       "      <td>SP</td>\n",
       "    </tr>\n",
       "  </tbody>\n",
       "</table>\n",
       "</div>"
      ],
      "text/plain": [
       "  geolocation_zip_code_prefix  geolocation_lat  geolocation_lng  \\\n",
       "0                        1037       -23.545621       -46.639292   \n",
       "1                        1046       -23.546081       -46.644820   \n",
       "2                        1046       -23.546129       -46.642951   \n",
       "3                        1041       -23.544392       -46.639499   \n",
       "4                        1035       -23.541578       -46.641607   \n",
       "\n",
       "  geolocation_city geolocation_state  \n",
       "0        sao paulo                SP  \n",
       "1        sao paulo                SP  \n",
       "2        sao paulo                SP  \n",
       "3        sao paulo                SP  \n",
       "4        sao paulo                SP  "
      ]
     },
     "execution_count": 636,
     "metadata": {},
     "output_type": "execute_result"
    }
   ],
   "source": [
    "df_geolocation.head()"
   ]
  },
  {
   "cell_type": "code",
   "execution_count": 637,
   "id": "05cbfb52",
   "metadata": {},
   "outputs": [
    {
     "data": {
      "text/plain": [
       "Text(0, 0.5, 'No. of record in each state')"
      ]
     },
     "execution_count": 637,
     "metadata": {},
     "output_type": "execute_result"
    },
    {
     "data": {
      "image/png": "[encoded data removed]",
      "text/plain": [
       "<Figure size 1080x576 with 1 Axes>"
      ]
     },
     "metadata": {
      "needs_background": "light"
     },
     "output_type": "display_data"
    }
   ],
   "source": [
    "# plotting state distribution\n",
    "plt.figure(figsize=(15,8))\n",
    "sns.countplot(x='geolocation_state', data=df_geolocation)\n",
    "plt.title('State Distribution')\n",
    "plt.xlabel('State')\n",
    "plt.ylabel('No. of record in each state')"
   ]
  },
  {
   "cell_type": "markdown",
   "id": "1bbb0e35",
   "metadata": {},
   "source": [
    "### Item Table (olist_order_items_dataset)"
   ]
  },
  {
   "cell_type": "code",
   "execution_count": 638,
   "id": "d9f1e6d2",
   "metadata": {},
   "outputs": [
    {
     "data": {
      "text/html": [
       "<div>\n",
       "<style scoped>\n",
       "    .dataframe tbody tr th:only-of-type {\n",
       "        vertical-align: middle;\n",
       "    }\n",
       "\n",
       "    .dataframe tbody tr th {\n",
       "        vertical-align: top;\n",
       "    }\n",
       "\n",
       "    .dataframe thead th {\n",
       "        text-align: right;\n",
       "    }\n",
       "</style>\n",
       "<table border=\"1\" class=\"dataframe\">\n",
       "  <thead>\n",
       "    <tr style=\"text-align: right;\">\n",
       "      <th></th>\n",
       "      <th>order_id</th>\n",
       "      <th>order_item_id</th>\n",
       "      <th>product_id</th>\n",
       "      <th>seller_id</th>\n",
       "      <th>shipping_limit_date</th>\n",
       "      <th>price</th>\n",
       "      <th>freight_value</th>\n",
       "    </tr>\n",
       "  </thead>\n",
       "  <tbody>\n",
       "    <tr>\n",
       "      <th>0</th>\n",
       "      <td>00010242fe8c5a6d1ba2dd792cb16214</td>\n",
       "      <td>1</td>\n",
       "      <td>4244733e06e7ecb4970a6e2683c13e61</td>\n",
       "      <td>48436dade18ac8b2bce089ec2a041202</td>\n",
       "      <td>2017-09-19 09:45:35</td>\n",
       "      <td>58.90</td>\n",
       "      <td>13.29</td>\n",
       "    </tr>\n",
       "    <tr>\n",
       "      <th>1</th>\n",
       "      <td>00018f77f2f0320c557190d7a144bdd3</td>\n",
       "      <td>1</td>\n",
       "      <td>e5f2d52b802189ee658865ca93d83a8f</td>\n",
       "      <td>dd7ddc04e1b6c2c614352b383efe2d36</td>\n",
       "      <td>2017-05-03 11:05:13</td>\n",
       "      <td>239.90</td>\n",
       "      <td>19.93</td>\n",
       "    </tr>\n",
       "    <tr>\n",
       "      <th>2</th>\n",
       "      <td>000229ec398224ef6ca0657da4fc703e</td>\n",
       "      <td>1</td>\n",
       "      <td>c777355d18b72b67abbeef9df44fd0fd</td>\n",
       "      <td>5b51032eddd242adc84c38acab88f23d</td>\n",
       "      <td>2018-01-18 14:48:30</td>\n",
       "      <td>199.00</td>\n",
       "      <td>17.87</td>\n",
       "    </tr>\n",
       "    <tr>\n",
       "      <th>3</th>\n",
       "      <td>00024acbcdf0a6daa1e931b038114c75</td>\n",
       "      <td>1</td>\n",
       "      <td>7634da152a4610f1595efa32f14722fc</td>\n",
       "      <td>9d7a1d34a5052409006425275ba1c2b4</td>\n",
       "      <td>2018-08-15 10:10:18</td>\n",
       "      <td>12.99</td>\n",
       "      <td>12.79</td>\n",
       "    </tr>\n",
       "    <tr>\n",
       "      <th>4</th>\n",
       "      <td>00042b26cf59d7ce69dfabb4e55b4fd9</td>\n",
       "      <td>1</td>\n",
       "      <td>ac6c3623068f30de03045865e4e10089</td>\n",
       "      <td>df560393f3a51e74553ab94004ba5c87</td>\n",
       "      <td>2017-02-13 13:57:51</td>\n",
       "      <td>199.90</td>\n",
       "      <td>18.14</td>\n",
       "    </tr>\n",
       "  </tbody>\n",
       "</table>\n",
       "</div>"
      ],
      "text/plain": [
       "                           order_id  order_item_id  \\\n",
       "0  00010242fe8c5a6d1ba2dd792cb16214              1   \n",
       "1  00018f77f2f0320c557190d7a144bdd3              1   \n",
       "2  000229ec398224ef6ca0657da4fc703e              1   \n",
       "3  00024acbcdf0a6daa1e931b038114c75              1   \n",
       "4  00042b26cf59d7ce69dfabb4e55b4fd9              1   \n",
       "\n",
       "                         product_id                         seller_id  \\\n",
       "0  4244733e06e7ecb4970a6e2683c13e61  48436dade18ac8b2bce089ec2a041202   \n",
       "1  e5f2d52b802189ee658865ca93d83a8f  dd7ddc04e1b6c2c614352b383efe2d36   \n",
       "2  c777355d18b72b67abbeef9df44fd0fd  5b51032eddd242adc84c38acab88f23d   \n",
       "3  7634da152a4610f1595efa32f14722fc  9d7a1d34a5052409006425275ba1c2b4   \n",
       "4  ac6c3623068f30de03045865e4e10089  df560393f3a51e74553ab94004ba5c87   \n",
       "\n",
       "   shipping_limit_date   price  freight_value  \n",
       "0  2017-09-19 09:45:35   58.90          13.29  \n",
       "1  2017-05-03 11:05:13  239.90          19.93  \n",
       "2  2018-01-18 14:48:30  199.00          17.87  \n",
       "3  2018-08-15 10:10:18   12.99          12.79  \n",
       "4  2017-02-13 13:57:51  199.90          18.14  "
      ]
     },
     "execution_count": 638,
     "metadata": {},
     "output_type": "execute_result"
    }
   ],
   "source": [
    "# viewing the first 5 rows of the dataset\n",
    "df_item.head()"
   ]
  },
  {
   "cell_type": "code",
   "execution_count": 639,
   "id": "3b4b2d46",
   "metadata": {},
   "outputs": [
    {
     "name": "stdout",
     "output_type": "stream",
     "text": [
      "<class 'pandas.core.frame.DataFrame'>\n",
      "RangeIndex: 112650 entries, 0 to 112649\n",
      "Data columns (total 7 columns):\n",
      " #   Column               Non-Null Count   Dtype  \n",
      "---  ------               --------------   -----  \n",
      " 0   order_id             112650 non-null  object \n",
      " 1   order_item_id        112650 non-null  int64  \n",
      " 2   product_id           112650 non-null  object \n",
      " 3   seller_id            112650 non-null  object \n",
      " 4   shipping_limit_date  112650 non-null  object \n",
      " 5   price                112650 non-null  float64\n",
      " 6   freight_value        112650 non-null  float64\n",
      "dtypes: float64(2), int64(1), object(4)\n",
      "memory usage: 6.0+ MB\n"
     ]
    }
   ],
   "source": [
    "df_item.info()"
   ]
  },
  {
   "cell_type": "code",
   "execution_count": 640,
   "id": "78c11285",
   "metadata": {},
   "outputs": [],
   "source": [
    "df_item[\"shipping_limit_date\"] = pd.to_datetime(df_item[\"shipping_limit_date\"], format='%Y-%m-%d %H:%M:%S')"
   ]
  },
  {
   "cell_type": "code",
   "execution_count": 641,
   "id": "402d50ac",
   "metadata": {},
   "outputs": [
    {
     "name": "stdout",
     "output_type": "stream",
     "text": [
      "<class 'pandas.core.frame.DataFrame'>\n",
      "RangeIndex: 112650 entries, 0 to 112649\n",
      "Data columns (total 7 columns):\n",
      " #   Column               Non-Null Count   Dtype         \n",
      "---  ------               --------------   -----         \n",
      " 0   order_id             112650 non-null  object        \n",
      " 1   order_item_id        112650 non-null  int64         \n",
      " 2   product_id           112650 non-null  object        \n",
      " 3   seller_id            112650 non-null  object        \n",
      " 4   shipping_limit_date  112650 non-null  datetime64[ns]\n",
      " 5   price                112650 non-null  float64       \n",
      " 6   freight_value        112650 non-null  float64       \n",
      "dtypes: datetime64[ns](1), float64(2), int64(1), object(3)\n",
      "memory usage: 6.0+ MB\n"
     ]
    }
   ],
   "source": [
    "df_item.info()"
   ]
  },
  {
   "cell_type": "code",
   "execution_count": 642,
   "id": "a37e29ff",
   "metadata": {},
   "outputs": [
    {
     "data": {
      "text/plain": [
       "0"
      ]
     },
     "execution_count": 642,
     "metadata": {},
     "output_type": "execute_result"
    }
   ],
   "source": [
    "#check duplicated row\n",
    "#By setting keep on False, all duplicates are True.\n",
    "df_item.duplicated(keep=False).sum()"
   ]
  },
  {
   "cell_type": "code",
   "execution_count": 643,
   "id": "9982278d",
   "metadata": {},
   "outputs": [
    {
     "data": {
      "text/plain": [
       "order_id               0\n",
       "order_item_id          0\n",
       "product_id             0\n",
       "seller_id              0\n",
       "shipping_limit_date    0\n",
       "price                  0\n",
       "freight_value          0\n",
       "dtype: int64"
      ]
     },
     "execution_count": 643,
     "metadata": {},
     "output_type": "execute_result"
    }
   ],
   "source": [
    "# checking for missing values\n",
    "df_item.isnull().sum()"
   ]
  },
  {
   "cell_type": "code",
   "execution_count": 644,
   "id": "6ae5310d",
   "metadata": {},
   "outputs": [
    {
     "data": {
      "text/html": [
       "<div>\n",
       "<style scoped>\n",
       "    .dataframe tbody tr th:only-of-type {\n",
       "        vertical-align: middle;\n",
       "    }\n",
       "\n",
       "    .dataframe tbody tr th {\n",
       "        vertical-align: top;\n",
       "    }\n",
       "\n",
       "    .dataframe thead th {\n",
       "        text-align: right;\n",
       "    }\n",
       "</style>\n",
       "<table border=\"1\" class=\"dataframe\">\n",
       "  <thead>\n",
       "    <tr style=\"text-align: right;\">\n",
       "      <th></th>\n",
       "      <th>order_item_id</th>\n",
       "      <th>price</th>\n",
       "      <th>freight_value</th>\n",
       "    </tr>\n",
       "  </thead>\n",
       "  <tbody>\n",
       "    <tr>\n",
       "      <th>count</th>\n",
       "      <td>112650.000000</td>\n",
       "      <td>112650.000000</td>\n",
       "      <td>112650.000000</td>\n",
       "    </tr>\n",
       "    <tr>\n",
       "      <th>mean</th>\n",
       "      <td>1.197834</td>\n",
       "      <td>120.653739</td>\n",
       "      <td>19.990320</td>\n",
       "    </tr>\n",
       "    <tr>\n",
       "      <th>std</th>\n",
       "      <td>0.705124</td>\n",
       "      <td>183.633928</td>\n",
       "      <td>15.806405</td>\n",
       "    </tr>\n",
       "    <tr>\n",
       "      <th>min</th>\n",
       "      <td>1.000000</td>\n",
       "      <td>0.850000</td>\n",
       "      <td>0.000000</td>\n",
       "    </tr>\n",
       "    <tr>\n",
       "      <th>25%</th>\n",
       "      <td>1.000000</td>\n",
       "      <td>39.900000</td>\n",
       "      <td>13.080000</td>\n",
       "    </tr>\n",
       "    <tr>\n",
       "      <th>50%</th>\n",
       "      <td>1.000000</td>\n",
       "      <td>74.990000</td>\n",
       "      <td>16.260000</td>\n",
       "    </tr>\n",
       "    <tr>\n",
       "      <th>75%</th>\n",
       "      <td>1.000000</td>\n",
       "      <td>134.900000</td>\n",
       "      <td>21.150000</td>\n",
       "    </tr>\n",
       "    <tr>\n",
       "      <th>max</th>\n",
       "      <td>21.000000</td>\n",
       "      <td>6735.000000</td>\n",
       "      <td>409.680000</td>\n",
       "    </tr>\n",
       "  </tbody>\n",
       "</table>\n",
       "</div>"
      ],
      "text/plain": [
       "       order_item_id          price  freight_value\n",
       "count  112650.000000  112650.000000  112650.000000\n",
       "mean        1.197834     120.653739      19.990320\n",
       "std         0.705124     183.633928      15.806405\n",
       "min         1.000000       0.850000       0.000000\n",
       "25%         1.000000      39.900000      13.080000\n",
       "50%         1.000000      74.990000      16.260000\n",
       "75%         1.000000     134.900000      21.150000\n",
       "max        21.000000    6735.000000     409.680000"
      ]
     },
     "execution_count": 644,
     "metadata": {},
     "output_type": "execute_result"
    }
   ],
   "source": [
    "df_item.describe()"
   ]
  },
  {
   "cell_type": "code",
   "execution_count": 645,
   "id": "6157efda",
   "metadata": {},
   "outputs": [
    {
     "data": {
      "text/html": [
       "<div>\n",
       "<style scoped>\n",
       "    .dataframe tbody tr th:only-of-type {\n",
       "        vertical-align: middle;\n",
       "    }\n",
       "\n",
       "    .dataframe tbody tr th {\n",
       "        vertical-align: top;\n",
       "    }\n",
       "\n",
       "    .dataframe thead th {\n",
       "        text-align: right;\n",
       "    }\n",
       "</style>\n",
       "<table border=\"1\" class=\"dataframe\">\n",
       "  <thead>\n",
       "    <tr style=\"text-align: right;\">\n",
       "      <th></th>\n",
       "      <th>order_id</th>\n",
       "      <th>product_id</th>\n",
       "      <th>seller_id</th>\n",
       "    </tr>\n",
       "  </thead>\n",
       "  <tbody>\n",
       "    <tr>\n",
       "      <th>count</th>\n",
       "      <td>112650</td>\n",
       "      <td>112650</td>\n",
       "      <td>112650</td>\n",
       "    </tr>\n",
       "    <tr>\n",
       "      <th>unique</th>\n",
       "      <td>98666</td>\n",
       "      <td>32951</td>\n",
       "      <td>3095</td>\n",
       "    </tr>\n",
       "    <tr>\n",
       "      <th>top</th>\n",
       "      <td>8272b63d03f5f79c56e9e4120aec44ef</td>\n",
       "      <td>aca2eb7d00ea1a7b8ebd4e68314663af</td>\n",
       "      <td>6560211a19b47992c3666cc44a7e94c0</td>\n",
       "    </tr>\n",
       "    <tr>\n",
       "      <th>freq</th>\n",
       "      <td>21</td>\n",
       "      <td>527</td>\n",
       "      <td>2033</td>\n",
       "    </tr>\n",
       "  </tbody>\n",
       "</table>\n",
       "</div>"
      ],
      "text/plain": [
       "                                order_id                        product_id  \\\n",
       "count                             112650                            112650   \n",
       "unique                             98666                             32951   \n",
       "top     8272b63d03f5f79c56e9e4120aec44ef  aca2eb7d00ea1a7b8ebd4e68314663af   \n",
       "freq                                  21                               527   \n",
       "\n",
       "                               seller_id  \n",
       "count                             112650  \n",
       "unique                              3095  \n",
       "top     6560211a19b47992c3666cc44a7e94c0  \n",
       "freq                                2033  "
      ]
     },
     "execution_count": 645,
     "metadata": {},
     "output_type": "execute_result"
    }
   ],
   "source": [
    "df_item.describe(include=['object'])"
   ]
  },
  {
   "cell_type": "code",
   "execution_count": 646,
   "id": "ad1d00bf",
   "metadata": {},
   "outputs": [
    {
     "data": {
      "text/plain": [
       "Text(0.5, 0, 'Price')"
      ]
     },
     "execution_count": 646,
     "metadata": {},
     "output_type": "execute_result"
    },
    {
     "data": {
      "image/png": "[encoded data removed]",
      "text/plain": [
       "<Figure size 1080x576 with 1 Axes>"
      ]
     },
     "metadata": {
      "needs_background": "light"
     },
     "output_type": "display_data"
    }
   ],
   "source": [
    "# plotting the distribution of price\n",
    "plt.figure(figsize=(15,8))\n",
    "sns.histplot(x='price', data=df_item)\n",
    "plt.title('Distribution of Price')\n",
    "plt.xlabel('Price')"
   ]
  },
  {
   "cell_type": "code",
   "execution_count": 647,
   "id": "371f06f5",
   "metadata": {},
   "outputs": [
    {
     "data": {
      "text/plain": [
       "Text(0.5, 0, 'Freight Value')"
      ]
     },
     "execution_count": 647,
     "metadata": {},
     "output_type": "execute_result"
    },
    {
     "data": {
      "image/png": "[encoded data removed]",
      "text/plain": [
       "<Figure size 1080x576 with 1 Axes>"
      ]
     },
     "metadata": {
      "needs_background": "light"
     },
     "output_type": "display_data"
    }
   ],
   "source": [
    "# plotting the distribution of freight value\n",
    "plt.figure(figsize=(15,8))\n",
    "sns.histplot(x='freight_value', data=df_item)\n",
    "plt.title('Distribution of Freight Value')\n",
    "plt.xlabel('Freight Value')"
   ]
  },
  {
   "cell_type": "markdown",
   "id": "1646f065",
   "metadata": {},
   "source": [
    "### Payment Table (olist_order_payments_dataset)"
   ]
  },
  {
   "cell_type": "code",
   "execution_count": 648,
   "id": "9958f28d",
   "metadata": {},
   "outputs": [
    {
     "data": {
      "text/html": [
       "<div>\n",
       "<style scoped>\n",
       "    .dataframe tbody tr th:only-of-type {\n",
       "        vertical-align: middle;\n",
       "    }\n",
       "\n",
       "    .dataframe tbody tr th {\n",
       "        vertical-align: top;\n",
       "    }\n",
       "\n",
       "    .dataframe thead th {\n",
       "        text-align: right;\n",
       "    }\n",
       "</style>\n",
       "<table border=\"1\" class=\"dataframe\">\n",
       "  <thead>\n",
       "    <tr style=\"text-align: right;\">\n",
       "      <th></th>\n",
       "      <th>order_id</th>\n",
       "      <th>payment_sequential</th>\n",
       "      <th>payment_type</th>\n",
       "      <th>payment_installments</th>\n",
       "      <th>payment_value</th>\n",
       "    </tr>\n",
       "  </thead>\n",
       "  <tbody>\n",
       "    <tr>\n",
       "      <th>0</th>\n",
       "      <td>b81ef226f3fe1789b1e8b2acac839d17</td>\n",
       "      <td>1</td>\n",
       "      <td>credit_card</td>\n",
       "      <td>8</td>\n",
       "      <td>99.33</td>\n",
       "    </tr>\n",
       "    <tr>\n",
       "      <th>1</th>\n",
       "      <td>a9810da82917af2d9aefd1278f1dcfa0</td>\n",
       "      <td>1</td>\n",
       "      <td>credit_card</td>\n",
       "      <td>1</td>\n",
       "      <td>24.39</td>\n",
       "    </tr>\n",
       "    <tr>\n",
       "      <th>2</th>\n",
       "      <td>25e8ea4e93396b6fa0d3dd708e76c1bd</td>\n",
       "      <td>1</td>\n",
       "      <td>credit_card</td>\n",
       "      <td>1</td>\n",
       "      <td>65.71</td>\n",
       "    </tr>\n",
       "    <tr>\n",
       "      <th>3</th>\n",
       "      <td>ba78997921bbcdc1373bb41e913ab953</td>\n",
       "      <td>1</td>\n",
       "      <td>credit_card</td>\n",
       "      <td>8</td>\n",
       "      <td>107.78</td>\n",
       "    </tr>\n",
       "    <tr>\n",
       "      <th>4</th>\n",
       "      <td>42fdf880ba16b47b59251dd489d4441a</td>\n",
       "      <td>1</td>\n",
       "      <td>credit_card</td>\n",
       "      <td>2</td>\n",
       "      <td>128.45</td>\n",
       "    </tr>\n",
       "  </tbody>\n",
       "</table>\n",
       "</div>"
      ],
      "text/plain": [
       "                           order_id  payment_sequential payment_type  \\\n",
       "0  b81ef226f3fe1789b1e8b2acac839d17                   1  credit_card   \n",
       "1  a9810da82917af2d9aefd1278f1dcfa0                   1  credit_card   \n",
       "2  25e8ea4e93396b6fa0d3dd708e76c1bd                   1  credit_card   \n",
       "3  ba78997921bbcdc1373bb41e913ab953                   1  credit_card   \n",
       "4  42fdf880ba16b47b59251dd489d4441a                   1  credit_card   \n",
       "\n",
       "   payment_installments  payment_value  \n",
       "0                     8          99.33  \n",
       "1                     1          24.39  \n",
       "2                     1          65.71  \n",
       "3                     8         107.78  \n",
       "4                     2         128.45  "
      ]
     },
     "execution_count": 648,
     "metadata": {},
     "output_type": "execute_result"
    }
   ],
   "source": [
    "# viewing the first 5 rows of the dataset\n",
    "df_order_pay.head()"
   ]
  },
  {
   "cell_type": "code",
   "execution_count": 649,
   "id": "0d9b16ad",
   "metadata": {},
   "outputs": [
    {
     "data": {
      "text/plain": [
       "order_id                0\n",
       "payment_sequential      0\n",
       "payment_type            0\n",
       "payment_installments    0\n",
       "payment_value           0\n",
       "dtype: int64"
      ]
     },
     "execution_count": 649,
     "metadata": {},
     "output_type": "execute_result"
    }
   ],
   "source": [
    "# checking for missing values\n",
    "df_order_pay.isnull().sum()"
   ]
  },
  {
   "cell_type": "code",
   "execution_count": 650,
   "id": "b9be863b",
   "metadata": {},
   "outputs": [
    {
     "name": "stdout",
     "output_type": "stream",
     "text": [
      "<class 'pandas.core.frame.DataFrame'>\n",
      "RangeIndex: 103886 entries, 0 to 103885\n",
      "Data columns (total 5 columns):\n",
      " #   Column                Non-Null Count   Dtype  \n",
      "---  ------                --------------   -----  \n",
      " 0   order_id              103886 non-null  object \n",
      " 1   payment_sequential    103886 non-null  int64  \n",
      " 2   payment_type          103886 non-null  object \n",
      " 3   payment_installments  103886 non-null  int64  \n",
      " 4   payment_value         103886 non-null  float64\n",
      "dtypes: float64(1), int64(2), object(2)\n",
      "memory usage: 4.0+ MB\n"
     ]
    }
   ],
   "source": [
    "df_order_pay.info()"
   ]
  },
  {
   "cell_type": "code",
   "execution_count": 651,
   "id": "f07ca21a",
   "metadata": {},
   "outputs": [
    {
     "data": {
      "text/plain": [
       "array([ 8,  1,  2,  3,  6,  5,  4, 10,  7, 12,  9, 13, 15, 24, 11, 18, 14,\n",
       "       20, 21, 17, 22,  0, 16, 23], dtype=int64)"
      ]
     },
     "execution_count": 651,
     "metadata": {},
     "output_type": "execute_result"
    }
   ],
   "source": [
    "df_order_pay['payment_installments'].unique()"
   ]
  },
  {
   "cell_type": "code",
   "execution_count": 652,
   "id": "28c994eb",
   "metadata": {},
   "outputs": [
    {
     "data": {
      "text/plain": [
       "array([ 1,  2,  4,  5,  3,  8,  6,  7, 10, 11, 17, 19, 27, 12,  9, 15, 13,\n",
       "       14, 16, 25, 22, 26, 29, 28, 18, 21, 24, 23, 20], dtype=int64)"
      ]
     },
     "execution_count": 652,
     "metadata": {},
     "output_type": "execute_result"
    }
   ],
   "source": [
    "df_order_pay['payment_sequential'].unique()"
   ]
  },
  {
   "cell_type": "code",
   "execution_count": 653,
   "id": "70b7e462",
   "metadata": {},
   "outputs": [
    {
     "data": {
      "text/plain": [
       "array(['credit_card', 'boleto', 'voucher', 'debit_card', 'not_defined'],\n",
       "      dtype=object)"
      ]
     },
     "execution_count": 653,
     "metadata": {},
     "output_type": "execute_result"
    }
   ],
   "source": [
    "df_order_pay['payment_type'].unique()"
   ]
  },
  {
   "cell_type": "code",
   "execution_count": 654,
   "id": "e5879c3c",
   "metadata": {},
   "outputs": [],
   "source": [
    "df_order_pay['payment_type'] = df_order_pay['payment_type'].astype('category')"
   ]
  },
  {
   "cell_type": "code",
   "execution_count": 655,
   "id": "b7c11fe1",
   "metadata": {},
   "outputs": [
    {
     "name": "stdout",
     "output_type": "stream",
     "text": [
      "<class 'pandas.core.frame.DataFrame'>\n",
      "RangeIndex: 103886 entries, 0 to 103885\n",
      "Data columns (total 5 columns):\n",
      " #   Column                Non-Null Count   Dtype   \n",
      "---  ------                --------------   -----   \n",
      " 0   order_id              103886 non-null  object  \n",
      " 1   payment_sequential    103886 non-null  int64   \n",
      " 2   payment_type          103886 non-null  category\n",
      " 3   payment_installments  103886 non-null  int64   \n",
      " 4   payment_value         103886 non-null  float64 \n",
      "dtypes: category(1), float64(1), int64(2), object(1)\n",
      "memory usage: 3.3+ MB\n"
     ]
    }
   ],
   "source": [
    "df_order_pay.info()"
   ]
  },
  {
   "cell_type": "code",
   "execution_count": 656,
   "id": "b2f153d5",
   "metadata": {},
   "outputs": [
    {
     "data": {
      "text/plain": [
       "0"
      ]
     },
     "execution_count": 656,
     "metadata": {},
     "output_type": "execute_result"
    }
   ],
   "source": [
    "#check duplicated row\n",
    "#By setting keep on False, all duplicates are True.\n",
    "df_order_pay.duplicated(keep=False).sum()"
   ]
  },
  {
   "cell_type": "code",
   "execution_count": 657,
   "id": "fc53f2ba",
   "metadata": {},
   "outputs": [
    {
     "data": {
      "text/html": [
       "<div>\n",
       "<style scoped>\n",
       "    .dataframe tbody tr th:only-of-type {\n",
       "        vertical-align: middle;\n",
       "    }\n",
       "\n",
       "    .dataframe tbody tr th {\n",
       "        vertical-align: top;\n",
       "    }\n",
       "\n",
       "    .dataframe thead th {\n",
       "        text-align: right;\n",
       "    }\n",
       "</style>\n",
       "<table border=\"1\" class=\"dataframe\">\n",
       "  <thead>\n",
       "    <tr style=\"text-align: right;\">\n",
       "      <th></th>\n",
       "      <th>payment_sequential</th>\n",
       "      <th>payment_installments</th>\n",
       "      <th>payment_value</th>\n",
       "    </tr>\n",
       "  </thead>\n",
       "  <tbody>\n",
       "    <tr>\n",
       "      <th>count</th>\n",
       "      <td>103886.000000</td>\n",
       "      <td>103886.000000</td>\n",
       "      <td>103886.000000</td>\n",
       "    </tr>\n",
       "    <tr>\n",
       "      <th>mean</th>\n",
       "      <td>1.092679</td>\n",
       "      <td>2.853349</td>\n",
       "      <td>154.100380</td>\n",
       "    </tr>\n",
       "    <tr>\n",
       "      <th>std</th>\n",
       "      <td>0.706584</td>\n",
       "      <td>2.687051</td>\n",
       "      <td>217.494064</td>\n",
       "    </tr>\n",
       "    <tr>\n",
       "      <th>min</th>\n",
       "      <td>1.000000</td>\n",
       "      <td>0.000000</td>\n",
       "      <td>0.000000</td>\n",
       "    </tr>\n",
       "    <tr>\n",
       "      <th>25%</th>\n",
       "      <td>1.000000</td>\n",
       "      <td>1.000000</td>\n",
       "      <td>56.790000</td>\n",
       "    </tr>\n",
       "    <tr>\n",
       "      <th>50%</th>\n",
       "      <td>1.000000</td>\n",
       "      <td>1.000000</td>\n",
       "      <td>100.000000</td>\n",
       "    </tr>\n",
       "    <tr>\n",
       "      <th>75%</th>\n",
       "      <td>1.000000</td>\n",
       "      <td>4.000000</td>\n",
       "      <td>171.837500</td>\n",
       "    </tr>\n",
       "    <tr>\n",
       "      <th>max</th>\n",
       "      <td>29.000000</td>\n",
       "      <td>24.000000</td>\n",
       "      <td>13664.080000</td>\n",
       "    </tr>\n",
       "  </tbody>\n",
       "</table>\n",
       "</div>"
      ],
      "text/plain": [
       "       payment_sequential  payment_installments  payment_value\n",
       "count       103886.000000         103886.000000  103886.000000\n",
       "mean             1.092679              2.853349     154.100380\n",
       "std              0.706584              2.687051     217.494064\n",
       "min              1.000000              0.000000       0.000000\n",
       "25%              1.000000              1.000000      56.790000\n",
       "50%              1.000000              1.000000     100.000000\n",
       "75%              1.000000              4.000000     171.837500\n",
       "max             29.000000             24.000000   13664.080000"
      ]
     },
     "execution_count": 657,
     "metadata": {},
     "output_type": "execute_result"
    }
   ],
   "source": [
    "df_order_pay.describe()"
   ]
  },
  {
   "cell_type": "code",
   "execution_count": 658,
   "id": "55882174",
   "metadata": {},
   "outputs": [
    {
     "data": {
      "text/html": [
       "<div>\n",
       "<style scoped>\n",
       "    .dataframe tbody tr th:only-of-type {\n",
       "        vertical-align: middle;\n",
       "    }\n",
       "\n",
       "    .dataframe tbody tr th {\n",
       "        vertical-align: top;\n",
       "    }\n",
       "\n",
       "    .dataframe thead th {\n",
       "        text-align: right;\n",
       "    }\n",
       "</style>\n",
       "<table border=\"1\" class=\"dataframe\">\n",
       "  <thead>\n",
       "    <tr style=\"text-align: right;\">\n",
       "      <th></th>\n",
       "      <th>payment_type</th>\n",
       "    </tr>\n",
       "  </thead>\n",
       "  <tbody>\n",
       "    <tr>\n",
       "      <th>count</th>\n",
       "      <td>103886</td>\n",
       "    </tr>\n",
       "    <tr>\n",
       "      <th>unique</th>\n",
       "      <td>5</td>\n",
       "    </tr>\n",
       "    <tr>\n",
       "      <th>top</th>\n",
       "      <td>credit_card</td>\n",
       "    </tr>\n",
       "    <tr>\n",
       "      <th>freq</th>\n",
       "      <td>76795</td>\n",
       "    </tr>\n",
       "  </tbody>\n",
       "</table>\n",
       "</div>"
      ],
      "text/plain": [
       "       payment_type\n",
       "count        103886\n",
       "unique            5\n",
       "top     credit_card\n",
       "freq          76795"
      ]
     },
     "execution_count": 658,
     "metadata": {},
     "output_type": "execute_result"
    }
   ],
   "source": [
    "df_order_pay.describe(include=['category'])"
   ]
  },
  {
   "cell_type": "code",
   "execution_count": 659,
   "id": "5c4d83e6",
   "metadata": {},
   "outputs": [
    {
     "data": {
      "text/html": [
       "<div>\n",
       "<style scoped>\n",
       "    .dataframe tbody tr th:only-of-type {\n",
       "        vertical-align: middle;\n",
       "    }\n",
       "\n",
       "    .dataframe tbody tr th {\n",
       "        vertical-align: top;\n",
       "    }\n",
       "\n",
       "    .dataframe thead th {\n",
       "        text-align: right;\n",
       "    }\n",
       "</style>\n",
       "<table border=\"1\" class=\"dataframe\">\n",
       "  <thead>\n",
       "    <tr style=\"text-align: right;\">\n",
       "      <th></th>\n",
       "      <th>order_id</th>\n",
       "    </tr>\n",
       "  </thead>\n",
       "  <tbody>\n",
       "    <tr>\n",
       "      <th>count</th>\n",
       "      <td>103886</td>\n",
       "    </tr>\n",
       "    <tr>\n",
       "      <th>unique</th>\n",
       "      <td>99440</td>\n",
       "    </tr>\n",
       "    <tr>\n",
       "      <th>top</th>\n",
       "      <td>fa65dad1b0e818e3ccc5cb0e39231352</td>\n",
       "    </tr>\n",
       "    <tr>\n",
       "      <th>freq</th>\n",
       "      <td>29</td>\n",
       "    </tr>\n",
       "  </tbody>\n",
       "</table>\n",
       "</div>"
      ],
      "text/plain": [
       "                                order_id\n",
       "count                             103886\n",
       "unique                             99440\n",
       "top     fa65dad1b0e818e3ccc5cb0e39231352\n",
       "freq                                  29"
      ]
     },
     "execution_count": 659,
     "metadata": {},
     "output_type": "execute_result"
    }
   ],
   "source": [
    "df_order_pay.describe(include=['object'])"
   ]
  },
  {
   "cell_type": "code",
   "execution_count": 660,
   "id": "70b6bd9a",
   "metadata": {},
   "outputs": [
    {
     "data": {
      "text/plain": [
       "Text(0, 0.5, 'No. of Customers')"
      ]
     },
     "execution_count": 660,
     "metadata": {},
     "output_type": "execute_result"
    },
    {
     "data": {
      "image/png": "[encoded data removed]",
      "text/plain": [
       "<Figure size 1080x576 with 1 Axes>"
      ]
     },
     "metadata": {
      "needs_background": "light"
     },
     "output_type": "display_data"
    }
   ],
   "source": [
    "# analyzing the payment methods chosen by different customers\n",
    "plt.figure(figsize=(15,8))\n",
    "sns.countplot(x='payment_type', data=df_order_pay)\n",
    "plt.title('Analyzing Payment Types')\n",
    "plt.xlabel('Payment Type')\n",
    "plt.ylabel('No. of Customers')"
   ]
  },
  {
   "cell_type": "code",
   "execution_count": 661,
   "id": "06eda822",
   "metadata": {},
   "outputs": [
    {
     "data": {
      "text/plain": [
       "credit_card    76795\n",
       "boleto         19784\n",
       "voucher         5775\n",
       "debit_card      1529\n",
       "not_defined        3\n",
       "Name: payment_type, dtype: int64"
      ]
     },
     "execution_count": 661,
     "metadata": {},
     "output_type": "execute_result"
    }
   ],
   "source": [
    "df_order_pay['payment_type'].value_counts()"
   ]
  },
  {
   "cell_type": "code",
   "execution_count": 662,
   "id": "1a0dd9ee",
   "metadata": {},
   "outputs": [
    {
     "data": {
      "text/plain": [
       "Text(0, 0.5, 'No. of Customers')"
      ]
     },
     "execution_count": 662,
     "metadata": {},
     "output_type": "execute_result"
    },
    {
     "data": {
      "image/png": "[encoded data removed]",
      "text/plain": [
       "<Figure size 1080x576 with 1 Axes>"
      ]
     },
     "metadata": {
      "needs_background": "light"
     },
     "output_type": "display_data"
    }
   ],
   "source": [
    "# plotting the distribution of number of installments\n",
    "plt.figure(figsize=(15,8))\n",
    "sns.countplot(x='payment_installments', data=df_order_pay)\n",
    "plt.title('Analyzing Number of Payment Installments')\n",
    "plt.xlabel('Payment Installments')\n",
    "plt.ylabel('No. of Customers')"
   ]
  },
  {
   "cell_type": "code",
   "execution_count": 663,
   "id": "013ecc2e",
   "metadata": {},
   "outputs": [
    {
     "data": {
      "text/plain": [
       "1     52546\n",
       "2     12413\n",
       "3     10461\n",
       "4      7098\n",
       "10     5328\n",
       "5      5239\n",
       "8      4268\n",
       "6      3920\n",
       "7      1626\n",
       "9       644\n",
       "12      133\n",
       "15       74\n",
       "18       27\n",
       "11       23\n",
       "24       18\n",
       "20       17\n",
       "13       16\n",
       "14       15\n",
       "17        8\n",
       "16        5\n",
       "21        3\n",
       "0         2\n",
       "22        1\n",
       "23        1\n",
       "Name: payment_installments, dtype: int64"
      ]
     },
     "execution_count": 663,
     "metadata": {},
     "output_type": "execute_result"
    }
   ],
   "source": [
    "df_order_pay['payment_installments'].value_counts()"
   ]
  },
  {
   "cell_type": "code",
   "execution_count": 664,
   "id": "0db50b0b",
   "metadata": {},
   "outputs": [
    {
     "data": {
      "text/plain": [
       "Text(0, 0.5, 'No. of Orders')"
      ]
     },
     "execution_count": 664,
     "metadata": {},
     "output_type": "execute_result"
    },
    {
     "data": {
      "image/png": "[encoded data removed]",
      "text/plain": [
       "<Figure size 1080x576 with 1 Axes>"
      ]
     },
     "metadata": {
      "needs_background": "light"
     },
     "output_type": "display_data"
    }
   ],
   "source": [
    "# plotting the distribution of payment value\n",
    "plt.figure(figsize=(15,8))\n",
    "sns.histplot(x='payment_value', data=df_order_pay)\n",
    "plt.title('Analyzing Payment Value')\n",
    "plt.xlabel('Value')\n",
    "plt.ylabel('No. of Orders')"
   ]
  },
  {
   "cell_type": "code",
   "execution_count": 665,
   "id": "197d8c97",
   "metadata": {},
   "outputs": [
    {
     "data": {
      "text/plain": [
       "Text(0, 0.5, '')"
      ]
     },
     "execution_count": 665,
     "metadata": {},
     "output_type": "execute_result"
    },
    {
     "data": {
      "image/png": "[encoded data removed]",
      "text/plain": [
       "<Figure size 648x576 with 1 Axes>"
      ]
     },
     "metadata": {},
     "output_type": "display_data"
    }
   ],
   "source": [
    "fig, ax = plt.subplots(figsize=(9, 8), subplot_kw=dict(aspect=\"equal\"))\n",
    "colors = ['#f45a5a', '#449dfc', '#93f96d', '#f9c86d']\n",
    "legend = [\"Credit Card\", \"Boleto\", \"Voucher\", \"Debit Card\"]\n",
    "\n",
    "p = df_order_pay[\"payment_type\"][df_order_pay[\"payment_type\"] != \"not_defined\"].value_counts()\n",
    "p.plot(kind=\"pie\", legend=False, labels=None, startangle=0, autopct='%1.0f%%', pctdistance=0.6, shadow=True, textprops={'weight':'bold', 'fontsize':16}, \n",
    "       colors=colors, ax=ax)\n",
    "ax.legend(legend, loc='best', shadow=True, prop={'weight':'bold', 'size':12}, bbox_to_anchor=(0.6, 0, 0.5,1))\n",
    "plt.title(\"Paymement methods\", fontweight='bold', size=16)\n",
    "plt.ylabel(\"\")"
   ]
  },
  {
   "cell_type": "markdown",
   "id": "d38b73b9",
   "metadata": {},
   "source": [
    "### Review Table (olist_order_reviews_dataset)"
   ]
  },
  {
   "cell_type": "code",
   "execution_count": 666,
   "id": "cc7ff6bf",
   "metadata": {},
   "outputs": [
    {
     "data": {
      "text/html": [
       "<div>\n",
       "<style scoped>\n",
       "    .dataframe tbody tr th:only-of-type {\n",
       "        vertical-align: middle;\n",
       "    }\n",
       "\n",
       "    .dataframe tbody tr th {\n",
       "        vertical-align: top;\n",
       "    }\n",
       "\n",
       "    .dataframe thead th {\n",
       "        text-align: right;\n",
       "    }\n",
       "</style>\n",
       "<table border=\"1\" class=\"dataframe\">\n",
       "  <thead>\n",
       "    <tr style=\"text-align: right;\">\n",
       "      <th></th>\n",
       "      <th>review_id</th>\n",
       "      <th>order_id</th>\n",
       "      <th>review_score</th>\n",
       "      <th>review_comment_title</th>\n",
       "      <th>review_comment_message</th>\n",
       "      <th>review_creation_date</th>\n",
       "      <th>review_answer_timestamp</th>\n",
       "    </tr>\n",
       "  </thead>\n",
       "  <tbody>\n",
       "    <tr>\n",
       "      <th>0</th>\n",
       "      <td>7bc2406110b926393aa56f80a40eba40</td>\n",
       "      <td>73fc7af87114b39712e6da79b0a377eb</td>\n",
       "      <td>4</td>\n",
       "      <td>NaN</td>\n",
       "      <td>NaN</td>\n",
       "      <td>2018-01-18 00:00:00</td>\n",
       "      <td>2018-01-18 21:46:59</td>\n",
       "    </tr>\n",
       "    <tr>\n",
       "      <th>1</th>\n",
       "      <td>80e641a11e56f04c1ad469d5645fdfde</td>\n",
       "      <td>a548910a1c6147796b98fdf73dbeba33</td>\n",
       "      <td>5</td>\n",
       "      <td>NaN</td>\n",
       "      <td>NaN</td>\n",
       "      <td>2018-03-10 00:00:00</td>\n",
       "      <td>2018-03-11 03:05:13</td>\n",
       "    </tr>\n",
       "    <tr>\n",
       "      <th>2</th>\n",
       "      <td>228ce5500dc1d8e020d8d1322874b6f0</td>\n",
       "      <td>f9e4b658b201a9f2ecdecbb34bed034b</td>\n",
       "      <td>5</td>\n",
       "      <td>NaN</td>\n",
       "      <td>NaN</td>\n",
       "      <td>2018-02-17 00:00:00</td>\n",
       "      <td>2018-02-18 14:36:24</td>\n",
       "    </tr>\n",
       "    <tr>\n",
       "      <th>3</th>\n",
       "      <td>e64fb393e7b32834bb789ff8bb30750e</td>\n",
       "      <td>658677c97b385a9be170737859d3511b</td>\n",
       "      <td>5</td>\n",
       "      <td>NaN</td>\n",
       "      <td>Recebi bem antes do prazo estipulado.</td>\n",
       "      <td>2017-04-21 00:00:00</td>\n",
       "      <td>2017-04-21 22:02:06</td>\n",
       "    </tr>\n",
       "    <tr>\n",
       "      <th>4</th>\n",
       "      <td>f7c4243c7fe1938f181bec41a392bdeb</td>\n",
       "      <td>8e6bfb81e283fa7e4f11123a3fb894f1</td>\n",
       "      <td>5</td>\n",
       "      <td>NaN</td>\n",
       "      <td>Parabéns lojas lannister adorei comprar pela I...</td>\n",
       "      <td>2018-03-01 00:00:00</td>\n",
       "      <td>2018-03-02 10:26:53</td>\n",
       "    </tr>\n",
       "  </tbody>\n",
       "</table>\n",
       "</div>"
      ],
      "text/plain": [
       "                          review_id                          order_id  \\\n",
       "0  7bc2406110b926393aa56f80a40eba40  73fc7af87114b39712e6da79b0a377eb   \n",
       "1  80e641a11e56f04c1ad469d5645fdfde  a548910a1c6147796b98fdf73dbeba33   \n",
       "2  228ce5500dc1d8e020d8d1322874b6f0  f9e4b658b201a9f2ecdecbb34bed034b   \n",
       "3  e64fb393e7b32834bb789ff8bb30750e  658677c97b385a9be170737859d3511b   \n",
       "4  f7c4243c7fe1938f181bec41a392bdeb  8e6bfb81e283fa7e4f11123a3fb894f1   \n",
       "\n",
       "   review_score review_comment_title  \\\n",
       "0             4                  NaN   \n",
       "1             5                  NaN   \n",
       "2             5                  NaN   \n",
       "3             5                  NaN   \n",
       "4             5                  NaN   \n",
       "\n",
       "                              review_comment_message review_creation_date  \\\n",
       "0                                                NaN  2018-01-18 00:00:00   \n",
       "1                                                NaN  2018-03-10 00:00:00   \n",
       "2                                                NaN  2018-02-17 00:00:00   \n",
       "3              Recebi bem antes do prazo estipulado.  2017-04-21 00:00:00   \n",
       "4  Parabéns lojas lannister adorei comprar pela I...  2018-03-01 00:00:00   \n",
       "\n",
       "  review_answer_timestamp  \n",
       "0     2018-01-18 21:46:59  \n",
       "1     2018-03-11 03:05:13  \n",
       "2     2018-02-18 14:36:24  \n",
       "3     2017-04-21 22:02:06  \n",
       "4     2018-03-02 10:26:53  "
      ]
     },
     "execution_count": 666,
     "metadata": {},
     "output_type": "execute_result"
    }
   ],
   "source": [
    "# viewing the first 5 rows of the dataset\n",
    "df_reviews.head()"
   ]
  },
  {
   "cell_type": "code",
   "execution_count": 667,
   "id": "3a37464b",
   "metadata": {},
   "outputs": [
    {
     "name": "stdout",
     "output_type": "stream",
     "text": [
      "<class 'pandas.core.frame.DataFrame'>\n",
      "RangeIndex: 100000 entries, 0 to 99999\n",
      "Data columns (total 7 columns):\n",
      " #   Column                   Non-Null Count   Dtype \n",
      "---  ------                   --------------   ----- \n",
      " 0   review_id                100000 non-null  object\n",
      " 1   order_id                 100000 non-null  object\n",
      " 2   review_score             100000 non-null  int64 \n",
      " 3   review_comment_title     11715 non-null   object\n",
      " 4   review_comment_message   41753 non-null   object\n",
      " 5   review_creation_date     100000 non-null  object\n",
      " 6   review_answer_timestamp  100000 non-null  object\n",
      "dtypes: int64(1), object(6)\n",
      "memory usage: 5.3+ MB\n"
     ]
    }
   ],
   "source": [
    "df_reviews.info()"
   ]
  },
  {
   "cell_type": "code",
   "execution_count": 668,
   "id": "866c7f78",
   "metadata": {},
   "outputs": [],
   "source": [
    "df_reviews[\"review_creation_date\"] = pd.to_datetime(df_reviews[\"review_creation_date\"], format='%Y-%m-%d %H:%M:%S')\n",
    "df_reviews[\"review_answer_timestamp\"] = pd.to_datetime(df_reviews[\"review_answer_timestamp\"], format='%Y-%m-%d %H:%M:%S')"
   ]
  },
  {
   "cell_type": "code",
   "execution_count": 669,
   "id": "df65fef7",
   "metadata": {},
   "outputs": [
    {
     "name": "stdout",
     "output_type": "stream",
     "text": [
      "<class 'pandas.core.frame.DataFrame'>\n",
      "RangeIndex: 100000 entries, 0 to 99999\n",
      "Data columns (total 7 columns):\n",
      " #   Column                   Non-Null Count   Dtype         \n",
      "---  ------                   --------------   -----         \n",
      " 0   review_id                100000 non-null  object        \n",
      " 1   order_id                 100000 non-null  object        \n",
      " 2   review_score             100000 non-null  int64         \n",
      " 3   review_comment_title     11715 non-null   object        \n",
      " 4   review_comment_message   41753 non-null   object        \n",
      " 5   review_creation_date     100000 non-null  datetime64[ns]\n",
      " 6   review_answer_timestamp  100000 non-null  datetime64[ns]\n",
      "dtypes: datetime64[ns](2), int64(1), object(4)\n",
      "memory usage: 5.3+ MB\n"
     ]
    }
   ],
   "source": [
    "df_reviews.info()"
   ]
  },
  {
   "cell_type": "code",
   "execution_count": 670,
   "id": "96641ae7",
   "metadata": {},
   "outputs": [
    {
     "data": {
      "text/plain": [
       "Recomendo                    426\n",
       "recomendo                    346\n",
       "Bom                          294\n",
       "super recomendo              271\n",
       "Excelente                    248\n",
       "                            ... \n",
       "produto com lacre violado      1\n",
       "Atraso Entrega                 1\n",
       "Top Show                       1\n",
       "Foi cancelado                  1\n",
       "Foto enganosa                  1\n",
       "Name: review_comment_title, Length: 4600, dtype: int64"
      ]
     },
     "execution_count": 670,
     "metadata": {},
     "output_type": "execute_result"
    }
   ],
   "source": [
    "df_reviews['review_comment_title'].value_counts()"
   ]
  },
  {
   "cell_type": "code",
   "execution_count": 671,
   "id": "755989a5",
   "metadata": {},
   "outputs": [
    {
     "data": {
      "text/plain": [
       "0"
      ]
     },
     "execution_count": 671,
     "metadata": {},
     "output_type": "execute_result"
    }
   ],
   "source": [
    "#check duplicated row\n",
    "#By setting keep on False, all duplicates are True.\n",
    "df_reviews.duplicated(keep=False).sum()"
   ]
  },
  {
   "cell_type": "code",
   "execution_count": 672,
   "id": "1fa081fb",
   "metadata": {},
   "outputs": [
    {
     "data": {
      "text/plain": [
       "(100000, 7)"
      ]
     },
     "execution_count": 672,
     "metadata": {},
     "output_type": "execute_result"
    }
   ],
   "source": [
    "df_reviews.shape"
   ]
  },
  {
   "cell_type": "code",
   "execution_count": 673,
   "id": "3ff9782f",
   "metadata": {},
   "outputs": [
    {
     "data": {
      "text/html": [
       "<div>\n",
       "<style scoped>\n",
       "    .dataframe tbody tr th:only-of-type {\n",
       "        vertical-align: middle;\n",
       "    }\n",
       "\n",
       "    .dataframe tbody tr th {\n",
       "        vertical-align: top;\n",
       "    }\n",
       "\n",
       "    .dataframe thead th {\n",
       "        text-align: right;\n",
       "    }\n",
       "</style>\n",
       "<table border=\"1\" class=\"dataframe\">\n",
       "  <thead>\n",
       "    <tr style=\"text-align: right;\">\n",
       "      <th></th>\n",
       "      <th>review_score</th>\n",
       "    </tr>\n",
       "  </thead>\n",
       "  <tbody>\n",
       "    <tr>\n",
       "      <th>count</th>\n",
       "      <td>100000.000000</td>\n",
       "    </tr>\n",
       "    <tr>\n",
       "      <th>mean</th>\n",
       "      <td>4.070890</td>\n",
       "    </tr>\n",
       "    <tr>\n",
       "      <th>std</th>\n",
       "      <td>1.359663</td>\n",
       "    </tr>\n",
       "    <tr>\n",
       "      <th>min</th>\n",
       "      <td>1.000000</td>\n",
       "    </tr>\n",
       "    <tr>\n",
       "      <th>25%</th>\n",
       "      <td>4.000000</td>\n",
       "    </tr>\n",
       "    <tr>\n",
       "      <th>50%</th>\n",
       "      <td>5.000000</td>\n",
       "    </tr>\n",
       "    <tr>\n",
       "      <th>75%</th>\n",
       "      <td>5.000000</td>\n",
       "    </tr>\n",
       "    <tr>\n",
       "      <th>max</th>\n",
       "      <td>5.000000</td>\n",
       "    </tr>\n",
       "  </tbody>\n",
       "</table>\n",
       "</div>"
      ],
      "text/plain": [
       "        review_score\n",
       "count  100000.000000\n",
       "mean        4.070890\n",
       "std         1.359663\n",
       "min         1.000000\n",
       "25%         4.000000\n",
       "50%         5.000000\n",
       "75%         5.000000\n",
       "max         5.000000"
      ]
     },
     "execution_count": 673,
     "metadata": {},
     "output_type": "execute_result"
    }
   ],
   "source": [
    "df_reviews.describe()"
   ]
  },
  {
   "cell_type": "code",
   "execution_count": 674,
   "id": "928a6abe",
   "metadata": {},
   "outputs": [
    {
     "data": {
      "text/html": [
       "<div>\n",
       "<style scoped>\n",
       "    .dataframe tbody tr th:only-of-type {\n",
       "        vertical-align: middle;\n",
       "    }\n",
       "\n",
       "    .dataframe tbody tr th {\n",
       "        vertical-align: top;\n",
       "    }\n",
       "\n",
       "    .dataframe thead th {\n",
       "        text-align: right;\n",
       "    }\n",
       "</style>\n",
       "<table border=\"1\" class=\"dataframe\">\n",
       "  <thead>\n",
       "    <tr style=\"text-align: right;\">\n",
       "      <th></th>\n",
       "      <th>review_id</th>\n",
       "      <th>order_id</th>\n",
       "      <th>review_comment_title</th>\n",
       "      <th>review_comment_message</th>\n",
       "    </tr>\n",
       "  </thead>\n",
       "  <tbody>\n",
       "    <tr>\n",
       "      <th>count</th>\n",
       "      <td>100000</td>\n",
       "      <td>100000</td>\n",
       "      <td>11715</td>\n",
       "      <td>41753</td>\n",
       "    </tr>\n",
       "    <tr>\n",
       "      <th>unique</th>\n",
       "      <td>99173</td>\n",
       "      <td>99441</td>\n",
       "      <td>4600</td>\n",
       "      <td>36921</td>\n",
       "    </tr>\n",
       "    <tr>\n",
       "      <th>top</th>\n",
       "      <td>2172867fd5b1a55f98fe4608e1547b4b</td>\n",
       "      <td>03c939fd7fd3b38f8485a0f95798f1f6</td>\n",
       "      <td>Recomendo</td>\n",
       "      <td>Muito bom</td>\n",
       "    </tr>\n",
       "    <tr>\n",
       "      <th>freq</th>\n",
       "      <td>3</td>\n",
       "      <td>3</td>\n",
       "      <td>426</td>\n",
       "      <td>230</td>\n",
       "    </tr>\n",
       "  </tbody>\n",
       "</table>\n",
       "</div>"
      ],
      "text/plain": [
       "                               review_id                          order_id  \\\n",
       "count                             100000                            100000   \n",
       "unique                             99173                             99441   \n",
       "top     2172867fd5b1a55f98fe4608e1547b4b  03c939fd7fd3b38f8485a0f95798f1f6   \n",
       "freq                                   3                                 3   \n",
       "\n",
       "       review_comment_title review_comment_message  \n",
       "count                 11715                  41753  \n",
       "unique                 4600                  36921  \n",
       "top               Recomendo              Muito bom  \n",
       "freq                    426                    230  "
      ]
     },
     "execution_count": 674,
     "metadata": {},
     "output_type": "execute_result"
    }
   ],
   "source": [
    "df_reviews.describe(include=['object'])"
   ]
  },
  {
   "cell_type": "code",
   "execution_count": 675,
   "id": "51e1edf3",
   "metadata": {},
   "outputs": [],
   "source": [
    "# dropping columns with many missing values\n",
    "df_reviews = df_reviews.drop(columns=['review_comment_title', 'review_comment_message'])"
   ]
  },
  {
   "cell_type": "code",
   "execution_count": 676,
   "id": "5cc37047",
   "metadata": {},
   "outputs": [
    {
     "data": {
      "text/plain": [
       "Text(0, 0.5, 'No. of Reviews')"
      ]
     },
     "execution_count": 676,
     "metadata": {},
     "output_type": "execute_result"
    },
    {
     "data": {
      "image/png": "[encoded data removed]",
      "text/plain": [
       "<Figure size 1080x576 with 1 Axes>"
      ]
     },
     "metadata": {
      "needs_background": "light"
     },
     "output_type": "display_data"
    }
   ],
   "source": [
    "# analyzing the review score\n",
    "plt.figure(figsize=(15,8))\n",
    "sns.countplot(x='review_score', data=df_reviews)\n",
    "plt.title('Analyzing Review Score')\n",
    "plt.xlabel('Score')\n",
    "plt.ylabel('No. of Reviews')"
   ]
  },
  {
   "cell_type": "code",
   "execution_count": 677,
   "id": "8761ba65",
   "metadata": {},
   "outputs": [
    {
     "data": {
      "text/plain": [
       "5    57420\n",
       "4    19200\n",
       "1    11858\n",
       "3     8287\n",
       "2     3235\n",
       "Name: review_score, dtype: int64"
      ]
     },
     "execution_count": 677,
     "metadata": {},
     "output_type": "execute_result"
    }
   ],
   "source": [
    "df_reviews['review_score'].value_counts()"
   ]
  },
  {
   "cell_type": "code",
   "execution_count": 678,
   "id": "b4fb0649",
   "metadata": {},
   "outputs": [
    {
     "data": {
      "text/plain": [
       "review_id                  0\n",
       "order_id                   0\n",
       "review_score               0\n",
       "review_creation_date       0\n",
       "review_answer_timestamp    0\n",
       "dtype: int64"
      ]
     },
     "execution_count": 678,
     "metadata": {},
     "output_type": "execute_result"
    }
   ],
   "source": [
    "# checking for missing values\n",
    "df_reviews.isnull().sum()"
   ]
  },
  {
   "cell_type": "markdown",
   "id": "ad749a3f",
   "metadata": {},
   "source": [
    "### Order Table (olist_orders_dataset)"
   ]
  },
  {
   "cell_type": "code",
   "execution_count": 679,
   "id": "316ab8f9",
   "metadata": {},
   "outputs": [
    {
     "data": {
      "text/html": [
       "<div>\n",
       "<style scoped>\n",
       "    .dataframe tbody tr th:only-of-type {\n",
       "        vertical-align: middle;\n",
       "    }\n",
       "\n",
       "    .dataframe tbody tr th {\n",
       "        vertical-align: top;\n",
       "    }\n",
       "\n",
       "    .dataframe thead th {\n",
       "        text-align: right;\n",
       "    }\n",
       "</style>\n",
       "<table border=\"1\" class=\"dataframe\">\n",
       "  <thead>\n",
       "    <tr style=\"text-align: right;\">\n",
       "      <th></th>\n",
       "      <th>order_id</th>\n",
       "      <th>customer_id</th>\n",
       "      <th>order_status</th>\n",
       "      <th>order_purchase_timestamp</th>\n",
       "      <th>order_approved_at</th>\n",
       "      <th>order_delivered_carrier_date</th>\n",
       "      <th>order_delivered_customer_date</th>\n",
       "      <th>order_estimated_delivery_date</th>\n",
       "    </tr>\n",
       "  </thead>\n",
       "  <tbody>\n",
       "    <tr>\n",
       "      <th>0</th>\n",
       "      <td>e481f51cbdc54678b7cc49136f2d6af7</td>\n",
       "      <td>9ef432eb6251297304e76186b10a928d</td>\n",
       "      <td>delivered</td>\n",
       "      <td>2017-10-02 10:56:33</td>\n",
       "      <td>2017-10-02 11:07:15</td>\n",
       "      <td>2017-10-04 19:55:00</td>\n",
       "      <td>2017-10-10 21:25:13</td>\n",
       "      <td>2017-10-18 00:00:00</td>\n",
       "    </tr>\n",
       "    <tr>\n",
       "      <th>1</th>\n",
       "      <td>53cdb2fc8bc7dce0b6741e2150273451</td>\n",
       "      <td>b0830fb4747a6c6d20dea0b8c802d7ef</td>\n",
       "      <td>delivered</td>\n",
       "      <td>2018-07-24 20:41:37</td>\n",
       "      <td>2018-07-26 03:24:27</td>\n",
       "      <td>2018-07-26 14:31:00</td>\n",
       "      <td>2018-08-07 15:27:45</td>\n",
       "      <td>2018-08-13 00:00:00</td>\n",
       "    </tr>\n",
       "    <tr>\n",
       "      <th>2</th>\n",
       "      <td>47770eb9100c2d0c44946d9cf07ec65d</td>\n",
       "      <td>41ce2a54c0b03bf3443c3d931a367089</td>\n",
       "      <td>delivered</td>\n",
       "      <td>2018-08-08 08:38:49</td>\n",
       "      <td>2018-08-08 08:55:23</td>\n",
       "      <td>2018-08-08 13:50:00</td>\n",
       "      <td>2018-08-17 18:06:29</td>\n",
       "      <td>2018-09-04 00:00:00</td>\n",
       "    </tr>\n",
       "    <tr>\n",
       "      <th>3</th>\n",
       "      <td>949d5b44dbf5de918fe9c16f97b45f8a</td>\n",
       "      <td>f88197465ea7920adcdbec7375364d82</td>\n",
       "      <td>delivered</td>\n",
       "      <td>2017-11-18 19:28:06</td>\n",
       "      <td>2017-11-18 19:45:59</td>\n",
       "      <td>2017-11-22 13:39:59</td>\n",
       "      <td>2017-12-02 00:28:42</td>\n",
       "      <td>2017-12-15 00:00:00</td>\n",
       "    </tr>\n",
       "    <tr>\n",
       "      <th>4</th>\n",
       "      <td>ad21c59c0840e6cb83a9ceb5573f8159</td>\n",
       "      <td>8ab97904e6daea8866dbdbc4fb7aad2c</td>\n",
       "      <td>delivered</td>\n",
       "      <td>2018-02-13 21:18:39</td>\n",
       "      <td>2018-02-13 22:20:29</td>\n",
       "      <td>2018-02-14 19:46:34</td>\n",
       "      <td>2018-02-16 18:17:02</td>\n",
       "      <td>2018-02-26 00:00:00</td>\n",
       "    </tr>\n",
       "  </tbody>\n",
       "</table>\n",
       "</div>"
      ],
      "text/plain": [
       "                           order_id                       customer_id  \\\n",
       "0  e481f51cbdc54678b7cc49136f2d6af7  9ef432eb6251297304e76186b10a928d   \n",
       "1  53cdb2fc8bc7dce0b6741e2150273451  b0830fb4747a6c6d20dea0b8c802d7ef   \n",
       "2  47770eb9100c2d0c44946d9cf07ec65d  41ce2a54c0b03bf3443c3d931a367089   \n",
       "3  949d5b44dbf5de918fe9c16f97b45f8a  f88197465ea7920adcdbec7375364d82   \n",
       "4  ad21c59c0840e6cb83a9ceb5573f8159  8ab97904e6daea8866dbdbc4fb7aad2c   \n",
       "\n",
       "  order_status order_purchase_timestamp    order_approved_at  \\\n",
       "0    delivered      2017-10-02 10:56:33  2017-10-02 11:07:15   \n",
       "1    delivered      2018-07-24 20:41:37  2018-07-26 03:24:27   \n",
       "2    delivered      2018-08-08 08:38:49  2018-08-08 08:55:23   \n",
       "3    delivered      2017-11-18 19:28:06  2017-11-18 19:45:59   \n",
       "4    delivered      2018-02-13 21:18:39  2018-02-13 22:20:29   \n",
       "\n",
       "  order_delivered_carrier_date order_delivered_customer_date  \\\n",
       "0          2017-10-04 19:55:00           2017-10-10 21:25:13   \n",
       "1          2018-07-26 14:31:00           2018-08-07 15:27:45   \n",
       "2          2018-08-08 13:50:00           2018-08-17 18:06:29   \n",
       "3          2017-11-22 13:39:59           2017-12-02 00:28:42   \n",
       "4          2018-02-14 19:46:34           2018-02-16 18:17:02   \n",
       "\n",
       "  order_estimated_delivery_date  \n",
       "0           2017-10-18 00:00:00  \n",
       "1           2018-08-13 00:00:00  \n",
       "2           2018-09-04 00:00:00  \n",
       "3           2017-12-15 00:00:00  \n",
       "4           2018-02-26 00:00:00  "
      ]
     },
     "execution_count": 679,
     "metadata": {},
     "output_type": "execute_result"
    }
   ],
   "source": [
    "# viewing the first 5 rows of the dataset\n",
    "df_orders.head()"
   ]
  },
  {
   "cell_type": "code",
   "execution_count": 680,
   "id": "6ae2343d",
   "metadata": {},
   "outputs": [
    {
     "name": "stdout",
     "output_type": "stream",
     "text": [
      "<class 'pandas.core.frame.DataFrame'>\n",
      "RangeIndex: 99441 entries, 0 to 99440\n",
      "Data columns (total 8 columns):\n",
      " #   Column                         Non-Null Count  Dtype \n",
      "---  ------                         --------------  ----- \n",
      " 0   order_id                       99441 non-null  object\n",
      " 1   customer_id                    99441 non-null  object\n",
      " 2   order_status                   99441 non-null  object\n",
      " 3   order_purchase_timestamp       99441 non-null  object\n",
      " 4   order_approved_at              99281 non-null  object\n",
      " 5   order_delivered_carrier_date   97658 non-null  object\n",
      " 6   order_delivered_customer_date  96476 non-null  object\n",
      " 7   order_estimated_delivery_date  99441 non-null  object\n",
      "dtypes: object(8)\n",
      "memory usage: 6.1+ MB\n"
     ]
    }
   ],
   "source": [
    "df_orders.info()"
   ]
  },
  {
   "cell_type": "code",
   "execution_count": 681,
   "id": "7339ec26",
   "metadata": {},
   "outputs": [],
   "source": [
    "df_orders[\"order_purchase_timestamp\"] = pd.to_datetime(df_orders[\"order_purchase_timestamp\"], format='%Y-%m-%d %H:%M:%S')\n",
    "df_orders[\"order_approved_at\"] = pd.to_datetime(df_orders[\"order_approved_at\"], format='%Y-%m-%d %H:%M:%S')\n",
    "df_orders[\"order_delivered_carrier_date\"] = pd.to_datetime(df_orders[\"order_delivered_carrier_date\"], format='%Y-%m-%d %H:%M:%S')\n",
    "df_orders[\"order_delivered_customer_date\"] = pd.to_datetime(df_orders[\"order_delivered_customer_date\"], format='%Y-%m-%d %H:%M:%S')\n",
    "df_orders[\"order_estimated_delivery_date\"] = pd.to_datetime(df_orders[\"order_estimated_delivery_date\"], format='%Y-%m-%d %H:%M:%S')"
   ]
  },
  {
   "cell_type": "code",
   "execution_count": 682,
   "id": "170c54f0",
   "metadata": {},
   "outputs": [
    {
     "data": {
      "text/plain": [
       "array(['delivered', 'invoiced', 'shipped', 'processing', 'unavailable',\n",
       "       'canceled', 'created', 'approved'], dtype=object)"
      ]
     },
     "execution_count": 682,
     "metadata": {},
     "output_type": "execute_result"
    }
   ],
   "source": [
    "df_orders['order_status'].unique()"
   ]
  },
  {
   "cell_type": "code",
   "execution_count": 683,
   "id": "ba0ed955",
   "metadata": {},
   "outputs": [],
   "source": [
    "df_orders['order_status'] = df_orders['order_status'].astype('category')"
   ]
  },
  {
   "cell_type": "code",
   "execution_count": 684,
   "id": "2cf4d3f8",
   "metadata": {},
   "outputs": [
    {
     "name": "stdout",
     "output_type": "stream",
     "text": [
      "<class 'pandas.core.frame.DataFrame'>\n",
      "RangeIndex: 99441 entries, 0 to 99440\n",
      "Data columns (total 8 columns):\n",
      " #   Column                         Non-Null Count  Dtype         \n",
      "---  ------                         --------------  -----         \n",
      " 0   order_id                       99441 non-null  object        \n",
      " 1   customer_id                    99441 non-null  object        \n",
      " 2   order_status                   99441 non-null  category      \n",
      " 3   order_purchase_timestamp       99441 non-null  datetime64[ns]\n",
      " 4   order_approved_at              99281 non-null  datetime64[ns]\n",
      " 5   order_delivered_carrier_date   97658 non-null  datetime64[ns]\n",
      " 6   order_delivered_customer_date  96476 non-null  datetime64[ns]\n",
      " 7   order_estimated_delivery_date  99441 non-null  datetime64[ns]\n",
      "dtypes: category(1), datetime64[ns](5), object(2)\n",
      "memory usage: 5.4+ MB\n"
     ]
    }
   ],
   "source": [
    "df_orders.info()"
   ]
  },
  {
   "cell_type": "code",
   "execution_count": 685,
   "id": "59f3e612",
   "metadata": {},
   "outputs": [
    {
     "data": {
      "text/plain": [
       "0"
      ]
     },
     "execution_count": 685,
     "metadata": {},
     "output_type": "execute_result"
    }
   ],
   "source": [
    "#check duplicated row\n",
    "#By setting keep on False, all duplicates are True.\n",
    "df_orders.duplicated(keep=False).sum()"
   ]
  },
  {
   "cell_type": "code",
   "execution_count": 686,
   "id": "edadf19e",
   "metadata": {},
   "outputs": [
    {
     "data": {
      "text/plain": [
       "(99441, 8)"
      ]
     },
     "execution_count": 686,
     "metadata": {},
     "output_type": "execute_result"
    }
   ],
   "source": [
    "df_orders.shape"
   ]
  },
  {
   "cell_type": "code",
   "execution_count": 687,
   "id": "2b7626b3",
   "metadata": {},
   "outputs": [
    {
     "data": {
      "text/plain": [
       "order_id                            0\n",
       "customer_id                         0\n",
       "order_status                        0\n",
       "order_purchase_timestamp            0\n",
       "order_approved_at                 160\n",
       "order_delivered_carrier_date     1783\n",
       "order_delivered_customer_date    2965\n",
       "order_estimated_delivery_date       0\n",
       "dtype: int64"
      ]
     },
     "execution_count": 687,
     "metadata": {},
     "output_type": "execute_result"
    }
   ],
   "source": [
    "# Attempt to find number of null for each columns\n",
    "df_orders.isnull().sum()"
   ]
  },
  {
   "cell_type": "code",
   "execution_count": 688,
   "id": "29b8d19d",
   "metadata": {},
   "outputs": [
    {
     "data": {
      "text/plain": [
       "Text(0, 0.5, 'No. of Order')"
      ]
     },
     "execution_count": 688,
     "metadata": {},
     "output_type": "execute_result"
    },
    {
     "data": {
      "image/png": "[encoded data removed]",
      "text/plain": [
       "<Figure size 1080x576 with 1 Axes>"
      ]
     },
     "metadata": {
      "needs_background": "light"
     },
     "output_type": "display_data"
    }
   ],
   "source": [
    "# plotting the category wise distribution of order status\n",
    "plt.figure(figsize=(15,8))\n",
    "sns.countplot(x='order_status', data=df_orders)\n",
    "plt.title('order status Distribution')\n",
    "plt.xlabel('order status')\n",
    "plt.ylabel('No. of Order')"
   ]
  },
  {
   "cell_type": "code",
   "execution_count": 689,
   "id": "988a8708",
   "metadata": {},
   "outputs": [
    {
     "data": {
      "text/plain": [
       "delivered      96478\n",
       "shipped         1107\n",
       "canceled         625\n",
       "unavailable      609\n",
       "invoiced         314\n",
       "processing       301\n",
       "created            5\n",
       "approved           2\n",
       "Name: order_status, dtype: int64"
      ]
     },
     "execution_count": 689,
     "metadata": {},
     "output_type": "execute_result"
    }
   ],
   "source": [
    "df_orders['order_status'].value_counts()"
   ]
  },
  {
   "cell_type": "code",
   "execution_count": 690,
   "id": "f2079234",
   "metadata": {},
   "outputs": [
    {
     "name": "stdout",
     "output_type": "stream",
     "text": [
      "<class 'pandas.core.frame.DataFrame'>\n",
      "RangeIndex: 99441 entries, 0 to 99440\n",
      "Data columns (total 8 columns):\n",
      " #   Column                         Non-Null Count  Dtype         \n",
      "---  ------                         --------------  -----         \n",
      " 0   order_id                       99441 non-null  object        \n",
      " 1   customer_id                    99441 non-null  object        \n",
      " 2   order_status                   99441 non-null  category      \n",
      " 3   order_purchase_timestamp       99441 non-null  datetime64[ns]\n",
      " 4   order_approved_at              99281 non-null  datetime64[ns]\n",
      " 5   order_delivered_carrier_date   97658 non-null  datetime64[ns]\n",
      " 6   order_delivered_customer_date  96476 non-null  datetime64[ns]\n",
      " 7   order_estimated_delivery_date  99441 non-null  datetime64[ns]\n",
      "dtypes: category(1), datetime64[ns](5), object(2)\n",
      "memory usage: 5.4+ MB\n"
     ]
    }
   ],
   "source": [
    "df_orders.info()"
   ]
  },
  {
   "cell_type": "code",
   "execution_count": 691,
   "id": "25ad1392",
   "metadata": {},
   "outputs": [
    {
     "data": {
      "text/plain": [
       "order_id                            0\n",
       "customer_id                         0\n",
       "order_status                        0\n",
       "order_purchase_timestamp            0\n",
       "order_approved_at                 160\n",
       "order_delivered_carrier_date     1783\n",
       "order_delivered_customer_date    2965\n",
       "order_estimated_delivery_date       0\n",
       "dtype: int64"
      ]
     },
     "execution_count": 691,
     "metadata": {},
     "output_type": "execute_result"
    }
   ],
   "source": [
    "df_orders.isnull().sum()"
   ]
  },
  {
   "cell_type": "markdown",
   "id": "a13fce36",
   "metadata": {},
   "source": [
    "### Product (olist_products_dataset) and Product Category Info (product_category_name_translation) Tables"
   ]
  },
  {
   "cell_type": "code",
   "execution_count": 692,
   "id": "eee5d02c",
   "metadata": {},
   "outputs": [
    {
     "data": {
      "text/html": [
       "<div>\n",
       "<style scoped>\n",
       "    .dataframe tbody tr th:only-of-type {\n",
       "        vertical-align: middle;\n",
       "    }\n",
       "\n",
       "    .dataframe tbody tr th {\n",
       "        vertical-align: top;\n",
       "    }\n",
       "\n",
       "    .dataframe thead th {\n",
       "        text-align: right;\n",
       "    }\n",
       "</style>\n",
       "<table border=\"1\" class=\"dataframe\">\n",
       "  <thead>\n",
       "    <tr style=\"text-align: right;\">\n",
       "      <th></th>\n",
       "      <th>product_category_name</th>\n",
       "      <th>product_category_name_english</th>\n",
       "    </tr>\n",
       "  </thead>\n",
       "  <tbody>\n",
       "    <tr>\n",
       "      <th>0</th>\n",
       "      <td>beleza_saude</td>\n",
       "      <td>health_beauty</td>\n",
       "    </tr>\n",
       "    <tr>\n",
       "      <th>1</th>\n",
       "      <td>informatica_acessorios</td>\n",
       "      <td>computers_accessories</td>\n",
       "    </tr>\n",
       "    <tr>\n",
       "      <th>2</th>\n",
       "      <td>automotivo</td>\n",
       "      <td>auto</td>\n",
       "    </tr>\n",
       "    <tr>\n",
       "      <th>3</th>\n",
       "      <td>cama_mesa_banho</td>\n",
       "      <td>bed_bath_table</td>\n",
       "    </tr>\n",
       "    <tr>\n",
       "      <th>4</th>\n",
       "      <td>moveis_decoracao</td>\n",
       "      <td>furniture_decor</td>\n",
       "    </tr>\n",
       "  </tbody>\n",
       "</table>\n",
       "</div>"
      ],
      "text/plain": [
       "    product_category_name product_category_name_english\n",
       "0            beleza_saude                 health_beauty\n",
       "1  informatica_acessorios         computers_accessories\n",
       "2              automotivo                          auto\n",
       "3         cama_mesa_banho                bed_bath_table\n",
       "4        moveis_decoracao               furniture_decor"
      ]
     },
     "execution_count": 692,
     "metadata": {},
     "output_type": "execute_result"
    }
   ],
   "source": [
    "# viewing the first 5 rows of the prodinfo table\n",
    "df_category.head()"
   ]
  },
  {
   "cell_type": "code",
   "execution_count": 693,
   "id": "c0a6fa36",
   "metadata": {},
   "outputs": [
    {
     "data": {
      "text/plain": [
       "(71, 2)"
      ]
     },
     "execution_count": 693,
     "metadata": {},
     "output_type": "execute_result"
    }
   ],
   "source": [
    "df_category.shape"
   ]
  },
  {
   "cell_type": "code",
   "execution_count": 694,
   "id": "c616f197",
   "metadata": {},
   "outputs": [
    {
     "data": {
      "text/plain": [
       "array(['beleza_saude', 'informatica_acessorios', 'automotivo',\n",
       "       'cama_mesa_banho', 'moveis_decoracao', 'esporte_lazer',\n",
       "       'perfumaria', 'utilidades_domesticas', 'telefonia',\n",
       "       'relogios_presentes', 'alimentos_bebidas', 'bebes', 'papelaria',\n",
       "       'tablets_impressao_imagem', 'brinquedos', 'telefonia_fixa',\n",
       "       'ferramentas_jardim', 'fashion_bolsas_e_acessorios',\n",
       "       'eletroportateis', 'consoles_games', 'audio', 'fashion_calcados',\n",
       "       'cool_stuff', 'malas_acessorios', 'climatizacao',\n",
       "       'construcao_ferramentas_construcao',\n",
       "       'moveis_cozinha_area_de_servico_jantar_e_jardim',\n",
       "       'construcao_ferramentas_jardim', 'fashion_roupa_masculina',\n",
       "       'pet_shop', 'moveis_escritorio', 'market_place', 'eletronicos',\n",
       "       'eletrodomesticos', 'artigos_de_festas', 'casa_conforto',\n",
       "       'construcao_ferramentas_ferramentas', 'agro_industria_e_comercio',\n",
       "       'moveis_colchao_e_estofado', 'livros_tecnicos', 'casa_construcao',\n",
       "       'instrumentos_musicais', 'moveis_sala',\n",
       "       'construcao_ferramentas_iluminacao',\n",
       "       'industria_comercio_e_negocios', 'alimentos', 'artes',\n",
       "       'moveis_quarto', 'livros_interesse_geral',\n",
       "       'construcao_ferramentas_seguranca',\n",
       "       'fashion_underwear_e_moda_praia', 'fashion_esporte',\n",
       "       'sinalizacao_e_seguranca', 'pcs', 'artigos_de_natal',\n",
       "       'fashion_roupa_feminina', 'eletrodomesticos_2',\n",
       "       'livros_importados', 'bebidas', 'cine_foto', 'la_cuisine',\n",
       "       'musica', 'casa_conforto_2', 'portateis_casa_forno_e_cafe',\n",
       "       'cds_dvds_musicais', 'dvds_blu_ray', 'flores',\n",
       "       'artes_e_artesanato', 'fraldas_higiene',\n",
       "       'fashion_roupa_infanto_juvenil', 'seguros_e_servicos'],\n",
       "      dtype=object)"
      ]
     },
     "execution_count": 694,
     "metadata": {},
     "output_type": "execute_result"
    }
   ],
   "source": [
    "df_category['product_category_name'].unique()"
   ]
  },
  {
   "cell_type": "code",
   "execution_count": 695,
   "id": "8323c9ea",
   "metadata": {},
   "outputs": [
    {
     "data": {
      "text/plain": [
       "product_category_name            0\n",
       "product_category_name_english    0\n",
       "dtype: int64"
      ]
     },
     "execution_count": 695,
     "metadata": {},
     "output_type": "execute_result"
    }
   ],
   "source": [
    "# checking for missing values\n",
    "df_category.isnull().sum()"
   ]
  },
  {
   "cell_type": "code",
   "execution_count": 696,
   "id": "61ed1398",
   "metadata": {},
   "outputs": [
    {
     "data": {
      "text/html": [
       "<div>\n",
       "<style scoped>\n",
       "    .dataframe tbody tr th:only-of-type {\n",
       "        vertical-align: middle;\n",
       "    }\n",
       "\n",
       "    .dataframe tbody tr th {\n",
       "        vertical-align: top;\n",
       "    }\n",
       "\n",
       "    .dataframe thead th {\n",
       "        text-align: right;\n",
       "    }\n",
       "</style>\n",
       "<table border=\"1\" class=\"dataframe\">\n",
       "  <thead>\n",
       "    <tr style=\"text-align: right;\">\n",
       "      <th></th>\n",
       "      <th>product_id</th>\n",
       "      <th>product_category_name</th>\n",
       "      <th>product_name_lenght</th>\n",
       "      <th>product_description_lenght</th>\n",
       "      <th>product_photos_qty</th>\n",
       "      <th>product_weight_g</th>\n",
       "      <th>product_length_cm</th>\n",
       "      <th>product_height_cm</th>\n",
       "      <th>product_width_cm</th>\n",
       "    </tr>\n",
       "  </thead>\n",
       "  <tbody>\n",
       "    <tr>\n",
       "      <th>0</th>\n",
       "      <td>1e9e8ef04dbcff4541ed26657ea517e5</td>\n",
       "      <td>perfumaria</td>\n",
       "      <td>40.0</td>\n",
       "      <td>287.0</td>\n",
       "      <td>1.0</td>\n",
       "      <td>225.0</td>\n",
       "      <td>16.0</td>\n",
       "      <td>10.0</td>\n",
       "      <td>14.0</td>\n",
       "    </tr>\n",
       "    <tr>\n",
       "      <th>1</th>\n",
       "      <td>3aa071139cb16b67ca9e5dea641aaa2f</td>\n",
       "      <td>artes</td>\n",
       "      <td>44.0</td>\n",
       "      <td>276.0</td>\n",
       "      <td>1.0</td>\n",
       "      <td>1000.0</td>\n",
       "      <td>30.0</td>\n",
       "      <td>18.0</td>\n",
       "      <td>20.0</td>\n",
       "    </tr>\n",
       "    <tr>\n",
       "      <th>2</th>\n",
       "      <td>96bd76ec8810374ed1b65e291975717f</td>\n",
       "      <td>esporte_lazer</td>\n",
       "      <td>46.0</td>\n",
       "      <td>250.0</td>\n",
       "      <td>1.0</td>\n",
       "      <td>154.0</td>\n",
       "      <td>18.0</td>\n",
       "      <td>9.0</td>\n",
       "      <td>15.0</td>\n",
       "    </tr>\n",
       "    <tr>\n",
       "      <th>3</th>\n",
       "      <td>cef67bcfe19066a932b7673e239eb23d</td>\n",
       "      <td>bebes</td>\n",
       "      <td>27.0</td>\n",
       "      <td>261.0</td>\n",
       "      <td>1.0</td>\n",
       "      <td>371.0</td>\n",
       "      <td>26.0</td>\n",
       "      <td>4.0</td>\n",
       "      <td>26.0</td>\n",
       "    </tr>\n",
       "    <tr>\n",
       "      <th>4</th>\n",
       "      <td>9dc1a7de274444849c219cff195d0b71</td>\n",
       "      <td>utilidades_domesticas</td>\n",
       "      <td>37.0</td>\n",
       "      <td>402.0</td>\n",
       "      <td>4.0</td>\n",
       "      <td>625.0</td>\n",
       "      <td>20.0</td>\n",
       "      <td>17.0</td>\n",
       "      <td>13.0</td>\n",
       "    </tr>\n",
       "  </tbody>\n",
       "</table>\n",
       "</div>"
      ],
      "text/plain": [
       "                         product_id  product_category_name  \\\n",
       "0  1e9e8ef04dbcff4541ed26657ea517e5             perfumaria   \n",
       "1  3aa071139cb16b67ca9e5dea641aaa2f                  artes   \n",
       "2  96bd76ec8810374ed1b65e291975717f          esporte_lazer   \n",
       "3  cef67bcfe19066a932b7673e239eb23d                  bebes   \n",
       "4  9dc1a7de274444849c219cff195d0b71  utilidades_domesticas   \n",
       "\n",
       "   product_name_lenght  product_description_lenght  product_photos_qty  \\\n",
       "0                 40.0                       287.0                 1.0   \n",
       "1                 44.0                       276.0                 1.0   \n",
       "2                 46.0                       250.0                 1.0   \n",
       "3                 27.0                       261.0                 1.0   \n",
       "4                 37.0                       402.0                 4.0   \n",
       "\n",
       "   product_weight_g  product_length_cm  product_height_cm  product_width_cm  \n",
       "0             225.0               16.0               10.0              14.0  \n",
       "1            1000.0               30.0               18.0              20.0  \n",
       "2             154.0               18.0                9.0              15.0  \n",
       "3             371.0               26.0                4.0              26.0  \n",
       "4             625.0               20.0               17.0              13.0  "
      ]
     },
     "execution_count": 696,
     "metadata": {},
     "output_type": "execute_result"
    }
   ],
   "source": [
    "df_products.head()"
   ]
  },
  {
   "cell_type": "code",
   "execution_count": 697,
   "id": "1ff3d4d4",
   "metadata": {},
   "outputs": [
    {
     "data": {
      "text/plain": [
       "(32951, 9)"
      ]
     },
     "execution_count": 697,
     "metadata": {},
     "output_type": "execute_result"
    }
   ],
   "source": [
    "df_products.shape"
   ]
  },
  {
   "cell_type": "code",
   "execution_count": 698,
   "id": "c8a54f4b",
   "metadata": {},
   "outputs": [
    {
     "data": {
      "text/plain": [
       "array(['perfumaria', 'artes', 'esporte_lazer', 'bebes',\n",
       "       'utilidades_domesticas', 'instrumentos_musicais', 'cool_stuff',\n",
       "       'moveis_decoracao', 'eletrodomesticos', 'brinquedos',\n",
       "       'cama_mesa_banho', 'construcao_ferramentas_seguranca',\n",
       "       'informatica_acessorios', 'beleza_saude', 'malas_acessorios',\n",
       "       'ferramentas_jardim', 'moveis_escritorio', 'automotivo',\n",
       "       'eletronicos', 'fashion_calcados', 'telefonia', 'papelaria',\n",
       "       'fashion_bolsas_e_acessorios', 'pcs', 'casa_construcao',\n",
       "       'relogios_presentes', 'construcao_ferramentas_construcao',\n",
       "       'pet_shop', 'eletroportateis', 'agro_industria_e_comercio', nan,\n",
       "       'moveis_sala', 'sinalizacao_e_seguranca', 'climatizacao',\n",
       "       'consoles_games', 'livros_interesse_geral',\n",
       "       'construcao_ferramentas_ferramentas',\n",
       "       'fashion_underwear_e_moda_praia', 'fashion_roupa_masculina',\n",
       "       'moveis_cozinha_area_de_servico_jantar_e_jardim',\n",
       "       'industria_comercio_e_negocios', 'telefonia_fixa',\n",
       "       'construcao_ferramentas_iluminacao', 'livros_tecnicos',\n",
       "       'eletrodomesticos_2', 'artigos_de_festas', 'bebidas',\n",
       "       'market_place', 'la_cuisine', 'construcao_ferramentas_jardim',\n",
       "       'fashion_roupa_feminina', 'casa_conforto', 'audio',\n",
       "       'alimentos_bebidas', 'musica', 'alimentos',\n",
       "       'tablets_impressao_imagem', 'livros_importados',\n",
       "       'portateis_casa_forno_e_cafe', 'fashion_esporte',\n",
       "       'artigos_de_natal', 'fashion_roupa_infanto_juvenil',\n",
       "       'dvds_blu_ray', 'artes_e_artesanato', 'pc_gamer', 'moveis_quarto',\n",
       "       'cine_foto', 'fraldas_higiene', 'flores', 'casa_conforto_2',\n",
       "       'portateis_cozinha_e_preparadores_de_alimentos',\n",
       "       'seguros_e_servicos', 'moveis_colchao_e_estofado',\n",
       "       'cds_dvds_musicais'], dtype=object)"
      ]
     },
     "execution_count": 698,
     "metadata": {},
     "output_type": "execute_result"
    }
   ],
   "source": [
    "df_products['product_category_name'].unique()"
   ]
  },
  {
   "cell_type": "code",
   "execution_count": 699,
   "id": "979efcef",
   "metadata": {},
   "outputs": [],
   "source": [
    "# merging the product and prodinfo tables\n",
    "df_products = df_products.merge(df_category, on='product_category_name')"
   ]
  },
  {
   "cell_type": "code",
   "execution_count": 700,
   "id": "9ad80d44",
   "metadata": {},
   "outputs": [
    {
     "data": {
      "text/html": [
       "<div>\n",
       "<style scoped>\n",
       "    .dataframe tbody tr th:only-of-type {\n",
       "        vertical-align: middle;\n",
       "    }\n",
       "\n",
       "    .dataframe tbody tr th {\n",
       "        vertical-align: top;\n",
       "    }\n",
       "\n",
       "    .dataframe thead th {\n",
       "        text-align: right;\n",
       "    }\n",
       "</style>\n",
       "<table border=\"1\" class=\"dataframe\">\n",
       "  <thead>\n",
       "    <tr style=\"text-align: right;\">\n",
       "      <th></th>\n",
       "      <th>product_id</th>\n",
       "      <th>product_category_name</th>\n",
       "      <th>product_name_lenght</th>\n",
       "      <th>product_description_lenght</th>\n",
       "      <th>product_photos_qty</th>\n",
       "      <th>product_weight_g</th>\n",
       "      <th>product_length_cm</th>\n",
       "      <th>product_height_cm</th>\n",
       "      <th>product_width_cm</th>\n",
       "      <th>product_category_name_english</th>\n",
       "    </tr>\n",
       "  </thead>\n",
       "  <tbody>\n",
       "    <tr>\n",
       "      <th>0</th>\n",
       "      <td>1e9e8ef04dbcff4541ed26657ea517e5</td>\n",
       "      <td>perfumaria</td>\n",
       "      <td>40.0</td>\n",
       "      <td>287.0</td>\n",
       "      <td>1.0</td>\n",
       "      <td>225.0</td>\n",
       "      <td>16.0</td>\n",
       "      <td>10.0</td>\n",
       "      <td>14.0</td>\n",
       "      <td>perfumery</td>\n",
       "    </tr>\n",
       "    <tr>\n",
       "      <th>1</th>\n",
       "      <td>6a2fb4dd53d2cdb88e0432f1284a004c</td>\n",
       "      <td>perfumaria</td>\n",
       "      <td>39.0</td>\n",
       "      <td>346.0</td>\n",
       "      <td>2.0</td>\n",
       "      <td>400.0</td>\n",
       "      <td>27.0</td>\n",
       "      <td>5.0</td>\n",
       "      <td>20.0</td>\n",
       "      <td>perfumery</td>\n",
       "    </tr>\n",
       "    <tr>\n",
       "      <th>2</th>\n",
       "      <td>0d009643171aee696f4733340bc2fdd0</td>\n",
       "      <td>perfumaria</td>\n",
       "      <td>52.0</td>\n",
       "      <td>150.0</td>\n",
       "      <td>1.0</td>\n",
       "      <td>422.0</td>\n",
       "      <td>21.0</td>\n",
       "      <td>16.0</td>\n",
       "      <td>18.0</td>\n",
       "      <td>perfumery</td>\n",
       "    </tr>\n",
       "    <tr>\n",
       "      <th>3</th>\n",
       "      <td>b1eae565a61935e0011ee7682fef9dc9</td>\n",
       "      <td>perfumaria</td>\n",
       "      <td>49.0</td>\n",
       "      <td>460.0</td>\n",
       "      <td>2.0</td>\n",
       "      <td>267.0</td>\n",
       "      <td>17.0</td>\n",
       "      <td>13.0</td>\n",
       "      <td>17.0</td>\n",
       "      <td>perfumery</td>\n",
       "    </tr>\n",
       "    <tr>\n",
       "      <th>4</th>\n",
       "      <td>8da90b37f0fb171b4877c124f965b1f6</td>\n",
       "      <td>perfumaria</td>\n",
       "      <td>56.0</td>\n",
       "      <td>733.0</td>\n",
       "      <td>3.0</td>\n",
       "      <td>377.0</td>\n",
       "      <td>18.0</td>\n",
       "      <td>13.0</td>\n",
       "      <td>15.0</td>\n",
       "      <td>perfumery</td>\n",
       "    </tr>\n",
       "  </tbody>\n",
       "</table>\n",
       "</div>"
      ],
      "text/plain": [
       "                         product_id product_category_name  \\\n",
       "0  1e9e8ef04dbcff4541ed26657ea517e5            perfumaria   \n",
       "1  6a2fb4dd53d2cdb88e0432f1284a004c            perfumaria   \n",
       "2  0d009643171aee696f4733340bc2fdd0            perfumaria   \n",
       "3  b1eae565a61935e0011ee7682fef9dc9            perfumaria   \n",
       "4  8da90b37f0fb171b4877c124f965b1f6            perfumaria   \n",
       "\n",
       "   product_name_lenght  product_description_lenght  product_photos_qty  \\\n",
       "0                 40.0                       287.0                 1.0   \n",
       "1                 39.0                       346.0                 2.0   \n",
       "2                 52.0                       150.0                 1.0   \n",
       "3                 49.0                       460.0                 2.0   \n",
       "4                 56.0                       733.0                 3.0   \n",
       "\n",
       "   product_weight_g  product_length_cm  product_height_cm  product_width_cm  \\\n",
       "0             225.0               16.0               10.0              14.0   \n",
       "1             400.0               27.0                5.0              20.0   \n",
       "2             422.0               21.0               16.0              18.0   \n",
       "3             267.0               17.0               13.0              17.0   \n",
       "4             377.0               18.0               13.0              15.0   \n",
       "\n",
       "  product_category_name_english  \n",
       "0                     perfumery  \n",
       "1                     perfumery  \n",
       "2                     perfumery  \n",
       "3                     perfumery  \n",
       "4                     perfumery  "
      ]
     },
     "execution_count": 700,
     "metadata": {},
     "output_type": "execute_result"
    }
   ],
   "source": [
    "# viewing the first 5 rows of the products table\n",
    "df_products.head()"
   ]
  },
  {
   "cell_type": "code",
   "execution_count": 701,
   "id": "bff9690e",
   "metadata": {},
   "outputs": [
    {
     "data": {
      "text/plain": [
       "(32328, 10)"
      ]
     },
     "execution_count": 701,
     "metadata": {},
     "output_type": "execute_result"
    }
   ],
   "source": [
    "df_products.shape"
   ]
  },
  {
   "cell_type": "code",
   "execution_count": 702,
   "id": "7f307e99",
   "metadata": {},
   "outputs": [],
   "source": [
    "# dropping the columns\n",
    "df_products = df_products.drop(columns=['product_category_name'])"
   ]
  },
  {
   "cell_type": "code",
   "execution_count": 703,
   "id": "8cac7f4a",
   "metadata": {},
   "outputs": [
    {
     "data": {
      "text/plain": [
       "product_id                       0\n",
       "product_name_lenght              0\n",
       "product_description_lenght       0\n",
       "product_photos_qty               0\n",
       "product_weight_g                 1\n",
       "product_length_cm                1\n",
       "product_height_cm                1\n",
       "product_width_cm                 1\n",
       "product_category_name_english    0\n",
       "dtype: int64"
      ]
     },
     "execution_count": 703,
     "metadata": {},
     "output_type": "execute_result"
    }
   ],
   "source": [
    "# checking for missing values\n",
    "df_products.isnull().sum()"
   ]
  },
  {
   "cell_type": "code",
   "execution_count": 704,
   "id": "4c970994",
   "metadata": {},
   "outputs": [],
   "source": [
    "df_products['product_category_name_english'] = df_products['product_category_name_english'].astype('category')"
   ]
  },
  {
   "cell_type": "code",
   "execution_count": 705,
   "id": "5b09be13",
   "metadata": {},
   "outputs": [
    {
     "name": "stdout",
     "output_type": "stream",
     "text": [
      "<class 'pandas.core.frame.DataFrame'>\n",
      "Int64Index: 32328 entries, 0 to 32327\n",
      "Data columns (total 9 columns):\n",
      " #   Column                         Non-Null Count  Dtype   \n",
      "---  ------                         --------------  -----   \n",
      " 0   product_id                     32328 non-null  object  \n",
      " 1   product_name_lenght            32328 non-null  float64 \n",
      " 2   product_description_lenght     32328 non-null  float64 \n",
      " 3   product_photos_qty             32328 non-null  float64 \n",
      " 4   product_weight_g               32327 non-null  float64 \n",
      " 5   product_length_cm              32327 non-null  float64 \n",
      " 6   product_height_cm              32327 non-null  float64 \n",
      " 7   product_width_cm               32327 non-null  float64 \n",
      " 8   product_category_name_english  32328 non-null  category\n",
      "dtypes: category(1), float64(7), object(1)\n",
      "memory usage: 2.3+ MB\n"
     ]
    }
   ],
   "source": [
    "df_products.info()"
   ]
  },
  {
   "cell_type": "code",
   "execution_count": 706,
   "id": "ad784565",
   "metadata": {},
   "outputs": [
    {
     "data": {
      "image/png": "[encoded data removed]",
      "text/plain": [
       "<Figure size 1440x576 with 1 Axes>"
      ]
     },
     "metadata": {
      "needs_background": "light"
     },
     "output_type": "display_data"
    }
   ],
   "source": [
    "# plotting the category wise distribution of products\n",
    "plt.figure(figsize=(20,8))\n",
    "ax=sns.countplot(x='product_category_name_english', data=df_products)\n",
    "ax.set_xticklabels(ax.get_xticklabels(), rotation=90, ha=\"right\")\n",
    "plt.title('Category Wise Product Distribution')\n",
    "plt.xlabel('Category')\n",
    "plt.ylabel('No. of Products')\n",
    "plt.show()"
   ]
  },
  {
   "cell_type": "code",
   "execution_count": 707,
   "id": "28164282",
   "metadata": {},
   "outputs": [
    {
     "data": {
      "text/plain": [
       "Text(0.5, 0, 'Product Name Length')"
      ]
     },
     "execution_count": 707,
     "metadata": {},
     "output_type": "execute_result"
    },
    {
     "data": {
      "image/png": "[encoded data removed]",
      "text/plain": [
       "<Figure size 1080x576 with 1 Axes>"
      ]
     },
     "metadata": {
      "needs_background": "light"
     },
     "output_type": "display_data"
    }
   ],
   "source": [
    "# plotting the distribution of product name length\n",
    "plt.figure(figsize=(15,8))\n",
    "sns.histplot(x='product_name_lenght', data=df_products)\n",
    "plt.title('Distribution of Product Name Length')\n",
    "plt.xlabel('Product Name Length')"
   ]
  },
  {
   "cell_type": "code",
   "execution_count": 708,
   "id": "041aa2af",
   "metadata": {},
   "outputs": [
    {
     "data": {
      "text/plain": [
       "Text(0.5, 0, 'Product Description Length')"
      ]
     },
     "execution_count": 708,
     "metadata": {},
     "output_type": "execute_result"
    },
    {
     "data": {
      "image/png": "[encoded data removed]",
      "text/plain": [
       "<Figure size 1080x576 with 1 Axes>"
      ]
     },
     "metadata": {
      "needs_background": "light"
     },
     "output_type": "display_data"
    }
   ],
   "source": [
    "# plotting the distribution of product description length\n",
    "plt.figure(figsize=(15,8))\n",
    "sns.histplot(x='product_description_lenght', data=df_products)\n",
    "plt.title('Distribution of Product Description Length')\n",
    "plt.xlabel('Product Description Length')"
   ]
  },
  {
   "cell_type": "code",
   "execution_count": 709,
   "id": "3892860f",
   "metadata": {},
   "outputs": [
    {
     "data": {
      "text/plain": [
       "Text(0.5, 0, 'Product Photos Quantity')"
      ]
     },
     "execution_count": 709,
     "metadata": {},
     "output_type": "execute_result"
    },
    {
     "data": {
      "image/png": "[encoded data removed]",
      "text/plain": [
       "<Figure size 1080x576 with 1 Axes>"
      ]
     },
     "metadata": {
      "needs_background": "light"
     },
     "output_type": "display_data"
    }
   ],
   "source": [
    "# plotting the distribution of product photos quantity\n",
    "plt.figure(figsize=(15,8))\n",
    "sns.countplot(x='product_photos_qty', data=df_products)\n",
    "plt.title('Distribution of Product Photos Quantity')\n",
    "plt.xlabel('Product Photos Quantity')"
   ]
  },
  {
   "cell_type": "code",
   "execution_count": 710,
   "id": "41bbf8ba",
   "metadata": {},
   "outputs": [
    {
     "data": {
      "text/plain": [
       "(32328, 9)"
      ]
     },
     "execution_count": 710,
     "metadata": {},
     "output_type": "execute_result"
    }
   ],
   "source": [
    "df_products.shape"
   ]
  },
  {
   "cell_type": "markdown",
   "id": "0b60ad07",
   "metadata": {},
   "source": [
    "### Seller Table (olist_sellers_dataset)"
   ]
  },
  {
   "cell_type": "code",
   "execution_count": 711,
   "id": "10fffd5f",
   "metadata": {},
   "outputs": [
    {
     "data": {
      "text/html": [
       "<div>\n",
       "<style scoped>\n",
       "    .dataframe tbody tr th:only-of-type {\n",
       "        vertical-align: middle;\n",
       "    }\n",
       "\n",
       "    .dataframe tbody tr th {\n",
       "        vertical-align: top;\n",
       "    }\n",
       "\n",
       "    .dataframe thead th {\n",
       "        text-align: right;\n",
       "    }\n",
       "</style>\n",
       "<table border=\"1\" class=\"dataframe\">\n",
       "  <thead>\n",
       "    <tr style=\"text-align: right;\">\n",
       "      <th></th>\n",
       "      <th>seller_id</th>\n",
       "      <th>seller_zip_code_prefix</th>\n",
       "      <th>seller_city</th>\n",
       "      <th>seller_state</th>\n",
       "    </tr>\n",
       "  </thead>\n",
       "  <tbody>\n",
       "    <tr>\n",
       "      <th>0</th>\n",
       "      <td>3442f8959a84dea7ee197c632cb2df15</td>\n",
       "      <td>13023</td>\n",
       "      <td>campinas</td>\n",
       "      <td>SP</td>\n",
       "    </tr>\n",
       "    <tr>\n",
       "      <th>1</th>\n",
       "      <td>d1b65fc7debc3361ea86b5f14c68d2e2</td>\n",
       "      <td>13844</td>\n",
       "      <td>mogi guacu</td>\n",
       "      <td>SP</td>\n",
       "    </tr>\n",
       "    <tr>\n",
       "      <th>2</th>\n",
       "      <td>ce3ad9de960102d0677a81f5d0bb7b2d</td>\n",
       "      <td>20031</td>\n",
       "      <td>rio de janeiro</td>\n",
       "      <td>RJ</td>\n",
       "    </tr>\n",
       "    <tr>\n",
       "      <th>3</th>\n",
       "      <td>c0f3eea2e14555b6faeea3dd58c1b1c3</td>\n",
       "      <td>4195</td>\n",
       "      <td>sao paulo</td>\n",
       "      <td>SP</td>\n",
       "    </tr>\n",
       "    <tr>\n",
       "      <th>4</th>\n",
       "      <td>51a04a8a6bdcb23deccc82b0b80742cf</td>\n",
       "      <td>12914</td>\n",
       "      <td>braganca paulista</td>\n",
       "      <td>SP</td>\n",
       "    </tr>\n",
       "  </tbody>\n",
       "</table>\n",
       "</div>"
      ],
      "text/plain": [
       "                          seller_id  seller_zip_code_prefix  \\\n",
       "0  3442f8959a84dea7ee197c632cb2df15                   13023   \n",
       "1  d1b65fc7debc3361ea86b5f14c68d2e2                   13844   \n",
       "2  ce3ad9de960102d0677a81f5d0bb7b2d                   20031   \n",
       "3  c0f3eea2e14555b6faeea3dd58c1b1c3                    4195   \n",
       "4  51a04a8a6bdcb23deccc82b0b80742cf                   12914   \n",
       "\n",
       "         seller_city seller_state  \n",
       "0           campinas           SP  \n",
       "1         mogi guacu           SP  \n",
       "2     rio de janeiro           RJ  \n",
       "3          sao paulo           SP  \n",
       "4  braganca paulista           SP  "
      ]
     },
     "execution_count": 711,
     "metadata": {},
     "output_type": "execute_result"
    }
   ],
   "source": [
    "# viewing the first 5 rows of the table\n",
    "df_sellers.head()"
   ]
  },
  {
   "cell_type": "code",
   "execution_count": 712,
   "id": "8b5338f2",
   "metadata": {},
   "outputs": [
    {
     "data": {
      "text/plain": [
       "seller_id                 0\n",
       "seller_zip_code_prefix    0\n",
       "seller_city               0\n",
       "seller_state              0\n",
       "dtype: int64"
      ]
     },
     "execution_count": 712,
     "metadata": {},
     "output_type": "execute_result"
    }
   ],
   "source": [
    "# checking for missing values\n",
    "df_sellers.isnull().sum()"
   ]
  },
  {
   "cell_type": "code",
   "execution_count": 713,
   "id": "b3987278",
   "metadata": {},
   "outputs": [
    {
     "name": "stdout",
     "output_type": "stream",
     "text": [
      "<class 'pandas.core.frame.DataFrame'>\n",
      "RangeIndex: 3095 entries, 0 to 3094\n",
      "Data columns (total 4 columns):\n",
      " #   Column                  Non-Null Count  Dtype \n",
      "---  ------                  --------------  ----- \n",
      " 0   seller_id               3095 non-null   object\n",
      " 1   seller_zip_code_prefix  3095 non-null   int64 \n",
      " 2   seller_city             3095 non-null   object\n",
      " 3   seller_state            3095 non-null   object\n",
      "dtypes: int64(1), object(3)\n",
      "memory usage: 96.8+ KB\n"
     ]
    }
   ],
   "source": [
    "df_sellers.info()"
   ]
  },
  {
   "cell_type": "code",
   "execution_count": 714,
   "id": "407f94e4",
   "metadata": {},
   "outputs": [],
   "source": [
    "df_sellers['seller_zip_code_prefix'] = df_sellers['seller_zip_code_prefix'].astype('category')\n",
    "df_sellers['seller_city'] = df_sellers['seller_city'].astype('category')\n",
    "df_sellers['seller_state'] = df_sellers['seller_state'].astype('category')"
   ]
  },
  {
   "cell_type": "code",
   "execution_count": 715,
   "id": "702a4973",
   "metadata": {},
   "outputs": [
    {
     "name": "stdout",
     "output_type": "stream",
     "text": [
      "<class 'pandas.core.frame.DataFrame'>\n",
      "RangeIndex: 3095 entries, 0 to 3094\n",
      "Data columns (total 4 columns):\n",
      " #   Column                  Non-Null Count  Dtype   \n",
      "---  ------                  --------------  -----   \n",
      " 0   seller_id               3095 non-null   object  \n",
      " 1   seller_zip_code_prefix  3095 non-null   category\n",
      " 2   seller_city             3095 non-null   category\n",
      " 3   seller_state            3095 non-null   category\n",
      "dtypes: category(3), object(1)\n",
      "memory usage: 143.2+ KB\n"
     ]
    }
   ],
   "source": [
    "df_sellers.info()"
   ]
  },
  {
   "cell_type": "code",
   "execution_count": 716,
   "id": "7ce6844d",
   "metadata": {},
   "outputs": [
    {
     "data": {
      "text/plain": [
       "Text(0, 0.5, 'No. of Sellers')"
      ]
     },
     "execution_count": 716,
     "metadata": {},
     "output_type": "execute_result"
    },
    {
     "data": {
      "image/png": "[encoded data removed]",
      "text/plain": [
       "<Figure size 1080x576 with 1 Axes>"
      ]
     },
     "metadata": {
      "needs_background": "light"
     },
     "output_type": "display_data"
    }
   ],
   "source": [
    "# plotting state wise seller distribution\n",
    "plt.figure(figsize=(15,8))\n",
    "sns.countplot(x='seller_state', data=df_sellers)\n",
    "plt.title('State Wise Seller Distribution')\n",
    "plt.xlabel('State')\n",
    "plt.ylabel('No. of Sellers')"
   ]
  },
  {
   "cell_type": "code",
   "execution_count": 717,
   "id": "07714c08",
   "metadata": {},
   "outputs": [
    {
     "data": {
      "text/plain": [
       "(3095, 4)"
      ]
     },
     "execution_count": 717,
     "metadata": {},
     "output_type": "execute_result"
    }
   ],
   "source": [
    "df_sellers.shape"
   ]
  },
  {
   "cell_type": "markdown",
   "id": "7086a938",
   "metadata": {},
   "source": [
    "## Merging the Datasets"
   ]
  },
  {
   "cell_type": "markdown",
   "id": "74a8603d",
   "metadata": {},
   "source": [
    "### Step 1: Merging customer data set with a Geolocation first"
   ]
  },
  {
   "cell_type": "code",
   "execution_count": 718,
   "id": "3d9e5618",
   "metadata": {},
   "outputs": [
    {
     "data": {
      "text/html": [
       "<div>\n",
       "<style scoped>\n",
       "    .dataframe tbody tr th:only-of-type {\n",
       "        vertical-align: middle;\n",
       "    }\n",
       "\n",
       "    .dataframe tbody tr th {\n",
       "        vertical-align: top;\n",
       "    }\n",
       "\n",
       "    .dataframe thead th {\n",
       "        text-align: right;\n",
       "    }\n",
       "</style>\n",
       "<table border=\"1\" class=\"dataframe\">\n",
       "  <thead>\n",
       "    <tr style=\"text-align: right;\">\n",
       "      <th></th>\n",
       "      <th>customer_id</th>\n",
       "      <th>customer_zip_code_prefix</th>\n",
       "      <th>customer_city</th>\n",
       "      <th>customer_state</th>\n",
       "      <th>geolocation_zip_code_prefix</th>\n",
       "      <th>customer_lat</th>\n",
       "      <th>customer_lng</th>\n",
       "      <th>geolocation_city</th>\n",
       "      <th>geolocation_state</th>\n",
       "    </tr>\n",
       "  </thead>\n",
       "  <tbody>\n",
       "    <tr>\n",
       "      <th>0</th>\n",
       "      <td>06b8999e2fba1a1fbc88172c00ba8bc7</td>\n",
       "      <td>14409</td>\n",
       "      <td>franca</td>\n",
       "      <td>SP</td>\n",
       "      <td>14409</td>\n",
       "      <td>-20.509897</td>\n",
       "      <td>-47.397866</td>\n",
       "      <td>franca</td>\n",
       "      <td>SP</td>\n",
       "    </tr>\n",
       "    <tr>\n",
       "      <th>1</th>\n",
       "      <td>06b8999e2fba1a1fbc88172c00ba8bc7</td>\n",
       "      <td>14409</td>\n",
       "      <td>franca</td>\n",
       "      <td>SP</td>\n",
       "      <td>14409</td>\n",
       "      <td>-20.497396</td>\n",
       "      <td>-47.399241</td>\n",
       "      <td>franca</td>\n",
       "      <td>SP</td>\n",
       "    </tr>\n",
       "    <tr>\n",
       "      <th>2</th>\n",
       "      <td>06b8999e2fba1a1fbc88172c00ba8bc7</td>\n",
       "      <td>14409</td>\n",
       "      <td>franca</td>\n",
       "      <td>SP</td>\n",
       "      <td>14409</td>\n",
       "      <td>-20.510459</td>\n",
       "      <td>-47.399553</td>\n",
       "      <td>franca</td>\n",
       "      <td>SP</td>\n",
       "    </tr>\n",
       "    <tr>\n",
       "      <th>3</th>\n",
       "      <td>06b8999e2fba1a1fbc88172c00ba8bc7</td>\n",
       "      <td>14409</td>\n",
       "      <td>franca</td>\n",
       "      <td>SP</td>\n",
       "      <td>14409</td>\n",
       "      <td>-20.480940</td>\n",
       "      <td>-47.394161</td>\n",
       "      <td>franca</td>\n",
       "      <td>SP</td>\n",
       "    </tr>\n",
       "    <tr>\n",
       "      <th>4</th>\n",
       "      <td>06b8999e2fba1a1fbc88172c00ba8bc7</td>\n",
       "      <td>14409</td>\n",
       "      <td>franca</td>\n",
       "      <td>SP</td>\n",
       "      <td>14409</td>\n",
       "      <td>-20.515413</td>\n",
       "      <td>-47.398194</td>\n",
       "      <td>franca</td>\n",
       "      <td>SP</td>\n",
       "    </tr>\n",
       "  </tbody>\n",
       "</table>\n",
       "</div>"
      ],
      "text/plain": [
       "                        customer_id  customer_zip_code_prefix customer_city  \\\n",
       "0  06b8999e2fba1a1fbc88172c00ba8bc7                     14409        franca   \n",
       "1  06b8999e2fba1a1fbc88172c00ba8bc7                     14409        franca   \n",
       "2  06b8999e2fba1a1fbc88172c00ba8bc7                     14409        franca   \n",
       "3  06b8999e2fba1a1fbc88172c00ba8bc7                     14409        franca   \n",
       "4  06b8999e2fba1a1fbc88172c00ba8bc7                     14409        franca   \n",
       "\n",
       "  customer_state geolocation_zip_code_prefix  customer_lat  customer_lng  \\\n",
       "0             SP                       14409    -20.509897    -47.397866   \n",
       "1             SP                       14409    -20.497396    -47.399241   \n",
       "2             SP                       14409    -20.510459    -47.399553   \n",
       "3             SP                       14409    -20.480940    -47.394161   \n",
       "4             SP                       14409    -20.515413    -47.398194   \n",
       "\n",
       "  geolocation_city geolocation_state  \n",
       "0           franca                SP  \n",
       "1           franca                SP  \n",
       "2           franca                SP  \n",
       "3           franca                SP  \n",
       "4           franca                SP  "
      ]
     },
     "execution_count": 718,
     "metadata": {},
     "output_type": "execute_result"
    }
   ],
   "source": [
    "df = pd.merge(df_customers,df_geolocation,left_on='customer_zip_code_prefix', right_on='geolocation_zip_code_prefix', how='inner')\n",
    "df.rename(columns={\n",
    "    'geolocation_lat' : 'customer_lat',\n",
    "    'geolocation_lng' : 'customer_lng',\n",
    "}, inplace=True)\n",
    "df.head()"
   ]
  },
  {
   "cell_type": "code",
   "execution_count": 719,
   "id": "9db5720f",
   "metadata": {},
   "outputs": [],
   "source": [
    "# dropping columns with unnecessary column\n",
    "df = df.drop(columns=['customer_lat','customer_lng','geolocation_state','geolocation_city','geolocation_zip_code_prefix'])"
   ]
  },
  {
   "cell_type": "code",
   "execution_count": 720,
   "id": "8dfadbac",
   "metadata": {},
   "outputs": [
    {
     "data": {
      "text/plain": [
       "10228565"
      ]
     },
     "execution_count": 720,
     "metadata": {},
     "output_type": "execute_result"
    }
   ],
   "source": [
    "df.duplicated(subset=['customer_id'],keep='last').sum()"
   ]
  },
  {
   "cell_type": "code",
   "execution_count": 721,
   "id": "43e82b40",
   "metadata": {},
   "outputs": [
    {
     "data": {
      "text/html": [
       "<div>\n",
       "<style scoped>\n",
       "    .dataframe tbody tr th:only-of-type {\n",
       "        vertical-align: middle;\n",
       "    }\n",
       "\n",
       "    .dataframe tbody tr th {\n",
       "        vertical-align: top;\n",
       "    }\n",
       "\n",
       "    .dataframe thead th {\n",
       "        text-align: right;\n",
       "    }\n",
       "</style>\n",
       "<table border=\"1\" class=\"dataframe\">\n",
       "  <thead>\n",
       "    <tr style=\"text-align: right;\">\n",
       "      <th></th>\n",
       "      <th>customer_id</th>\n",
       "      <th>customer_zip_code_prefix</th>\n",
       "      <th>customer_city</th>\n",
       "      <th>customer_state</th>\n",
       "    </tr>\n",
       "  </thead>\n",
       "  <tbody>\n",
       "    <tr>\n",
       "      <th>125</th>\n",
       "      <td>06b8999e2fba1a1fbc88172c00ba8bc7</td>\n",
       "      <td>14409</td>\n",
       "      <td>franca</td>\n",
       "      <td>SP</td>\n",
       "    </tr>\n",
       "    <tr>\n",
       "      <th>251</th>\n",
       "      <td>5dca924cc99eea2dc5ba40d11ec5dd0f</td>\n",
       "      <td>14409</td>\n",
       "      <td>franca</td>\n",
       "      <td>SP</td>\n",
       "    </tr>\n",
       "    <tr>\n",
       "      <th>377</th>\n",
       "      <td>661897d4968f1b59bfff74c7eb2eb4fc</td>\n",
       "      <td>14409</td>\n",
       "      <td>franca</td>\n",
       "      <td>SP</td>\n",
       "    </tr>\n",
       "    <tr>\n",
       "      <th>503</th>\n",
       "      <td>702b62324327ccba20f1be3465426437</td>\n",
       "      <td>14409</td>\n",
       "      <td>franca</td>\n",
       "      <td>SP</td>\n",
       "    </tr>\n",
       "    <tr>\n",
       "      <th>629</th>\n",
       "      <td>bdf997bae7ca819b0415f5174d6b4302</td>\n",
       "      <td>14409</td>\n",
       "      <td>franca</td>\n",
       "      <td>SP</td>\n",
       "    </tr>\n",
       "    <tr>\n",
       "      <th>...</th>\n",
       "      <td>...</td>\n",
       "      <td>...</td>\n",
       "      <td>...</td>\n",
       "      <td>...</td>\n",
       "    </tr>\n",
       "    <tr>\n",
       "      <th>10327706</th>\n",
       "      <td>0b7a30ba373aeb55cf28add5b5477956</td>\n",
       "      <td>87145</td>\n",
       "      <td>paicandu</td>\n",
       "      <td>PR</td>\n",
       "    </tr>\n",
       "    <tr>\n",
       "      <th>10327711</th>\n",
       "      <td>ff6b440b2465bfaef05c675efb48cd15</td>\n",
       "      <td>98860</td>\n",
       "      <td>eugenio de castro</td>\n",
       "      <td>RS</td>\n",
       "    </tr>\n",
       "    <tr>\n",
       "      <th>10327718</th>\n",
       "      <td>3f7029d9b98a47370cd5f3a97adcbccd</td>\n",
       "      <td>5538</td>\n",
       "      <td>sao paulo</td>\n",
       "      <td>SP</td>\n",
       "    </tr>\n",
       "    <tr>\n",
       "      <th>10327726</th>\n",
       "      <td>d9110683c7a282144e9fc97660026a28</td>\n",
       "      <td>74980</td>\n",
       "      <td>aparecida de goiania</td>\n",
       "      <td>GO</td>\n",
       "    </tr>\n",
       "    <tr>\n",
       "      <th>10327727</th>\n",
       "      <td>6fb4f2354f36e554ac80141e9128f528</td>\n",
       "      <td>99043</td>\n",
       "      <td>passo fundo</td>\n",
       "      <td>RS</td>\n",
       "    </tr>\n",
       "  </tbody>\n",
       "</table>\n",
       "<p>99163 rows × 4 columns</p>\n",
       "</div>"
      ],
      "text/plain": [
       "                               customer_id  customer_zip_code_prefix  \\\n",
       "125       06b8999e2fba1a1fbc88172c00ba8bc7                     14409   \n",
       "251       5dca924cc99eea2dc5ba40d11ec5dd0f                     14409   \n",
       "377       661897d4968f1b59bfff74c7eb2eb4fc                     14409   \n",
       "503       702b62324327ccba20f1be3465426437                     14409   \n",
       "629       bdf997bae7ca819b0415f5174d6b4302                     14409   \n",
       "...                                    ...                       ...   \n",
       "10327706  0b7a30ba373aeb55cf28add5b5477956                     87145   \n",
       "10327711  ff6b440b2465bfaef05c675efb48cd15                     98860   \n",
       "10327718  3f7029d9b98a47370cd5f3a97adcbccd                      5538   \n",
       "10327726  d9110683c7a282144e9fc97660026a28                     74980   \n",
       "10327727  6fb4f2354f36e554ac80141e9128f528                     99043   \n",
       "\n",
       "                 customer_city customer_state  \n",
       "125                     franca             SP  \n",
       "251                     franca             SP  \n",
       "377                     franca             SP  \n",
       "503                     franca             SP  \n",
       "629                     franca             SP  \n",
       "...                        ...            ...  \n",
       "10327706              paicandu             PR  \n",
       "10327711     eugenio de castro             RS  \n",
       "10327718             sao paulo             SP  \n",
       "10327726  aparecida de goiania             GO  \n",
       "10327727           passo fundo             RS  \n",
       "\n",
       "[99163 rows x 4 columns]"
      ]
     },
     "execution_count": 721,
     "metadata": {},
     "output_type": "execute_result"
    }
   ],
   "source": [
    "df=df.drop_duplicates(subset=['customer_id'],keep='last')\n",
    "df"
   ]
  },
  {
   "cell_type": "markdown",
   "id": "51ff5ac5",
   "metadata": {},
   "source": [
    "### Step 2: Merging seller data set with a geolocation data set"
   ]
  },
  {
   "cell_type": "code",
   "execution_count": 722,
   "id": "1738fc91",
   "metadata": {},
   "outputs": [
    {
     "data": {
      "text/html": [
       "<div>\n",
       "<style scoped>\n",
       "    .dataframe tbody tr th:only-of-type {\n",
       "        vertical-align: middle;\n",
       "    }\n",
       "\n",
       "    .dataframe tbody tr th {\n",
       "        vertical-align: top;\n",
       "    }\n",
       "\n",
       "    .dataframe thead th {\n",
       "        text-align: right;\n",
       "    }\n",
       "</style>\n",
       "<table border=\"1\" class=\"dataframe\">\n",
       "  <thead>\n",
       "    <tr style=\"text-align: right;\">\n",
       "      <th></th>\n",
       "      <th>seller_id</th>\n",
       "      <th>seller_zip_code_prefix</th>\n",
       "      <th>seller_city</th>\n",
       "      <th>seller_state</th>\n",
       "      <th>geolocation_zip_code_prefix</th>\n",
       "      <th>seller_lat</th>\n",
       "      <th>sellet_lng</th>\n",
       "      <th>geolocation_city</th>\n",
       "      <th>geolocation_state</th>\n",
       "    </tr>\n",
       "  </thead>\n",
       "  <tbody>\n",
       "    <tr>\n",
       "      <th>0</th>\n",
       "      <td>3442f8959a84dea7ee197c632cb2df15</td>\n",
       "      <td>13023</td>\n",
       "      <td>campinas</td>\n",
       "      <td>SP</td>\n",
       "      <td>13023</td>\n",
       "      <td>-22.898536</td>\n",
       "      <td>-47.063125</td>\n",
       "      <td>campinas</td>\n",
       "      <td>SP</td>\n",
       "    </tr>\n",
       "    <tr>\n",
       "      <th>1</th>\n",
       "      <td>3442f8959a84dea7ee197c632cb2df15</td>\n",
       "      <td>13023</td>\n",
       "      <td>campinas</td>\n",
       "      <td>SP</td>\n",
       "      <td>13023</td>\n",
       "      <td>-22.895499</td>\n",
       "      <td>-47.061944</td>\n",
       "      <td>campinas</td>\n",
       "      <td>SP</td>\n",
       "    </tr>\n",
       "    <tr>\n",
       "      <th>2</th>\n",
       "      <td>3442f8959a84dea7ee197c632cb2df15</td>\n",
       "      <td>13023</td>\n",
       "      <td>campinas</td>\n",
       "      <td>SP</td>\n",
       "      <td>13023</td>\n",
       "      <td>-22.891740</td>\n",
       "      <td>-47.060820</td>\n",
       "      <td>campinas</td>\n",
       "      <td>SP</td>\n",
       "    </tr>\n",
       "    <tr>\n",
       "      <th>3</th>\n",
       "      <td>3442f8959a84dea7ee197c632cb2df15</td>\n",
       "      <td>13023</td>\n",
       "      <td>campinas</td>\n",
       "      <td>SP</td>\n",
       "      <td>13023</td>\n",
       "      <td>-22.895762</td>\n",
       "      <td>-47.066144</td>\n",
       "      <td>campinas</td>\n",
       "      <td>SP</td>\n",
       "    </tr>\n",
       "    <tr>\n",
       "      <th>4</th>\n",
       "      <td>3442f8959a84dea7ee197c632cb2df15</td>\n",
       "      <td>13023</td>\n",
       "      <td>campinas</td>\n",
       "      <td>SP</td>\n",
       "      <td>13023</td>\n",
       "      <td>-22.896154</td>\n",
       "      <td>-47.062431</td>\n",
       "      <td>campinas</td>\n",
       "      <td>SP</td>\n",
       "    </tr>\n",
       "    <tr>\n",
       "      <th>...</th>\n",
       "      <td>...</td>\n",
       "      <td>...</td>\n",
       "      <td>...</td>\n",
       "      <td>...</td>\n",
       "      <td>...</td>\n",
       "      <td>...</td>\n",
       "      <td>...</td>\n",
       "      <td>...</td>\n",
       "      <td>...</td>\n",
       "    </tr>\n",
       "    <tr>\n",
       "      <th>311784</th>\n",
       "      <td>9e25199f6ef7e7c347120ff175652c3b</td>\n",
       "      <td>12051</td>\n",
       "      <td>taubate</td>\n",
       "      <td>SP</td>\n",
       "      <td>12051</td>\n",
       "      <td>-23.011130</td>\n",
       "      <td>-45.592347</td>\n",
       "      <td>taubate</td>\n",
       "      <td>SP</td>\n",
       "    </tr>\n",
       "    <tr>\n",
       "      <th>311785</th>\n",
       "      <td>9e25199f6ef7e7c347120ff175652c3b</td>\n",
       "      <td>12051</td>\n",
       "      <td>taubate</td>\n",
       "      <td>SP</td>\n",
       "      <td>12051</td>\n",
       "      <td>-23.013452</td>\n",
       "      <td>-45.584299</td>\n",
       "      <td>taubaté</td>\n",
       "      <td>SP</td>\n",
       "    </tr>\n",
       "    <tr>\n",
       "      <th>311786</th>\n",
       "      <td>9e25199f6ef7e7c347120ff175652c3b</td>\n",
       "      <td>12051</td>\n",
       "      <td>taubate</td>\n",
       "      <td>SP</td>\n",
       "      <td>12051</td>\n",
       "      <td>-23.009155</td>\n",
       "      <td>-45.592019</td>\n",
       "      <td>taubate</td>\n",
       "      <td>SP</td>\n",
       "    </tr>\n",
       "    <tr>\n",
       "      <th>311787</th>\n",
       "      <td>9e25199f6ef7e7c347120ff175652c3b</td>\n",
       "      <td>12051</td>\n",
       "      <td>taubate</td>\n",
       "      <td>SP</td>\n",
       "      <td>12051</td>\n",
       "      <td>-23.009019</td>\n",
       "      <td>-45.584925</td>\n",
       "      <td>taubate</td>\n",
       "      <td>SP</td>\n",
       "    </tr>\n",
       "    <tr>\n",
       "      <th>311788</th>\n",
       "      <td>9e25199f6ef7e7c347120ff175652c3b</td>\n",
       "      <td>12051</td>\n",
       "      <td>taubate</td>\n",
       "      <td>SP</td>\n",
       "      <td>12051</td>\n",
       "      <td>-23.010990</td>\n",
       "      <td>-45.586938</td>\n",
       "      <td>taubaté</td>\n",
       "      <td>SP</td>\n",
       "    </tr>\n",
       "  </tbody>\n",
       "</table>\n",
       "<p>311789 rows × 9 columns</p>\n",
       "</div>"
      ],
      "text/plain": [
       "                               seller_id  seller_zip_code_prefix seller_city  \\\n",
       "0       3442f8959a84dea7ee197c632cb2df15                   13023    campinas   \n",
       "1       3442f8959a84dea7ee197c632cb2df15                   13023    campinas   \n",
       "2       3442f8959a84dea7ee197c632cb2df15                   13023    campinas   \n",
       "3       3442f8959a84dea7ee197c632cb2df15                   13023    campinas   \n",
       "4       3442f8959a84dea7ee197c632cb2df15                   13023    campinas   \n",
       "...                                  ...                     ...         ...   \n",
       "311784  9e25199f6ef7e7c347120ff175652c3b                   12051     taubate   \n",
       "311785  9e25199f6ef7e7c347120ff175652c3b                   12051     taubate   \n",
       "311786  9e25199f6ef7e7c347120ff175652c3b                   12051     taubate   \n",
       "311787  9e25199f6ef7e7c347120ff175652c3b                   12051     taubate   \n",
       "311788  9e25199f6ef7e7c347120ff175652c3b                   12051     taubate   \n",
       "\n",
       "       seller_state geolocation_zip_code_prefix  seller_lat  sellet_lng  \\\n",
       "0                SP                       13023  -22.898536  -47.063125   \n",
       "1                SP                       13023  -22.895499  -47.061944   \n",
       "2                SP                       13023  -22.891740  -47.060820   \n",
       "3                SP                       13023  -22.895762  -47.066144   \n",
       "4                SP                       13023  -22.896154  -47.062431   \n",
       "...             ...                         ...         ...         ...   \n",
       "311784           SP                       12051  -23.011130  -45.592347   \n",
       "311785           SP                       12051  -23.013452  -45.584299   \n",
       "311786           SP                       12051  -23.009155  -45.592019   \n",
       "311787           SP                       12051  -23.009019  -45.584925   \n",
       "311788           SP                       12051  -23.010990  -45.586938   \n",
       "\n",
       "       geolocation_city geolocation_state  \n",
       "0              campinas                SP  \n",
       "1              campinas                SP  \n",
       "2              campinas                SP  \n",
       "3              campinas                SP  \n",
       "4              campinas                SP  \n",
       "...                 ...               ...  \n",
       "311784          taubate                SP  \n",
       "311785          taubaté                SP  \n",
       "311786          taubate                SP  \n",
       "311787          taubate                SP  \n",
       "311788          taubaté                SP  \n",
       "\n",
       "[311789 rows x 9 columns]"
      ]
     },
     "execution_count": 722,
     "metadata": {},
     "output_type": "execute_result"
    }
   ],
   "source": [
    "df2 = pd.merge(df_sellers, df_geolocation, left_on='seller_zip_code_prefix', right_on='geolocation_zip_code_prefix')\n",
    "df2.rename(columns={\n",
    "    'geolocation_lat' : 'seller_lat',\n",
    "    'geolocation_lng' : 'sellet_lng',\n",
    "}, inplace=True)\n",
    "df2"
   ]
  },
  {
   "cell_type": "code",
   "execution_count": 723,
   "id": "fc7c395a",
   "metadata": {},
   "outputs": [],
   "source": [
    "# dropping columns with unnecessary column\n",
    "df2 = df2.drop(columns=['seller_lat','sellet_lng','geolocation_state','geolocation_city','geolocation_zip_code_prefix'])"
   ]
  },
  {
   "cell_type": "code",
   "execution_count": 724,
   "id": "80b3af91",
   "metadata": {},
   "outputs": [
    {
     "data": {
      "text/plain": [
       "308701"
      ]
     },
     "execution_count": 724,
     "metadata": {},
     "output_type": "execute_result"
    }
   ],
   "source": [
    "df2.duplicated(subset=['seller_id'],keep='last').sum()"
   ]
  },
  {
   "cell_type": "code",
   "execution_count": 725,
   "id": "833a986c",
   "metadata": {},
   "outputs": [
    {
     "data": {
      "text/html": [
       "<div>\n",
       "<style scoped>\n",
       "    .dataframe tbody tr th:only-of-type {\n",
       "        vertical-align: middle;\n",
       "    }\n",
       "\n",
       "    .dataframe tbody tr th {\n",
       "        vertical-align: top;\n",
       "    }\n",
       "\n",
       "    .dataframe thead th {\n",
       "        text-align: right;\n",
       "    }\n",
       "</style>\n",
       "<table border=\"1\" class=\"dataframe\">\n",
       "  <thead>\n",
       "    <tr style=\"text-align: right;\">\n",
       "      <th></th>\n",
       "      <th>seller_id</th>\n",
       "      <th>seller_zip_code_prefix</th>\n",
       "      <th>seller_city</th>\n",
       "      <th>seller_state</th>\n",
       "    </tr>\n",
       "  </thead>\n",
       "  <tbody>\n",
       "    <tr>\n",
       "      <th>57</th>\n",
       "      <td>3442f8959a84dea7ee197c632cb2df15</td>\n",
       "      <td>13023</td>\n",
       "      <td>campinas</td>\n",
       "      <td>SP</td>\n",
       "    </tr>\n",
       "    <tr>\n",
       "      <th>115</th>\n",
       "      <td>e0eabded302882513ced4ea3eb0c7059</td>\n",
       "      <td>13023</td>\n",
       "      <td>campinas</td>\n",
       "      <td>SP</td>\n",
       "    </tr>\n",
       "    <tr>\n",
       "      <th>206</th>\n",
       "      <td>d1b65fc7debc3361ea86b5f14c68d2e2</td>\n",
       "      <td>13844</td>\n",
       "      <td>mogi guacu</td>\n",
       "      <td>SP</td>\n",
       "    </tr>\n",
       "    <tr>\n",
       "      <th>304</th>\n",
       "      <td>ce3ad9de960102d0677a81f5d0bb7b2d</td>\n",
       "      <td>20031</td>\n",
       "      <td>rio de janeiro</td>\n",
       "      <td>RJ</td>\n",
       "    </tr>\n",
       "    <tr>\n",
       "      <th>402</th>\n",
       "      <td>1d2732ef8321502ee8488e8bed1ab8cd</td>\n",
       "      <td>20031</td>\n",
       "      <td>rio de janeiro</td>\n",
       "      <td>RJ</td>\n",
       "    </tr>\n",
       "    <tr>\n",
       "      <th>...</th>\n",
       "      <td>...</td>\n",
       "      <td>...</td>\n",
       "      <td>...</td>\n",
       "      <td>...</td>\n",
       "    </tr>\n",
       "    <tr>\n",
       "      <th>311532</th>\n",
       "      <td>f1fdf2d13186575751aa25876536d85c</td>\n",
       "      <td>5314</td>\n",
       "      <td>sao paulo</td>\n",
       "      <td>SP</td>\n",
       "    </tr>\n",
       "    <tr>\n",
       "      <th>311594</th>\n",
       "      <td>98dddbc4601dd4443ca174359b237166</td>\n",
       "      <td>87111</td>\n",
       "      <td>sarandi</td>\n",
       "      <td>PR</td>\n",
       "    </tr>\n",
       "    <tr>\n",
       "      <th>311639</th>\n",
       "      <td>74871d19219c7d518d0090283e03c137</td>\n",
       "      <td>4650</td>\n",
       "      <td>sao paulo</td>\n",
       "      <td>SP</td>\n",
       "    </tr>\n",
       "    <tr>\n",
       "      <th>311723</th>\n",
       "      <td>e603cf3fec55f8697c9059638d6c8eb5</td>\n",
       "      <td>96080</td>\n",
       "      <td>pelotas</td>\n",
       "      <td>RS</td>\n",
       "    </tr>\n",
       "    <tr>\n",
       "      <th>311788</th>\n",
       "      <td>9e25199f6ef7e7c347120ff175652c3b</td>\n",
       "      <td>12051</td>\n",
       "      <td>taubate</td>\n",
       "      <td>SP</td>\n",
       "    </tr>\n",
       "  </tbody>\n",
       "</table>\n",
       "<p>3088 rows × 4 columns</p>\n",
       "</div>"
      ],
      "text/plain": [
       "                               seller_id  seller_zip_code_prefix  \\\n",
       "57      3442f8959a84dea7ee197c632cb2df15                   13023   \n",
       "115     e0eabded302882513ced4ea3eb0c7059                   13023   \n",
       "206     d1b65fc7debc3361ea86b5f14c68d2e2                   13844   \n",
       "304     ce3ad9de960102d0677a81f5d0bb7b2d                   20031   \n",
       "402     1d2732ef8321502ee8488e8bed1ab8cd                   20031   \n",
       "...                                  ...                     ...   \n",
       "311532  f1fdf2d13186575751aa25876536d85c                    5314   \n",
       "311594  98dddbc4601dd4443ca174359b237166                   87111   \n",
       "311639  74871d19219c7d518d0090283e03c137                    4650   \n",
       "311723  e603cf3fec55f8697c9059638d6c8eb5                   96080   \n",
       "311788  9e25199f6ef7e7c347120ff175652c3b                   12051   \n",
       "\n",
       "           seller_city seller_state  \n",
       "57            campinas           SP  \n",
       "115           campinas           SP  \n",
       "206         mogi guacu           SP  \n",
       "304     rio de janeiro           RJ  \n",
       "402     rio de janeiro           RJ  \n",
       "...                ...          ...  \n",
       "311532       sao paulo           SP  \n",
       "311594         sarandi           PR  \n",
       "311639       sao paulo           SP  \n",
       "311723         pelotas           RS  \n",
       "311788         taubate           SP  \n",
       "\n",
       "[3088 rows x 4 columns]"
      ]
     },
     "execution_count": 725,
     "metadata": {},
     "output_type": "execute_result"
    }
   ],
   "source": [
    "df2=df2.drop_duplicates(subset=['seller_id'],keep='last')\n",
    "df2"
   ]
  },
  {
   "cell_type": "markdown",
   "id": "eca10575",
   "metadata": {},
   "source": [
    "### Step 3: Merging all data set together"
   ]
  },
  {
   "cell_type": "code",
   "execution_count": 726,
   "id": "3dd58f0e",
   "metadata": {},
   "outputs": [],
   "source": [
    "df_final = pd.merge(df_item,df_products, on='product_id', how='inner')\n",
    "df_final = df_final.merge(df2, on='seller_id', how='inner')\n",
    "df_final = df_final.merge(df_orders, on='order_id', how='inner')\n",
    "df_final = df_final.merge(df_order_pay, on='order_id', how='inner')\n",
    "df_final = df_final.merge(df, on='customer_id', how='inner')\n",
    "df_final = df_final.merge(df_reviews, on='order_id', how='inner')"
   ]
  },
  {
   "cell_type": "code",
   "execution_count": 727,
   "id": "8e57ae04",
   "metadata": {},
   "outputs": [
    {
     "data": {
      "text/plain": [
       "(116007, 36)"
      ]
     },
     "execution_count": 727,
     "metadata": {},
     "output_type": "execute_result"
    }
   ],
   "source": [
    "df_final.shape"
   ]
  },
  {
   "cell_type": "code",
   "execution_count": 728,
   "id": "46fae98e",
   "metadata": {},
   "outputs": [
    {
     "data": {
      "text/html": [
       "<div>\n",
       "<style scoped>\n",
       "    .dataframe tbody tr th:only-of-type {\n",
       "        vertical-align: middle;\n",
       "    }\n",
       "\n",
       "    .dataframe tbody tr th {\n",
       "        vertical-align: top;\n",
       "    }\n",
       "\n",
       "    .dataframe thead th {\n",
       "        text-align: right;\n",
       "    }\n",
       "</style>\n",
       "<table border=\"1\" class=\"dataframe\">\n",
       "  <thead>\n",
       "    <tr style=\"text-align: right;\">\n",
       "      <th></th>\n",
       "      <th>order_id</th>\n",
       "      <th>order_item_id</th>\n",
       "      <th>product_id</th>\n",
       "      <th>seller_id</th>\n",
       "      <th>shipping_limit_date</th>\n",
       "      <th>price</th>\n",
       "      <th>freight_value</th>\n",
       "      <th>product_name_lenght</th>\n",
       "      <th>product_description_lenght</th>\n",
       "      <th>product_photos_qty</th>\n",
       "      <th>...</th>\n",
       "      <th>payment_type</th>\n",
       "      <th>payment_installments</th>\n",
       "      <th>payment_value</th>\n",
       "      <th>customer_zip_code_prefix</th>\n",
       "      <th>customer_city</th>\n",
       "      <th>customer_state</th>\n",
       "      <th>review_id</th>\n",
       "      <th>review_score</th>\n",
       "      <th>review_creation_date</th>\n",
       "      <th>review_answer_timestamp</th>\n",
       "    </tr>\n",
       "  </thead>\n",
       "  <tbody>\n",
       "    <tr>\n",
       "      <th>0</th>\n",
       "      <td>00010242fe8c5a6d1ba2dd792cb16214</td>\n",
       "      <td>1</td>\n",
       "      <td>4244733e06e7ecb4970a6e2683c13e61</td>\n",
       "      <td>48436dade18ac8b2bce089ec2a041202</td>\n",
       "      <td>2017-09-19 09:45:35</td>\n",
       "      <td>58.9</td>\n",
       "      <td>13.29</td>\n",
       "      <td>58.0</td>\n",
       "      <td>598.0</td>\n",
       "      <td>4.0</td>\n",
       "      <td>...</td>\n",
       "      <td>credit_card</td>\n",
       "      <td>2</td>\n",
       "      <td>72.19</td>\n",
       "      <td>28013</td>\n",
       "      <td>campos dos goytacazes</td>\n",
       "      <td>RJ</td>\n",
       "      <td>97ca439bc427b48bc1cd7177abe71365</td>\n",
       "      <td>5</td>\n",
       "      <td>2017-09-21</td>\n",
       "      <td>2017-09-22 10:57:03</td>\n",
       "    </tr>\n",
       "    <tr>\n",
       "      <th>1</th>\n",
       "      <td>130898c0987d1801452a8ed92a670612</td>\n",
       "      <td>1</td>\n",
       "      <td>4244733e06e7ecb4970a6e2683c13e61</td>\n",
       "      <td>48436dade18ac8b2bce089ec2a041202</td>\n",
       "      <td>2017-07-05 02:44:11</td>\n",
       "      <td>55.9</td>\n",
       "      <td>17.96</td>\n",
       "      <td>58.0</td>\n",
       "      <td>598.0</td>\n",
       "      <td>4.0</td>\n",
       "      <td>...</td>\n",
       "      <td>boleto</td>\n",
       "      <td>1</td>\n",
       "      <td>73.86</td>\n",
       "      <td>75800</td>\n",
       "      <td>jatai</td>\n",
       "      <td>GO</td>\n",
       "      <td>b11cba360bbe71410c291b764753d37f</td>\n",
       "      <td>5</td>\n",
       "      <td>2017-07-14</td>\n",
       "      <td>2017-07-17 12:50:07</td>\n",
       "    </tr>\n",
       "    <tr>\n",
       "      <th>2</th>\n",
       "      <td>532ed5e14e24ae1f0d735b91524b98b9</td>\n",
       "      <td>1</td>\n",
       "      <td>4244733e06e7ecb4970a6e2683c13e61</td>\n",
       "      <td>48436dade18ac8b2bce089ec2a041202</td>\n",
       "      <td>2018-05-23 10:56:25</td>\n",
       "      <td>64.9</td>\n",
       "      <td>18.33</td>\n",
       "      <td>58.0</td>\n",
       "      <td>598.0</td>\n",
       "      <td>4.0</td>\n",
       "      <td>...</td>\n",
       "      <td>credit_card</td>\n",
       "      <td>2</td>\n",
       "      <td>83.23</td>\n",
       "      <td>30720</td>\n",
       "      <td>belo horizonte</td>\n",
       "      <td>MG</td>\n",
       "      <td>af01c4017c5ab46df6cc810e069e654a</td>\n",
       "      <td>4</td>\n",
       "      <td>2018-06-05</td>\n",
       "      <td>2018-06-06 21:41:12</td>\n",
       "    </tr>\n",
       "    <tr>\n",
       "      <th>3</th>\n",
       "      <td>6f8c31653edb8c83e1a739408b5ff750</td>\n",
       "      <td>1</td>\n",
       "      <td>4244733e06e7ecb4970a6e2683c13e61</td>\n",
       "      <td>48436dade18ac8b2bce089ec2a041202</td>\n",
       "      <td>2017-08-07 18:55:08</td>\n",
       "      <td>58.9</td>\n",
       "      <td>16.17</td>\n",
       "      <td>58.0</td>\n",
       "      <td>598.0</td>\n",
       "      <td>4.0</td>\n",
       "      <td>...</td>\n",
       "      <td>credit_card</td>\n",
       "      <td>3</td>\n",
       "      <td>75.07</td>\n",
       "      <td>83070</td>\n",
       "      <td>sao jose dos pinhais</td>\n",
       "      <td>PR</td>\n",
       "      <td>8304ff37d8b16b57086fa283fe0c44f8</td>\n",
       "      <td>5</td>\n",
       "      <td>2017-08-10</td>\n",
       "      <td>2017-08-13 03:35:17</td>\n",
       "    </tr>\n",
       "    <tr>\n",
       "      <th>4</th>\n",
       "      <td>7d19f4ef4d04461989632411b7e588b9</td>\n",
       "      <td>1</td>\n",
       "      <td>4244733e06e7ecb4970a6e2683c13e61</td>\n",
       "      <td>48436dade18ac8b2bce089ec2a041202</td>\n",
       "      <td>2017-08-16 22:05:11</td>\n",
       "      <td>58.9</td>\n",
       "      <td>13.29</td>\n",
       "      <td>58.0</td>\n",
       "      <td>598.0</td>\n",
       "      <td>4.0</td>\n",
       "      <td>...</td>\n",
       "      <td>credit_card</td>\n",
       "      <td>4</td>\n",
       "      <td>72.19</td>\n",
       "      <td>36400</td>\n",
       "      <td>conselheiro lafaiete</td>\n",
       "      <td>MG</td>\n",
       "      <td>426f43a82185969503fb3c86241a9535</td>\n",
       "      <td>5</td>\n",
       "      <td>2017-08-25</td>\n",
       "      <td>2017-08-28 00:51:18</td>\n",
       "    </tr>\n",
       "  </tbody>\n",
       "</table>\n",
       "<p>5 rows × 36 columns</p>\n",
       "</div>"
      ],
      "text/plain": [
       "                           order_id  order_item_id  \\\n",
       "0  00010242fe8c5a6d1ba2dd792cb16214              1   \n",
       "1  130898c0987d1801452a8ed92a670612              1   \n",
       "2  532ed5e14e24ae1f0d735b91524b98b9              1   \n",
       "3  6f8c31653edb8c83e1a739408b5ff750              1   \n",
       "4  7d19f4ef4d04461989632411b7e588b9              1   \n",
       "\n",
       "                         product_id                         seller_id  \\\n",
       "0  4244733e06e7ecb4970a6e2683c13e61  48436dade18ac8b2bce089ec2a041202   \n",
       "1  4244733e06e7ecb4970a6e2683c13e61  48436dade18ac8b2bce089ec2a041202   \n",
       "2  4244733e06e7ecb4970a6e2683c13e61  48436dade18ac8b2bce089ec2a041202   \n",
       "3  4244733e06e7ecb4970a6e2683c13e61  48436dade18ac8b2bce089ec2a041202   \n",
       "4  4244733e06e7ecb4970a6e2683c13e61  48436dade18ac8b2bce089ec2a041202   \n",
       "\n",
       "  shipping_limit_date  price  freight_value  product_name_lenght  \\\n",
       "0 2017-09-19 09:45:35   58.9          13.29                 58.0   \n",
       "1 2017-07-05 02:44:11   55.9          17.96                 58.0   \n",
       "2 2018-05-23 10:56:25   64.9          18.33                 58.0   \n",
       "3 2017-08-07 18:55:08   58.9          16.17                 58.0   \n",
       "4 2017-08-16 22:05:11   58.9          13.29                 58.0   \n",
       "\n",
       "   product_description_lenght  product_photos_qty  ...  payment_type  \\\n",
       "0                       598.0                 4.0  ...   credit_card   \n",
       "1                       598.0                 4.0  ...        boleto   \n",
       "2                       598.0                 4.0  ...   credit_card   \n",
       "3                       598.0                 4.0  ...   credit_card   \n",
       "4                       598.0                 4.0  ...   credit_card   \n",
       "\n",
       "   payment_installments  payment_value  customer_zip_code_prefix  \\\n",
       "0                     2          72.19                     28013   \n",
       "1                     1          73.86                     75800   \n",
       "2                     2          83.23                     30720   \n",
       "3                     3          75.07                     83070   \n",
       "4                     4          72.19                     36400   \n",
       "\n",
       "           customer_city  customer_state                         review_id  \\\n",
       "0  campos dos goytacazes              RJ  97ca439bc427b48bc1cd7177abe71365   \n",
       "1                  jatai              GO  b11cba360bbe71410c291b764753d37f   \n",
       "2         belo horizonte              MG  af01c4017c5ab46df6cc810e069e654a   \n",
       "3   sao jose dos pinhais              PR  8304ff37d8b16b57086fa283fe0c44f8   \n",
       "4   conselheiro lafaiete              MG  426f43a82185969503fb3c86241a9535   \n",
       "\n",
       "  review_score review_creation_date review_answer_timestamp  \n",
       "0            5           2017-09-21     2017-09-22 10:57:03  \n",
       "1            5           2017-07-14     2017-07-17 12:50:07  \n",
       "2            4           2018-06-05     2018-06-06 21:41:12  \n",
       "3            5           2017-08-10     2017-08-13 03:35:17  \n",
       "4            5           2017-08-25     2017-08-28 00:51:18  \n",
       "\n",
       "[5 rows x 36 columns]"
      ]
     },
     "execution_count": 728,
     "metadata": {},
     "output_type": "execute_result"
    }
   ],
   "source": [
    "df_final.head()"
   ]
  },
  {
   "cell_type": "code",
   "execution_count": 729,
   "id": "af5aa68e",
   "metadata": {},
   "outputs": [
    {
     "data": {
      "text/plain": [
       "0"
      ]
     },
     "execution_count": 729,
     "metadata": {},
     "output_type": "execute_result"
    }
   ],
   "source": [
    "df_final.duplicated(keep=False).sum()"
   ]
  },
  {
   "cell_type": "code",
   "execution_count": 730,
   "id": "1747c488",
   "metadata": {},
   "outputs": [
    {
     "data": {
      "text/html": [
       "<div>\n",
       "<style scoped>\n",
       "    .dataframe tbody tr th:only-of-type {\n",
       "        vertical-align: middle;\n",
       "    }\n",
       "\n",
       "    .dataframe tbody tr th {\n",
       "        vertical-align: top;\n",
       "    }\n",
       "\n",
       "    .dataframe thead th {\n",
       "        text-align: right;\n",
       "    }\n",
       "</style>\n",
       "<table border=\"1\" class=\"dataframe\">\n",
       "  <thead>\n",
       "    <tr style=\"text-align: right;\">\n",
       "      <th></th>\n",
       "      <th>order_item_id</th>\n",
       "      <th>price</th>\n",
       "      <th>freight_value</th>\n",
       "      <th>product_name_lenght</th>\n",
       "      <th>product_description_lenght</th>\n",
       "      <th>product_photos_qty</th>\n",
       "      <th>product_weight_g</th>\n",
       "      <th>product_length_cm</th>\n",
       "      <th>product_height_cm</th>\n",
       "      <th>product_width_cm</th>\n",
       "      <th>seller_zip_code_prefix</th>\n",
       "      <th>payment_sequential</th>\n",
       "      <th>payment_installments</th>\n",
       "      <th>payment_value</th>\n",
       "      <th>customer_zip_code_prefix</th>\n",
       "      <th>review_score</th>\n",
       "    </tr>\n",
       "  </thead>\n",
       "  <tbody>\n",
       "    <tr>\n",
       "      <th>count</th>\n",
       "      <td>116007.000000</td>\n",
       "      <td>116007.000000</td>\n",
       "      <td>116007.000000</td>\n",
       "      <td>116007.000000</td>\n",
       "      <td>116007.000000</td>\n",
       "      <td>116007.000000</td>\n",
       "      <td>116006.000000</td>\n",
       "      <td>116006.000000</td>\n",
       "      <td>116006.000000</td>\n",
       "      <td>116006.000000</td>\n",
       "      <td>116007.000000</td>\n",
       "      <td>116007.000000</td>\n",
       "      <td>116007.000000</td>\n",
       "      <td>116007.000000</td>\n",
       "      <td>116007.000000</td>\n",
       "      <td>116007.000000</td>\n",
       "    </tr>\n",
       "    <tr>\n",
       "      <th>mean</th>\n",
       "      <td>1.197117</td>\n",
       "      <td>120.782909</td>\n",
       "      <td>20.055148</td>\n",
       "      <td>48.754110</td>\n",
       "      <td>786.016404</td>\n",
       "      <td>2.199979</td>\n",
       "      <td>2114.007888</td>\n",
       "      <td>30.311458</td>\n",
       "      <td>16.666052</td>\n",
       "      <td>23.107874</td>\n",
       "      <td>24512.540631</td>\n",
       "      <td>1.093675</td>\n",
       "      <td>2.947900</td>\n",
       "      <td>172.936161</td>\n",
       "      <td>34975.729628</td>\n",
       "      <td>4.017370</td>\n",
       "    </tr>\n",
       "    <tr>\n",
       "      <th>std</th>\n",
       "      <td>0.702168</td>\n",
       "      <td>184.052353</td>\n",
       "      <td>15.859804</td>\n",
       "      <td>10.037875</td>\n",
       "      <td>653.245347</td>\n",
       "      <td>1.712903</td>\n",
       "      <td>3778.573482</td>\n",
       "      <td>16.215368</td>\n",
       "      <td>13.485268</td>\n",
       "      <td>11.734252</td>\n",
       "      <td>27632.744820</td>\n",
       "      <td>0.728921</td>\n",
       "      <td>2.782784</td>\n",
       "      <td>267.958699</td>\n",
       "      <td>29805.562138</td>\n",
       "      <td>1.397992</td>\n",
       "    </tr>\n",
       "    <tr>\n",
       "      <th>min</th>\n",
       "      <td>1.000000</td>\n",
       "      <td>0.850000</td>\n",
       "      <td>0.000000</td>\n",
       "      <td>5.000000</td>\n",
       "      <td>4.000000</td>\n",
       "      <td>1.000000</td>\n",
       "      <td>0.000000</td>\n",
       "      <td>7.000000</td>\n",
       "      <td>2.000000</td>\n",
       "      <td>6.000000</td>\n",
       "      <td>1001.000000</td>\n",
       "      <td>1.000000</td>\n",
       "      <td>0.000000</td>\n",
       "      <td>0.000000</td>\n",
       "      <td>1003.000000</td>\n",
       "      <td>1.000000</td>\n",
       "    </tr>\n",
       "    <tr>\n",
       "      <th>25%</th>\n",
       "      <td>1.000000</td>\n",
       "      <td>39.900000</td>\n",
       "      <td>13.080000</td>\n",
       "      <td>42.000000</td>\n",
       "      <td>345.000000</td>\n",
       "      <td>1.000000</td>\n",
       "      <td>300.000000</td>\n",
       "      <td>18.000000</td>\n",
       "      <td>8.000000</td>\n",
       "      <td>15.000000</td>\n",
       "      <td>6429.000000</td>\n",
       "      <td>1.000000</td>\n",
       "      <td>1.000000</td>\n",
       "      <td>60.900000</td>\n",
       "      <td>11250.000000</td>\n",
       "      <td>4.000000</td>\n",
       "    </tr>\n",
       "    <tr>\n",
       "      <th>50%</th>\n",
       "      <td>1.000000</td>\n",
       "      <td>74.900000</td>\n",
       "      <td>16.320000</td>\n",
       "      <td>52.000000</td>\n",
       "      <td>600.000000</td>\n",
       "      <td>1.000000</td>\n",
       "      <td>700.000000</td>\n",
       "      <td>25.000000</td>\n",
       "      <td>13.000000</td>\n",
       "      <td>20.000000</td>\n",
       "      <td>13720.000000</td>\n",
       "      <td>1.000000</td>\n",
       "      <td>2.000000</td>\n",
       "      <td>108.110000</td>\n",
       "      <td>24230.000000</td>\n",
       "      <td>5.000000</td>\n",
       "    </tr>\n",
       "    <tr>\n",
       "      <th>75%</th>\n",
       "      <td>1.000000</td>\n",
       "      <td>134.900000</td>\n",
       "      <td>21.200000</td>\n",
       "      <td>57.000000</td>\n",
       "      <td>983.000000</td>\n",
       "      <td>3.000000</td>\n",
       "      <td>1800.000000</td>\n",
       "      <td>38.000000</td>\n",
       "      <td>20.000000</td>\n",
       "      <td>30.000000</td>\n",
       "      <td>27972.000000</td>\n",
       "      <td>1.000000</td>\n",
       "      <td>4.000000</td>\n",
       "      <td>189.710000</td>\n",
       "      <td>58200.000000</td>\n",
       "      <td>5.000000</td>\n",
       "    </tr>\n",
       "    <tr>\n",
       "      <th>max</th>\n",
       "      <td>21.000000</td>\n",
       "      <td>6735.000000</td>\n",
       "      <td>409.680000</td>\n",
       "      <td>76.000000</td>\n",
       "      <td>3992.000000</td>\n",
       "      <td>20.000000</td>\n",
       "      <td>40425.000000</td>\n",
       "      <td>105.000000</td>\n",
       "      <td>105.000000</td>\n",
       "      <td>118.000000</td>\n",
       "      <td>99730.000000</td>\n",
       "      <td>29.000000</td>\n",
       "      <td>24.000000</td>\n",
       "      <td>13664.080000</td>\n",
       "      <td>99980.000000</td>\n",
       "      <td>5.000000</td>\n",
       "    </tr>\n",
       "  </tbody>\n",
       "</table>\n",
       "</div>"
      ],
      "text/plain": [
       "       order_item_id          price  freight_value  product_name_lenght  \\\n",
       "count  116007.000000  116007.000000  116007.000000        116007.000000   \n",
       "mean        1.197117     120.782909      20.055148            48.754110   \n",
       "std         0.702168     184.052353      15.859804            10.037875   \n",
       "min         1.000000       0.850000       0.000000             5.000000   \n",
       "25%         1.000000      39.900000      13.080000            42.000000   \n",
       "50%         1.000000      74.900000      16.320000            52.000000   \n",
       "75%         1.000000     134.900000      21.200000            57.000000   \n",
       "max        21.000000    6735.000000     409.680000            76.000000   \n",
       "\n",
       "       product_description_lenght  product_photos_qty  product_weight_g  \\\n",
       "count               116007.000000       116007.000000     116006.000000   \n",
       "mean                   786.016404            2.199979       2114.007888   \n",
       "std                    653.245347            1.712903       3778.573482   \n",
       "min                      4.000000            1.000000          0.000000   \n",
       "25%                    345.000000            1.000000        300.000000   \n",
       "50%                    600.000000            1.000000        700.000000   \n",
       "75%                    983.000000            3.000000       1800.000000   \n",
       "max                   3992.000000           20.000000      40425.000000   \n",
       "\n",
       "       product_length_cm  product_height_cm  product_width_cm  \\\n",
       "count      116006.000000      116006.000000     116006.000000   \n",
       "mean           30.311458          16.666052         23.107874   \n",
       "std            16.215368          13.485268         11.734252   \n",
       "min             7.000000           2.000000          6.000000   \n",
       "25%            18.000000           8.000000         15.000000   \n",
       "50%            25.000000          13.000000         20.000000   \n",
       "75%            38.000000          20.000000         30.000000   \n",
       "max           105.000000         105.000000        118.000000   \n",
       "\n",
       "       seller_zip_code_prefix  payment_sequential  payment_installments  \\\n",
       "count           116007.000000       116007.000000         116007.000000   \n",
       "mean             24512.540631            1.093675              2.947900   \n",
       "std              27632.744820            0.728921              2.782784   \n",
       "min               1001.000000            1.000000              0.000000   \n",
       "25%               6429.000000            1.000000              1.000000   \n",
       "50%              13720.000000            1.000000              2.000000   \n",
       "75%              27972.000000            1.000000              4.000000   \n",
       "max              99730.000000           29.000000             24.000000   \n",
       "\n",
       "       payment_value  customer_zip_code_prefix   review_score  \n",
       "count  116007.000000             116007.000000  116007.000000  \n",
       "mean      172.936161              34975.729628       4.017370  \n",
       "std       267.958699              29805.562138       1.397992  \n",
       "min         0.000000               1003.000000       1.000000  \n",
       "25%        60.900000              11250.000000       4.000000  \n",
       "50%       108.110000              24230.000000       5.000000  \n",
       "75%       189.710000              58200.000000       5.000000  \n",
       "max     13664.080000              99980.000000       5.000000  "
      ]
     },
     "execution_count": 730,
     "metadata": {},
     "output_type": "execute_result"
    }
   ],
   "source": [
    "df_final.describe()"
   ]
  },
  {
   "cell_type": "code",
   "execution_count": 731,
   "id": "867cf0e1",
   "metadata": {},
   "outputs": [
    {
     "data": {
      "text/html": [
       "<div>\n",
       "<style scoped>\n",
       "    .dataframe tbody tr th:only-of-type {\n",
       "        vertical-align: middle;\n",
       "    }\n",
       "\n",
       "    .dataframe tbody tr th {\n",
       "        vertical-align: top;\n",
       "    }\n",
       "\n",
       "    .dataframe thead th {\n",
       "        text-align: right;\n",
       "    }\n",
       "</style>\n",
       "<table border=\"1\" class=\"dataframe\">\n",
       "  <thead>\n",
       "    <tr style=\"text-align: right;\">\n",
       "      <th></th>\n",
       "      <th>product_category_name_english</th>\n",
       "      <th>seller_city</th>\n",
       "      <th>seller_state</th>\n",
       "      <th>order_status</th>\n",
       "      <th>payment_type</th>\n",
       "      <th>customer_city</th>\n",
       "      <th>customer_state</th>\n",
       "    </tr>\n",
       "  </thead>\n",
       "  <tbody>\n",
       "    <tr>\n",
       "      <th>count</th>\n",
       "      <td>116007</td>\n",
       "      <td>116007</td>\n",
       "      <td>116007</td>\n",
       "      <td>116007</td>\n",
       "      <td>116007</td>\n",
       "      <td>116007</td>\n",
       "      <td>116007</td>\n",
       "    </tr>\n",
       "    <tr>\n",
       "      <th>unique</th>\n",
       "      <td>71</td>\n",
       "      <td>604</td>\n",
       "      <td>23</td>\n",
       "      <td>7</td>\n",
       "      <td>4</td>\n",
       "      <td>4046</td>\n",
       "      <td>27</td>\n",
       "    </tr>\n",
       "    <tr>\n",
       "      <th>top</th>\n",
       "      <td>bed_bath_table</td>\n",
       "      <td>sao paulo</td>\n",
       "      <td>SP</td>\n",
       "      <td>delivered</td>\n",
       "      <td>credit_card</td>\n",
       "      <td>sao paulo</td>\n",
       "      <td>SP</td>\n",
       "    </tr>\n",
       "    <tr>\n",
       "      <th>freq</th>\n",
       "      <td>11962</td>\n",
       "      <td>28840</td>\n",
       "      <td>82744</td>\n",
       "      <td>113510</td>\n",
       "      <td>85566</td>\n",
       "      <td>18369</td>\n",
       "      <td>49018</td>\n",
       "    </tr>\n",
       "  </tbody>\n",
       "</table>\n",
       "</div>"
      ],
      "text/plain": [
       "       product_category_name_english seller_city seller_state order_status  \\\n",
       "count                         116007      116007       116007       116007   \n",
       "unique                            71         604           23            7   \n",
       "top                   bed_bath_table   sao paulo           SP    delivered   \n",
       "freq                           11962       28840        82744       113510   \n",
       "\n",
       "       payment_type customer_city customer_state  \n",
       "count        116007        116007         116007  \n",
       "unique            4          4046             27  \n",
       "top     credit_card     sao paulo             SP  \n",
       "freq          85566         18369          49018  "
      ]
     },
     "execution_count": 731,
     "metadata": {},
     "output_type": "execute_result"
    }
   ],
   "source": [
    "df_final.describe(include=['category'])"
   ]
  },
  {
   "cell_type": "code",
   "execution_count": 732,
   "id": "093d9977",
   "metadata": {},
   "outputs": [
    {
     "data": {
      "text/html": [
       "<div>\n",
       "<style scoped>\n",
       "    .dataframe tbody tr th:only-of-type {\n",
       "        vertical-align: middle;\n",
       "    }\n",
       "\n",
       "    .dataframe tbody tr th {\n",
       "        vertical-align: top;\n",
       "    }\n",
       "\n",
       "    .dataframe thead th {\n",
       "        text-align: right;\n",
       "    }\n",
       "</style>\n",
       "<table border=\"1\" class=\"dataframe\">\n",
       "  <thead>\n",
       "    <tr style=\"text-align: right;\">\n",
       "      <th></th>\n",
       "      <th>order_id</th>\n",
       "      <th>product_id</th>\n",
       "      <th>seller_id</th>\n",
       "      <th>customer_id</th>\n",
       "      <th>review_id</th>\n",
       "    </tr>\n",
       "  </thead>\n",
       "  <tbody>\n",
       "    <tr>\n",
       "      <th>count</th>\n",
       "      <td>116007</td>\n",
       "      <td>116007</td>\n",
       "      <td>116007</td>\n",
       "      <td>116007</td>\n",
       "      <td>116007</td>\n",
       "    </tr>\n",
       "    <tr>\n",
       "      <th>unique</th>\n",
       "      <td>96773</td>\n",
       "      <td>32220</td>\n",
       "      <td>3026</td>\n",
       "      <td>96773</td>\n",
       "      <td>96572</td>\n",
       "    </tr>\n",
       "    <tr>\n",
       "      <th>top</th>\n",
       "      <td>895ab968e7bb0d5659d16cd74cd1650c</td>\n",
       "      <td>aca2eb7d00ea1a7b8ebd4e68314663af</td>\n",
       "      <td>4a3ca9315b744ce9f8e9374361493884</td>\n",
       "      <td>270c23a11d024a44c896d1894b261a83</td>\n",
       "      <td>eef5dbca8d37dfce6db7d7b16dd0525e</td>\n",
       "    </tr>\n",
       "    <tr>\n",
       "      <th>freq</th>\n",
       "      <td>63</td>\n",
       "      <td>534</td>\n",
       "      <td>2153</td>\n",
       "      <td>63</td>\n",
       "      <td>63</td>\n",
       "    </tr>\n",
       "  </tbody>\n",
       "</table>\n",
       "</div>"
      ],
      "text/plain": [
       "                                order_id                        product_id  \\\n",
       "count                             116007                            116007   \n",
       "unique                             96773                             32220   \n",
       "top     895ab968e7bb0d5659d16cd74cd1650c  aca2eb7d00ea1a7b8ebd4e68314663af   \n",
       "freq                                  63                               534   \n",
       "\n",
       "                               seller_id                       customer_id  \\\n",
       "count                             116007                            116007   \n",
       "unique                              3026                             96773   \n",
       "top     4a3ca9315b744ce9f8e9374361493884  270c23a11d024a44c896d1894b261a83   \n",
       "freq                                2153                                63   \n",
       "\n",
       "                               review_id  \n",
       "count                             116007  \n",
       "unique                             96572  \n",
       "top     eef5dbca8d37dfce6db7d7b16dd0525e  \n",
       "freq                                  63  "
      ]
     },
     "execution_count": 732,
     "metadata": {},
     "output_type": "execute_result"
    }
   ],
   "source": [
    "df_final.describe(include=['object'])"
   ]
  },
  {
   "cell_type": "markdown",
   "id": "4e66c550",
   "metadata": {},
   "source": [
    "## Deal with missing data"
   ]
  },
  {
   "cell_type": "code",
   "execution_count": 733,
   "id": "f670cd4a",
   "metadata": {},
   "outputs": [
    {
     "name": "stdout",
     "output_type": "stream",
     "text": [
      "<class 'pandas.core.frame.DataFrame'>\n",
      "Int64Index: 116007 entries, 0 to 116006\n",
      "Data columns (total 36 columns):\n",
      " #   Column                         Non-Null Count   Dtype         \n",
      "---  ------                         --------------   -----         \n",
      " 0   order_id                       116007 non-null  object        \n",
      " 1   order_item_id                  116007 non-null  int64         \n",
      " 2   product_id                     116007 non-null  object        \n",
      " 3   seller_id                      116007 non-null  object        \n",
      " 4   shipping_limit_date            116007 non-null  datetime64[ns]\n",
      " 5   price                          116007 non-null  float64       \n",
      " 6   freight_value                  116007 non-null  float64       \n",
      " 7   product_name_lenght            116007 non-null  float64       \n",
      " 8   product_description_lenght     116007 non-null  float64       \n",
      " 9   product_photos_qty             116007 non-null  float64       \n",
      " 10  product_weight_g               116006 non-null  float64       \n",
      " 11  product_length_cm              116006 non-null  float64       \n",
      " 12  product_height_cm              116006 non-null  float64       \n",
      " 13  product_width_cm               116006 non-null  float64       \n",
      " 14  product_category_name_english  116007 non-null  category      \n",
      " 15  seller_zip_code_prefix         116007 non-null  int64         \n",
      " 16  seller_city                    116007 non-null  category      \n",
      " 17  seller_state                   116007 non-null  category      \n",
      " 18  customer_id                    116007 non-null  object        \n",
      " 19  order_status                   116007 non-null  category      \n",
      " 20  order_purchase_timestamp       116007 non-null  datetime64[ns]\n",
      " 21  order_approved_at              115993 non-null  datetime64[ns]\n",
      " 22  order_delivered_carrier_date   114805 non-null  datetime64[ns]\n",
      " 23  order_delivered_customer_date  113509 non-null  datetime64[ns]\n",
      " 24  order_estimated_delivery_date  116007 non-null  datetime64[ns]\n",
      " 25  payment_sequential             116007 non-null  int64         \n",
      " 26  payment_type                   116007 non-null  category      \n",
      " 27  payment_installments           116007 non-null  int64         \n",
      " 28  payment_value                  116007 non-null  float64       \n",
      " 29  customer_zip_code_prefix       116007 non-null  int64         \n",
      " 30  customer_city                  116007 non-null  category      \n",
      " 31  customer_state                 116007 non-null  category      \n",
      " 32  review_id                      116007 non-null  object        \n",
      " 33  review_score                   116007 non-null  int64         \n",
      " 34  review_creation_date           116007 non-null  datetime64[ns]\n",
      " 35  review_answer_timestamp        116007 non-null  datetime64[ns]\n",
      "dtypes: category(7), datetime64[ns](8), float64(10), int64(6), object(5)\n",
      "memory usage: 27.7+ MB\n"
     ]
    }
   ],
   "source": [
    "#ตรวจชนิดของข้อมูล\n",
    "#data.dtypes\n",
    "df_final.info()"
   ]
  },
  {
   "cell_type": "code",
   "execution_count": 734,
   "id": "af54f28f",
   "metadata": {},
   "outputs": [],
   "source": [
    "df_final['seller_zip_code_prefix'] = df_final['seller_zip_code_prefix'].astype('category')\n",
    "df_final['customer_zip_code_prefix'] = df_final['customer_zip_code_prefix'].astype('category')"
   ]
  },
  {
   "cell_type": "code",
   "execution_count": 735,
   "id": "d03631a2",
   "metadata": {},
   "outputs": [
    {
     "data": {
      "text/plain": [
       "order_id                            0\n",
       "order_item_id                       0\n",
       "product_id                          0\n",
       "seller_id                           0\n",
       "shipping_limit_date                 0\n",
       "price                               0\n",
       "freight_value                       0\n",
       "product_name_lenght                 0\n",
       "product_description_lenght          0\n",
       "product_photos_qty                  0\n",
       "product_weight_g                    1\n",
       "product_length_cm                   1\n",
       "product_height_cm                   1\n",
       "product_width_cm                    1\n",
       "product_category_name_english       0\n",
       "seller_zip_code_prefix              0\n",
       "seller_city                         0\n",
       "seller_state                        0\n",
       "customer_id                         0\n",
       "order_status                        0\n",
       "order_purchase_timestamp            0\n",
       "order_approved_at                  14\n",
       "order_delivered_carrier_date     1202\n",
       "order_delivered_customer_date    2498\n",
       "order_estimated_delivery_date       0\n",
       "payment_sequential                  0\n",
       "payment_type                        0\n",
       "payment_installments                0\n",
       "payment_value                       0\n",
       "customer_zip_code_prefix            0\n",
       "customer_city                       0\n",
       "customer_state                      0\n",
       "review_id                           0\n",
       "review_score                        0\n",
       "review_creation_date                0\n",
       "review_answer_timestamp             0\n",
       "dtype: int64"
      ]
     },
     "execution_count": 735,
     "metadata": {},
     "output_type": "execute_result"
    }
   ],
   "source": [
    "# Attempt to find number of null for each columns\n",
    "df_final.isnull().sum()"
   ]
  },
  {
   "cell_type": "code",
   "execution_count": 736,
   "id": "00d9b004",
   "metadata": {},
   "outputs": [
    {
     "data": {
      "text/html": [
       "<div>\n",
       "<style scoped>\n",
       "    .dataframe tbody tr th:only-of-type {\n",
       "        vertical-align: middle;\n",
       "    }\n",
       "\n",
       "    .dataframe tbody tr th {\n",
       "        vertical-align: top;\n",
       "    }\n",
       "\n",
       "    .dataframe thead th {\n",
       "        text-align: right;\n",
       "    }\n",
       "</style>\n",
       "<table border=\"1\" class=\"dataframe\">\n",
       "  <thead>\n",
       "    <tr style=\"text-align: right;\">\n",
       "      <th></th>\n",
       "      <th>order_id</th>\n",
       "      <th>order_item_id</th>\n",
       "      <th>product_id</th>\n",
       "      <th>seller_id</th>\n",
       "      <th>shipping_limit_date</th>\n",
       "      <th>price</th>\n",
       "      <th>freight_value</th>\n",
       "      <th>product_name_lenght</th>\n",
       "      <th>product_description_lenght</th>\n",
       "      <th>product_photos_qty</th>\n",
       "      <th>...</th>\n",
       "      <th>payment_type</th>\n",
       "      <th>payment_installments</th>\n",
       "      <th>payment_value</th>\n",
       "      <th>customer_zip_code_prefix</th>\n",
       "      <th>customer_city</th>\n",
       "      <th>customer_state</th>\n",
       "      <th>review_id</th>\n",
       "      <th>review_score</th>\n",
       "      <th>review_creation_date</th>\n",
       "      <th>review_answer_timestamp</th>\n",
       "    </tr>\n",
       "  </thead>\n",
       "  <tbody>\n",
       "    <tr>\n",
       "      <th>15</th>\n",
       "      <td>bf3b217e5505e5e9d746120dbb93b562</td>\n",
       "      <td>1</td>\n",
       "      <td>ec02a5d380128f7a188e9ce8f3ddd832</td>\n",
       "      <td>48436dade18ac8b2bce089ec2a041202</td>\n",
       "      <td>2017-08-30 07:25:13</td>\n",
       "      <td>132.9</td>\n",
       "      <td>18.18</td>\n",
       "      <td>59.0</td>\n",
       "      <td>599.0</td>\n",
       "      <td>2.0</td>\n",
       "      <td>...</td>\n",
       "      <td>credit_card</td>\n",
       "      <td>4</td>\n",
       "      <td>151.08</td>\n",
       "      <td>6874</td>\n",
       "      <td>itapecerica da serra</td>\n",
       "      <td>SP</td>\n",
       "      <td>ad04c464738a477312422d0f3af40ddb</td>\n",
       "      <td>1</td>\n",
       "      <td>2017-09-20</td>\n",
       "      <td>2017-09-22 15:40:19</td>\n",
       "    </tr>\n",
       "    <tr>\n",
       "      <th>33</th>\n",
       "      <td>8e78a66489b3861f846342d4b158c8f4</td>\n",
       "      <td>1</td>\n",
       "      <td>2423252b2432f1803e4f29e0974c6cf7</td>\n",
       "      <td>48436dade18ac8b2bce089ec2a041202</td>\n",
       "      <td>2017-10-09 19:14:27</td>\n",
       "      <td>139.9</td>\n",
       "      <td>18.23</td>\n",
       "      <td>60.0</td>\n",
       "      <td>919.0</td>\n",
       "      <td>5.0</td>\n",
       "      <td>...</td>\n",
       "      <td>credit_card</td>\n",
       "      <td>2</td>\n",
       "      <td>158.13</td>\n",
       "      <td>8257</td>\n",
       "      <td>sao paulo</td>\n",
       "      <td>SP</td>\n",
       "      <td>24e246eb9d4e370b9014b9e58f24a1f3</td>\n",
       "      <td>1</td>\n",
       "      <td>2017-10-28</td>\n",
       "      <td>2017-10-30 09:52:13</td>\n",
       "    </tr>\n",
       "    <tr>\n",
       "      <th>61</th>\n",
       "      <td>1856dd06ccd053bf3456e3d5bf73f2e3</td>\n",
       "      <td>1</td>\n",
       "      <td>54e5939fcd9ae70ad0f59f612d6d29bd</td>\n",
       "      <td>48436dade18ac8b2bce089ec2a041202</td>\n",
       "      <td>2017-10-05 20:23:08</td>\n",
       "      <td>42.9</td>\n",
       "      <td>16.11</td>\n",
       "      <td>51.0</td>\n",
       "      <td>471.0</td>\n",
       "      <td>4.0</td>\n",
       "      <td>...</td>\n",
       "      <td>credit_card</td>\n",
       "      <td>2</td>\n",
       "      <td>59.01</td>\n",
       "      <td>37545</td>\n",
       "      <td>cachoeira de minas</td>\n",
       "      <td>MG</td>\n",
       "      <td>ee980f7f9ee2ece60af3bd00f62b7449</td>\n",
       "      <td>1</td>\n",
       "      <td>2017-10-29</td>\n",
       "      <td>2017-10-30 17:58:37</td>\n",
       "    </tr>\n",
       "    <tr>\n",
       "      <th>161</th>\n",
       "      <td>afef48d3c8a0b1b7c9b7f8f922fb5674</td>\n",
       "      <td>1</td>\n",
       "      <td>31945c8811d04df20bf86224210b4084</td>\n",
       "      <td>48436dade18ac8b2bce089ec2a041202</td>\n",
       "      <td>2017-11-17 16:50:47</td>\n",
       "      <td>134.9</td>\n",
       "      <td>18.51</td>\n",
       "      <td>48.0</td>\n",
       "      <td>919.0</td>\n",
       "      <td>5.0</td>\n",
       "      <td>...</td>\n",
       "      <td>credit_card</td>\n",
       "      <td>5</td>\n",
       "      <td>153.41</td>\n",
       "      <td>96600</td>\n",
       "      <td>cangucu</td>\n",
       "      <td>RS</td>\n",
       "      <td>dfaf49a4644a9b5afcc050667c3d2255</td>\n",
       "      <td>1</td>\n",
       "      <td>2017-12-08</td>\n",
       "      <td>2017-12-12 01:50:24</td>\n",
       "    </tr>\n",
       "    <tr>\n",
       "      <th>181</th>\n",
       "      <td>088683f795a3d30bfd61152c4fabdfb2</td>\n",
       "      <td>1</td>\n",
       "      <td>86742dc5c815f1c8c04c6e323e3c1865</td>\n",
       "      <td>dd7ddc04e1b6c2c614352b383efe2d36</td>\n",
       "      <td>2017-07-20 02:25:54</td>\n",
       "      <td>29.9</td>\n",
       "      <td>16.92</td>\n",
       "      <td>37.0</td>\n",
       "      <td>734.0</td>\n",
       "      <td>10.0</td>\n",
       "      <td>...</td>\n",
       "      <td>boleto</td>\n",
       "      <td>1</td>\n",
       "      <td>46.82</td>\n",
       "      <td>78138</td>\n",
       "      <td>varzea grande</td>\n",
       "      <td>MT</td>\n",
       "      <td>903db4bec5b321c64960b1fba1fe0b1b</td>\n",
       "      <td>1</td>\n",
       "      <td>2017-08-17</td>\n",
       "      <td>2017-08-17 13:02:46</td>\n",
       "    </tr>\n",
       "    <tr>\n",
       "      <th>...</th>\n",
       "      <td>...</td>\n",
       "      <td>...</td>\n",
       "      <td>...</td>\n",
       "      <td>...</td>\n",
       "      <td>...</td>\n",
       "      <td>...</td>\n",
       "      <td>...</td>\n",
       "      <td>...</td>\n",
       "      <td>...</td>\n",
       "      <td>...</td>\n",
       "      <td>...</td>\n",
       "      <td>...</td>\n",
       "      <td>...</td>\n",
       "      <td>...</td>\n",
       "      <td>...</td>\n",
       "      <td>...</td>\n",
       "      <td>...</td>\n",
       "      <td>...</td>\n",
       "      <td>...</td>\n",
       "      <td>...</td>\n",
       "      <td>...</td>\n",
       "    </tr>\n",
       "    <tr>\n",
       "      <th>115994</th>\n",
       "      <td>fc3078fa5d882e59237a658341f57738</td>\n",
       "      <td>1</td>\n",
       "      <td>decdbf117444f265f4400886439f5fd7</td>\n",
       "      <td>b57e8460909fa137df7951b4a3b5ea84</td>\n",
       "      <td>2017-03-08 08:05:18</td>\n",
       "      <td>99.0</td>\n",
       "      <td>42.07</td>\n",
       "      <td>27.0</td>\n",
       "      <td>336.0</td>\n",
       "      <td>2.0</td>\n",
       "      <td>...</td>\n",
       "      <td>credit_card</td>\n",
       "      <td>1</td>\n",
       "      <td>282.14</td>\n",
       "      <td>4288</td>\n",
       "      <td>sao paulo</td>\n",
       "      <td>SP</td>\n",
       "      <td>06ca23fe7c7c38193969c38098aca1bd</td>\n",
       "      <td>2</td>\n",
       "      <td>2017-03-29</td>\n",
       "      <td>2017-03-31 10:06:46</td>\n",
       "    </tr>\n",
       "    <tr>\n",
       "      <th>115995</th>\n",
       "      <td>fc32248629afaea92d59f7086de552d3</td>\n",
       "      <td>1</td>\n",
       "      <td>9754ea6652dc3e06be088797f85f4ee5</td>\n",
       "      <td>7a188843479798ca813108fa7b959286</td>\n",
       "      <td>2017-11-28 02:46:53</td>\n",
       "      <td>49.9</td>\n",
       "      <td>8.72</td>\n",
       "      <td>48.0</td>\n",
       "      <td>222.0</td>\n",
       "      <td>4.0</td>\n",
       "      <td>...</td>\n",
       "      <td>boleto</td>\n",
       "      <td>1</td>\n",
       "      <td>175.86</td>\n",
       "      <td>9015</td>\n",
       "      <td>santo andre</td>\n",
       "      <td>SP</td>\n",
       "      <td>81be3d46fabf3575cc1544ea854549de</td>\n",
       "      <td>1</td>\n",
       "      <td>2017-12-06</td>\n",
       "      <td>2017-12-06 13:36:56</td>\n",
       "    </tr>\n",
       "    <tr>\n",
       "      <th>115996</th>\n",
       "      <td>fc32248629afaea92d59f7086de552d3</td>\n",
       "      <td>2</td>\n",
       "      <td>9754ea6652dc3e06be088797f85f4ee5</td>\n",
       "      <td>7a188843479798ca813108fa7b959286</td>\n",
       "      <td>2017-11-28 02:46:53</td>\n",
       "      <td>49.9</td>\n",
       "      <td>8.72</td>\n",
       "      <td>48.0</td>\n",
       "      <td>222.0</td>\n",
       "      <td>4.0</td>\n",
       "      <td>...</td>\n",
       "      <td>boleto</td>\n",
       "      <td>1</td>\n",
       "      <td>175.86</td>\n",
       "      <td>9015</td>\n",
       "      <td>santo andre</td>\n",
       "      <td>SP</td>\n",
       "      <td>81be3d46fabf3575cc1544ea854549de</td>\n",
       "      <td>1</td>\n",
       "      <td>2017-12-06</td>\n",
       "      <td>2017-12-06 13:36:56</td>\n",
       "    </tr>\n",
       "    <tr>\n",
       "      <th>115997</th>\n",
       "      <td>fc32248629afaea92d59f7086de552d3</td>\n",
       "      <td>3</td>\n",
       "      <td>9754ea6652dc3e06be088797f85f4ee5</td>\n",
       "      <td>7a188843479798ca813108fa7b959286</td>\n",
       "      <td>2017-11-28 02:46:53</td>\n",
       "      <td>49.9</td>\n",
       "      <td>8.72</td>\n",
       "      <td>48.0</td>\n",
       "      <td>222.0</td>\n",
       "      <td>4.0</td>\n",
       "      <td>...</td>\n",
       "      <td>boleto</td>\n",
       "      <td>1</td>\n",
       "      <td>175.86</td>\n",
       "      <td>9015</td>\n",
       "      <td>santo andre</td>\n",
       "      <td>SP</td>\n",
       "      <td>81be3d46fabf3575cc1544ea854549de</td>\n",
       "      <td>1</td>\n",
       "      <td>2017-12-06</td>\n",
       "      <td>2017-12-06 13:36:56</td>\n",
       "    </tr>\n",
       "    <tr>\n",
       "      <th>115998</th>\n",
       "      <td>fc8a4fcbc1b484046b9ff15de7c73577</td>\n",
       "      <td>1</td>\n",
       "      <td>86133a7d6682fcb51debce06e6514f93</td>\n",
       "      <td>101921376b577a4540dc30e9009133ca</td>\n",
       "      <td>2017-06-26 03:55:21</td>\n",
       "      <td>373.0</td>\n",
       "      <td>21.49</td>\n",
       "      <td>52.0</td>\n",
       "      <td>394.0</td>\n",
       "      <td>1.0</td>\n",
       "      <td>...</td>\n",
       "      <td>boleto</td>\n",
       "      <td>1</td>\n",
       "      <td>394.49</td>\n",
       "      <td>11680</td>\n",
       "      <td>ubatuba</td>\n",
       "      <td>SP</td>\n",
       "      <td>aca2e1fcabddf4cdbfffc3e5c23abd2c</td>\n",
       "      <td>2</td>\n",
       "      <td>2017-07-13</td>\n",
       "      <td>2017-07-13 11:25:52</td>\n",
       "    </tr>\n",
       "  </tbody>\n",
       "</table>\n",
       "<p>2514 rows × 36 columns</p>\n",
       "</div>"
      ],
      "text/plain": [
       "                                order_id  order_item_id  \\\n",
       "15      bf3b217e5505e5e9d746120dbb93b562              1   \n",
       "33      8e78a66489b3861f846342d4b158c8f4              1   \n",
       "61      1856dd06ccd053bf3456e3d5bf73f2e3              1   \n",
       "161     afef48d3c8a0b1b7c9b7f8f922fb5674              1   \n",
       "181     088683f795a3d30bfd61152c4fabdfb2              1   \n",
       "...                                  ...            ...   \n",
       "115994  fc3078fa5d882e59237a658341f57738              1   \n",
       "115995  fc32248629afaea92d59f7086de552d3              1   \n",
       "115996  fc32248629afaea92d59f7086de552d3              2   \n",
       "115997  fc32248629afaea92d59f7086de552d3              3   \n",
       "115998  fc8a4fcbc1b484046b9ff15de7c73577              1   \n",
       "\n",
       "                              product_id                         seller_id  \\\n",
       "15      ec02a5d380128f7a188e9ce8f3ddd832  48436dade18ac8b2bce089ec2a041202   \n",
       "33      2423252b2432f1803e4f29e0974c6cf7  48436dade18ac8b2bce089ec2a041202   \n",
       "61      54e5939fcd9ae70ad0f59f612d6d29bd  48436dade18ac8b2bce089ec2a041202   \n",
       "161     31945c8811d04df20bf86224210b4084  48436dade18ac8b2bce089ec2a041202   \n",
       "181     86742dc5c815f1c8c04c6e323e3c1865  dd7ddc04e1b6c2c614352b383efe2d36   \n",
       "...                                  ...                               ...   \n",
       "115994  decdbf117444f265f4400886439f5fd7  b57e8460909fa137df7951b4a3b5ea84   \n",
       "115995  9754ea6652dc3e06be088797f85f4ee5  7a188843479798ca813108fa7b959286   \n",
       "115996  9754ea6652dc3e06be088797f85f4ee5  7a188843479798ca813108fa7b959286   \n",
       "115997  9754ea6652dc3e06be088797f85f4ee5  7a188843479798ca813108fa7b959286   \n",
       "115998  86133a7d6682fcb51debce06e6514f93  101921376b577a4540dc30e9009133ca   \n",
       "\n",
       "       shipping_limit_date  price  freight_value  product_name_lenght  \\\n",
       "15     2017-08-30 07:25:13  132.9          18.18                 59.0   \n",
       "33     2017-10-09 19:14:27  139.9          18.23                 60.0   \n",
       "61     2017-10-05 20:23:08   42.9          16.11                 51.0   \n",
       "161    2017-11-17 16:50:47  134.9          18.51                 48.0   \n",
       "181    2017-07-20 02:25:54   29.9          16.92                 37.0   \n",
       "...                    ...    ...            ...                  ...   \n",
       "115994 2017-03-08 08:05:18   99.0          42.07                 27.0   \n",
       "115995 2017-11-28 02:46:53   49.9           8.72                 48.0   \n",
       "115996 2017-11-28 02:46:53   49.9           8.72                 48.0   \n",
       "115997 2017-11-28 02:46:53   49.9           8.72                 48.0   \n",
       "115998 2017-06-26 03:55:21  373.0          21.49                 52.0   \n",
       "\n",
       "        product_description_lenght  product_photos_qty  ...  payment_type  \\\n",
       "15                           599.0                 2.0  ...   credit_card   \n",
       "33                           919.0                 5.0  ...   credit_card   \n",
       "61                           471.0                 4.0  ...   credit_card   \n",
       "161                          919.0                 5.0  ...   credit_card   \n",
       "181                          734.0                10.0  ...        boleto   \n",
       "...                            ...                 ...  ...           ...   \n",
       "115994                       336.0                 2.0  ...   credit_card   \n",
       "115995                       222.0                 4.0  ...        boleto   \n",
       "115996                       222.0                 4.0  ...        boleto   \n",
       "115997                       222.0                 4.0  ...        boleto   \n",
       "115998                       394.0                 1.0  ...        boleto   \n",
       "\n",
       "        payment_installments  payment_value  customer_zip_code_prefix  \\\n",
       "15                         4         151.08                      6874   \n",
       "33                         2         158.13                      8257   \n",
       "61                         2          59.01                     37545   \n",
       "161                        5         153.41                     96600   \n",
       "181                        1          46.82                     78138   \n",
       "...                      ...            ...                       ...   \n",
       "115994                     1         282.14                      4288   \n",
       "115995                     1         175.86                      9015   \n",
       "115996                     1         175.86                      9015   \n",
       "115997                     1         175.86                      9015   \n",
       "115998                     1         394.49                     11680   \n",
       "\n",
       "               customer_city customer_state                         review_id  \\\n",
       "15      itapecerica da serra             SP  ad04c464738a477312422d0f3af40ddb   \n",
       "33                 sao paulo             SP  24e246eb9d4e370b9014b9e58f24a1f3   \n",
       "61        cachoeira de minas             MG  ee980f7f9ee2ece60af3bd00f62b7449   \n",
       "161                  cangucu             RS  dfaf49a4644a9b5afcc050667c3d2255   \n",
       "181            varzea grande             MT  903db4bec5b321c64960b1fba1fe0b1b   \n",
       "...                      ...            ...                               ...   \n",
       "115994             sao paulo             SP  06ca23fe7c7c38193969c38098aca1bd   \n",
       "115995           santo andre             SP  81be3d46fabf3575cc1544ea854549de   \n",
       "115996           santo andre             SP  81be3d46fabf3575cc1544ea854549de   \n",
       "115997           santo andre             SP  81be3d46fabf3575cc1544ea854549de   \n",
       "115998               ubatuba             SP  aca2e1fcabddf4cdbfffc3e5c23abd2c   \n",
       "\n",
       "       review_score review_creation_date review_answer_timestamp  \n",
       "15                1           2017-09-20     2017-09-22 15:40:19  \n",
       "33                1           2017-10-28     2017-10-30 09:52:13  \n",
       "61                1           2017-10-29     2017-10-30 17:58:37  \n",
       "161               1           2017-12-08     2017-12-12 01:50:24  \n",
       "181               1           2017-08-17     2017-08-17 13:02:46  \n",
       "...             ...                  ...                     ...  \n",
       "115994            2           2017-03-29     2017-03-31 10:06:46  \n",
       "115995            1           2017-12-06     2017-12-06 13:36:56  \n",
       "115996            1           2017-12-06     2017-12-06 13:36:56  \n",
       "115997            1           2017-12-06     2017-12-06 13:36:56  \n",
       "115998            2           2017-07-13     2017-07-13 11:25:52  \n",
       "\n",
       "[2514 rows x 36 columns]"
      ]
     },
     "execution_count": 736,
     "metadata": {},
     "output_type": "execute_result"
    }
   ],
   "source": [
    "df_final[df_final.isna().any(axis=1)]"
   ]
  },
  {
   "cell_type": "code",
   "execution_count": 737,
   "id": "7b6d8a6a",
   "metadata": {},
   "outputs": [
    {
     "data": {
      "text/plain": [
       "5    65153\n",
       "4    21910\n",
       "1    15038\n",
       "3     9788\n",
       "2     4118\n",
       "Name: review_score, dtype: int64"
      ]
     },
     "execution_count": 737,
     "metadata": {},
     "output_type": "execute_result"
    }
   ],
   "source": [
    "df_final['review_score'].value_counts()"
   ]
  },
  {
   "cell_type": "markdown",
   "id": "e2e90ee2",
   "metadata": {},
   "source": [
    "### Feature Engineering"
   ]
  },
  {
   "cell_type": "code",
   "execution_count": 738,
   "id": "7b00a015",
   "metadata": {},
   "outputs": [],
   "source": [
    "df_final['Seller packing duration']=(df_final.order_delivered_carrier_date-df_final.shipping_limit_date).dt.days\n",
    "df_final['Approved duration']=(df_final.order_approved_at-df_final.order_purchase_timestamp).dt.seconds\n",
    "df_final['Delivery performance']=(df_final.order_delivered_customer_date-df_final.order_estimated_delivery_date).dt.days\n",
    "df_final['Total shipping date']=(df_final.order_delivered_customer_date-df_final.order_delivered_carrier_date).dt.days\n",
    "df_final['Ideal total shipping date']=(df_final.order_estimated_delivery_date-df_final.order_delivered_carrier_date).dt.days"
   ]
  },
  {
   "cell_type": "code",
   "execution_count": 739,
   "id": "8c3c4010",
   "metadata": {},
   "outputs": [],
   "source": [
    "df_final.drop(columns=df_final.select_dtypes(include=['datetime64[ns]']),inplace=True)\n",
    "df_final.drop(columns=df_final.select_dtypes(include=['object']),inplace=True)"
   ]
  },
  {
   "cell_type": "code",
   "execution_count": 740,
   "id": "c26418a0",
   "metadata": {},
   "outputs": [
    {
     "name": "stdout",
     "output_type": "stream",
     "text": [
      "<class 'pandas.core.frame.DataFrame'>\n",
      "Int64Index: 116007 entries, 0 to 116006\n",
      "Data columns (total 28 columns):\n",
      " #   Column                         Non-Null Count   Dtype   \n",
      "---  ------                         --------------   -----   \n",
      " 0   order_item_id                  116007 non-null  int64   \n",
      " 1   price                          116007 non-null  float64 \n",
      " 2   freight_value                  116007 non-null  float64 \n",
      " 3   product_name_lenght            116007 non-null  float64 \n",
      " 4   product_description_lenght     116007 non-null  float64 \n",
      " 5   product_photos_qty             116007 non-null  float64 \n",
      " 6   product_weight_g               116006 non-null  float64 \n",
      " 7   product_length_cm              116006 non-null  float64 \n",
      " 8   product_height_cm              116006 non-null  float64 \n",
      " 9   product_width_cm               116006 non-null  float64 \n",
      " 10  product_category_name_english  116007 non-null  category\n",
      " 11  seller_zip_code_prefix         116007 non-null  category\n",
      " 12  seller_city                    116007 non-null  category\n",
      " 13  seller_state                   116007 non-null  category\n",
      " 14  order_status                   116007 non-null  category\n",
      " 15  payment_sequential             116007 non-null  int64   \n",
      " 16  payment_type                   116007 non-null  category\n",
      " 17  payment_installments           116007 non-null  int64   \n",
      " 18  payment_value                  116007 non-null  float64 \n",
      " 19  customer_zip_code_prefix       116007 non-null  category\n",
      " 20  customer_city                  116007 non-null  category\n",
      " 21  customer_state                 116007 non-null  category\n",
      " 22  review_score                   116007 non-null  int64   \n",
      " 23  Seller packing duration        114805 non-null  float64 \n",
      " 24  Approved duration              115993 non-null  float64 \n",
      " 25  Delivery performance           113509 non-null  float64 \n",
      " 26  Total shipping date            113508 non-null  float64 \n",
      " 27  Ideal total shipping date      114805 non-null  float64 \n",
      "dtypes: category(9), float64(15), int64(4)\n",
      "memory usage: 20.0 MB\n"
     ]
    }
   ],
   "source": [
    "df_final.info()"
   ]
  },
  {
   "cell_type": "code",
   "execution_count": 741,
   "id": "800bab9d",
   "metadata": {},
   "outputs": [
    {
     "data": {
      "text/plain": [
       "order_item_id                       0\n",
       "price                               0\n",
       "freight_value                       0\n",
       "product_name_lenght                 0\n",
       "product_description_lenght          0\n",
       "product_photos_qty                  0\n",
       "product_weight_g                    1\n",
       "product_length_cm                   1\n",
       "product_height_cm                   1\n",
       "product_width_cm                    1\n",
       "product_category_name_english       0\n",
       "seller_zip_code_prefix              0\n",
       "seller_city                         0\n",
       "seller_state                        0\n",
       "order_status                        0\n",
       "payment_sequential                  0\n",
       "payment_type                        0\n",
       "payment_installments                0\n",
       "payment_value                       0\n",
       "customer_zip_code_prefix            0\n",
       "customer_city                       0\n",
       "customer_state                      0\n",
       "review_score                        0\n",
       "Seller packing duration          1202\n",
       "Approved duration                  14\n",
       "Delivery performance             2498\n",
       "Total shipping date              2499\n",
       "Ideal total shipping date        1202\n",
       "dtype: int64"
      ]
     },
     "execution_count": 741,
     "metadata": {},
     "output_type": "execute_result"
    }
   ],
   "source": [
    "df_final.isnull().sum()"
   ]
  },
  {
   "cell_type": "code",
   "execution_count": 742,
   "id": "b507cf72",
   "metadata": {},
   "outputs": [
    {
     "data": {
      "text/html": [
       "<div>\n",
       "<style scoped>\n",
       "    .dataframe tbody tr th:only-of-type {\n",
       "        vertical-align: middle;\n",
       "    }\n",
       "\n",
       "    .dataframe tbody tr th {\n",
       "        vertical-align: top;\n",
       "    }\n",
       "\n",
       "    .dataframe thead th {\n",
       "        text-align: right;\n",
       "    }\n",
       "</style>\n",
       "<table border=\"1\" class=\"dataframe\">\n",
       "  <thead>\n",
       "    <tr style=\"text-align: right;\">\n",
       "      <th></th>\n",
       "      <th>order_item_id</th>\n",
       "      <th>price</th>\n",
       "      <th>freight_value</th>\n",
       "      <th>product_name_lenght</th>\n",
       "      <th>product_description_lenght</th>\n",
       "      <th>product_photos_qty</th>\n",
       "      <th>product_weight_g</th>\n",
       "      <th>product_length_cm</th>\n",
       "      <th>product_height_cm</th>\n",
       "      <th>product_width_cm</th>\n",
       "      <th>payment_sequential</th>\n",
       "      <th>payment_installments</th>\n",
       "      <th>payment_value</th>\n",
       "      <th>review_score</th>\n",
       "      <th>Seller packing duration</th>\n",
       "      <th>Approved duration</th>\n",
       "      <th>Delivery performance</th>\n",
       "      <th>Total shipping date</th>\n",
       "      <th>Ideal total shipping date</th>\n",
       "    </tr>\n",
       "  </thead>\n",
       "  <tbody>\n",
       "    <tr>\n",
       "      <th>count</th>\n",
       "      <td>116007.000000</td>\n",
       "      <td>116007.000000</td>\n",
       "      <td>116007.000000</td>\n",
       "      <td>116007.000000</td>\n",
       "      <td>116007.000000</td>\n",
       "      <td>116007.000000</td>\n",
       "      <td>116006.000000</td>\n",
       "      <td>116006.000000</td>\n",
       "      <td>116006.000000</td>\n",
       "      <td>116006.000000</td>\n",
       "      <td>116007.000000</td>\n",
       "      <td>116007.000000</td>\n",
       "      <td>116007.000000</td>\n",
       "      <td>116007.000000</td>\n",
       "      <td>114805.000000</td>\n",
       "      <td>115993.000000</td>\n",
       "      <td>113509.000000</td>\n",
       "      <td>113508.000000</td>\n",
       "      <td>114805.000000</td>\n",
       "    </tr>\n",
       "    <tr>\n",
       "      <th>mean</th>\n",
       "      <td>1.197117</td>\n",
       "      <td>120.782909</td>\n",
       "      <td>20.055148</td>\n",
       "      <td>48.754110</td>\n",
       "      <td>786.016404</td>\n",
       "      <td>2.199979</td>\n",
       "      <td>2114.007888</td>\n",
       "      <td>30.311458</td>\n",
       "      <td>16.666052</td>\n",
       "      <td>23.107874</td>\n",
       "      <td>1.093675</td>\n",
       "      <td>2.947900</td>\n",
       "      <td>172.936161</td>\n",
       "      <td>4.017370</td>\n",
       "      <td>-3.826515</td>\n",
       "      <td>14359.419465</td>\n",
       "      <td>-12.062339</td>\n",
       "      <td>8.740177</td>\n",
       "      <td>20.218544</td>\n",
       "    </tr>\n",
       "    <tr>\n",
       "      <th>std</th>\n",
       "      <td>0.702168</td>\n",
       "      <td>184.052353</td>\n",
       "      <td>15.859804</td>\n",
       "      <td>10.037875</td>\n",
       "      <td>653.245347</td>\n",
       "      <td>1.712903</td>\n",
       "      <td>3778.573482</td>\n",
       "      <td>16.215368</td>\n",
       "      <td>13.485268</td>\n",
       "      <td>11.734252</td>\n",
       "      <td>0.728921</td>\n",
       "      <td>2.782784</td>\n",
       "      <td>267.958699</td>\n",
       "      <td>1.397992</td>\n",
       "      <td>5.754831</td>\n",
       "      <td>23865.757018</td>\n",
       "      <td>10.159970</td>\n",
       "      <td>8.618473</td>\n",
       "      <td>8.813967</td>\n",
       "    </tr>\n",
       "    <tr>\n",
       "      <th>min</th>\n",
       "      <td>1.000000</td>\n",
       "      <td>0.850000</td>\n",
       "      <td>0.000000</td>\n",
       "      <td>5.000000</td>\n",
       "      <td>4.000000</td>\n",
       "      <td>1.000000</td>\n",
       "      <td>0.000000</td>\n",
       "      <td>7.000000</td>\n",
       "      <td>2.000000</td>\n",
       "      <td>6.000000</td>\n",
       "      <td>1.000000</td>\n",
       "      <td>0.000000</td>\n",
       "      <td>0.000000</td>\n",
       "      <td>1.000000</td>\n",
       "      <td>-1047.000000</td>\n",
       "      <td>0.000000</td>\n",
       "      <td>-147.000000</td>\n",
       "      <td>-17.000000</td>\n",
       "      <td>-91.000000</td>\n",
       "    </tr>\n",
       "    <tr>\n",
       "      <th>25%</th>\n",
       "      <td>1.000000</td>\n",
       "      <td>39.900000</td>\n",
       "      <td>13.080000</td>\n",
       "      <td>42.000000</td>\n",
       "      <td>345.000000</td>\n",
       "      <td>1.000000</td>\n",
       "      <td>300.000000</td>\n",
       "      <td>18.000000</td>\n",
       "      <td>8.000000</td>\n",
       "      <td>15.000000</td>\n",
       "      <td>1.000000</td>\n",
       "      <td>1.000000</td>\n",
       "      <td>60.900000</td>\n",
       "      <td>4.000000</td>\n",
       "      <td>-6.000000</td>\n",
       "      <td>756.000000</td>\n",
       "      <td>-17.000000</td>\n",
       "      <td>4.000000</td>\n",
       "      <td>14.000000</td>\n",
       "    </tr>\n",
       "    <tr>\n",
       "      <th>50%</th>\n",
       "      <td>1.000000</td>\n",
       "      <td>74.900000</td>\n",
       "      <td>16.320000</td>\n",
       "      <td>52.000000</td>\n",
       "      <td>600.000000</td>\n",
       "      <td>1.000000</td>\n",
       "      <td>700.000000</td>\n",
       "      <td>25.000000</td>\n",
       "      <td>13.000000</td>\n",
       "      <td>20.000000</td>\n",
       "      <td>1.000000</td>\n",
       "      <td>2.000000</td>\n",
       "      <td>108.110000</td>\n",
       "      <td>5.000000</td>\n",
       "      <td>-4.000000</td>\n",
       "      <td>1173.000000</td>\n",
       "      <td>-13.000000</td>\n",
       "      <td>7.000000</td>\n",
       "      <td>20.000000</td>\n",
       "    </tr>\n",
       "    <tr>\n",
       "      <th>75%</th>\n",
       "      <td>1.000000</td>\n",
       "      <td>134.900000</td>\n",
       "      <td>21.200000</td>\n",
       "      <td>57.000000</td>\n",
       "      <td>983.000000</td>\n",
       "      <td>3.000000</td>\n",
       "      <td>1800.000000</td>\n",
       "      <td>38.000000</td>\n",
       "      <td>20.000000</td>\n",
       "      <td>30.000000</td>\n",
       "      <td>1.000000</td>\n",
       "      <td>4.000000</td>\n",
       "      <td>189.710000</td>\n",
       "      <td>5.000000</td>\n",
       "      <td>-2.000000</td>\n",
       "      <td>17491.000000</td>\n",
       "      <td>-7.000000</td>\n",
       "      <td>11.000000</td>\n",
       "      <td>25.000000</td>\n",
       "    </tr>\n",
       "    <tr>\n",
       "      <th>max</th>\n",
       "      <td>21.000000</td>\n",
       "      <td>6735.000000</td>\n",
       "      <td>409.680000</td>\n",
       "      <td>76.000000</td>\n",
       "      <td>3992.000000</td>\n",
       "      <td>20.000000</td>\n",
       "      <td>40425.000000</td>\n",
       "      <td>105.000000</td>\n",
       "      <td>105.000000</td>\n",
       "      <td>118.000000</td>\n",
       "      <td>29.000000</td>\n",
       "      <td>24.000000</td>\n",
       "      <td>13664.080000</td>\n",
       "      <td>5.000000</td>\n",
       "      <td>95.000000</td>\n",
       "      <td>86399.000000</td>\n",
       "      <td>188.000000</td>\n",
       "      <td>205.000000</td>\n",
       "      <td>192.000000</td>\n",
       "    </tr>\n",
       "  </tbody>\n",
       "</table>\n",
       "</div>"
      ],
      "text/plain": [
       "       order_item_id          price  freight_value  product_name_lenght  \\\n",
       "count  116007.000000  116007.000000  116007.000000        116007.000000   \n",
       "mean        1.197117     120.782909      20.055148            48.754110   \n",
       "std         0.702168     184.052353      15.859804            10.037875   \n",
       "min         1.000000       0.850000       0.000000             5.000000   \n",
       "25%         1.000000      39.900000      13.080000            42.000000   \n",
       "50%         1.000000      74.900000      16.320000            52.000000   \n",
       "75%         1.000000     134.900000      21.200000            57.000000   \n",
       "max        21.000000    6735.000000     409.680000            76.000000   \n",
       "\n",
       "       product_description_lenght  product_photos_qty  product_weight_g  \\\n",
       "count               116007.000000       116007.000000     116006.000000   \n",
       "mean                   786.016404            2.199979       2114.007888   \n",
       "std                    653.245347            1.712903       3778.573482   \n",
       "min                      4.000000            1.000000          0.000000   \n",
       "25%                    345.000000            1.000000        300.000000   \n",
       "50%                    600.000000            1.000000        700.000000   \n",
       "75%                    983.000000            3.000000       1800.000000   \n",
       "max                   3992.000000           20.000000      40425.000000   \n",
       "\n",
       "       product_length_cm  product_height_cm  product_width_cm  \\\n",
       "count      116006.000000      116006.000000     116006.000000   \n",
       "mean           30.311458          16.666052         23.107874   \n",
       "std            16.215368          13.485268         11.734252   \n",
       "min             7.000000           2.000000          6.000000   \n",
       "25%            18.000000           8.000000         15.000000   \n",
       "50%            25.000000          13.000000         20.000000   \n",
       "75%            38.000000          20.000000         30.000000   \n",
       "max           105.000000         105.000000        118.000000   \n",
       "\n",
       "       payment_sequential  payment_installments  payment_value   review_score  \\\n",
       "count       116007.000000         116007.000000  116007.000000  116007.000000   \n",
       "mean             1.093675              2.947900     172.936161       4.017370   \n",
       "std              0.728921              2.782784     267.958699       1.397992   \n",
       "min              1.000000              0.000000       0.000000       1.000000   \n",
       "25%              1.000000              1.000000      60.900000       4.000000   \n",
       "50%              1.000000              2.000000     108.110000       5.000000   \n",
       "75%              1.000000              4.000000     189.710000       5.000000   \n",
       "max             29.000000             24.000000   13664.080000       5.000000   \n",
       "\n",
       "       Seller packing duration  Approved duration  Delivery performance  \\\n",
       "count            114805.000000      115993.000000         113509.000000   \n",
       "mean                 -3.826515       14359.419465            -12.062339   \n",
       "std                   5.754831       23865.757018             10.159970   \n",
       "min               -1047.000000           0.000000           -147.000000   \n",
       "25%                  -6.000000         756.000000            -17.000000   \n",
       "50%                  -4.000000        1173.000000            -13.000000   \n",
       "75%                  -2.000000       17491.000000             -7.000000   \n",
       "max                  95.000000       86399.000000            188.000000   \n",
       "\n",
       "       Total shipping date  Ideal total shipping date  \n",
       "count        113508.000000              114805.000000  \n",
       "mean              8.740177                  20.218544  \n",
       "std               8.618473                   8.813967  \n",
       "min             -17.000000                 -91.000000  \n",
       "25%               4.000000                  14.000000  \n",
       "50%               7.000000                  20.000000  \n",
       "75%              11.000000                  25.000000  \n",
       "max             205.000000                 192.000000  "
      ]
     },
     "execution_count": 742,
     "metadata": {},
     "output_type": "execute_result"
    }
   ],
   "source": [
    "df_final.describe()"
   ]
  },
  {
   "cell_type": "code",
   "execution_count": 743,
   "id": "fa09a66d",
   "metadata": {},
   "outputs": [],
   "source": [
    "df_final['Approved duration'] = df_final['Approved duration'].fillna(90000)\n",
    "df_final['Delivery performance'] = df_final['Delivery performance'].fillna(400)\n",
    "df_final['Total shipping date'] = df_final['Total shipping date'].fillna(400)\n",
    "df_final['Ideal total shipping date'] = df_final['Ideal total shipping date'].fillna(400)\n",
    "df_final['Seller packing duration'] = df_final['Seller packing duration'].fillna(400)"
   ]
  },
  {
   "cell_type": "code",
   "execution_count": 744,
   "id": "8ab8fb69",
   "metadata": {},
   "outputs": [
    {
     "data": {
      "text/plain": [
       "order_item_id                    0\n",
       "price                            0\n",
       "freight_value                    0\n",
       "product_name_lenght              0\n",
       "product_description_lenght       0\n",
       "product_photos_qty               0\n",
       "product_weight_g                 1\n",
       "product_length_cm                1\n",
       "product_height_cm                1\n",
       "product_width_cm                 1\n",
       "product_category_name_english    0\n",
       "seller_zip_code_prefix           0\n",
       "seller_city                      0\n",
       "seller_state                     0\n",
       "order_status                     0\n",
       "payment_sequential               0\n",
       "payment_type                     0\n",
       "payment_installments             0\n",
       "payment_value                    0\n",
       "customer_zip_code_prefix         0\n",
       "customer_city                    0\n",
       "customer_state                   0\n",
       "review_score                     0\n",
       "Seller packing duration          0\n",
       "Approved duration                0\n",
       "Delivery performance             0\n",
       "Total shipping date              0\n",
       "Ideal total shipping date        0\n",
       "dtype: int64"
      ]
     },
     "execution_count": 744,
     "metadata": {},
     "output_type": "execute_result"
    }
   ],
   "source": [
    "df_final.isnull().sum()"
   ]
  },
  {
   "cell_type": "code",
   "execution_count": 745,
   "id": "6d4e7e81",
   "metadata": {},
   "outputs": [],
   "source": [
    "df_final=df_final.dropna()"
   ]
  },
  {
   "cell_type": "code",
   "execution_count": 746,
   "id": "3d5f5989",
   "metadata": {},
   "outputs": [
    {
     "data": {
      "text/plain": [
       "(116006, 28)"
      ]
     },
     "execution_count": 746,
     "metadata": {},
     "output_type": "execute_result"
    }
   ],
   "source": [
    "df_final.shape"
   ]
  },
  {
   "cell_type": "code",
   "execution_count": 747,
   "id": "55caf6d7",
   "metadata": {},
   "outputs": [
    {
     "data": {
      "text/plain": [
       "delivered      113509\n",
       "shipped          1219\n",
       "canceled          547\n",
       "processing        361\n",
       "invoiced          360\n",
       "unavailable         7\n",
       "approved            3\n",
       "created             0\n",
       "Name: order_status, dtype: int64"
      ]
     },
     "execution_count": 747,
     "metadata": {},
     "output_type": "execute_result"
    }
   ],
   "source": [
    "df_final['order_status'].value_counts()"
   ]
  },
  {
   "cell_type": "code",
   "execution_count": 748,
   "id": "8a7b4a2a",
   "metadata": {},
   "outputs": [
    {
     "data": {
      "text/plain": [
       "order_item_id                -0.131057\n",
       "price                        -0.005968\n",
       "freight_value                -0.038733\n",
       "product_name_lenght          -0.006099\n",
       "product_description_lenght    0.009652\n",
       "product_photos_qty            0.022331\n",
       "product_weight_g             -0.030750\n",
       "product_length_cm            -0.022892\n",
       "product_height_cm            -0.028006\n",
       "product_width_cm             -0.013003\n",
       "payment_sequential           -0.003677\n",
       "payment_installments         -0.043509\n",
       "payment_value                -0.084515\n",
       "review_score                  1.000000\n",
       "Seller packing duration      -0.188845\n",
       "Approved duration            -0.013560\n",
       "Delivery performance         -0.272499\n",
       "Total shipping date          -0.274800\n",
       "Ideal total shipping date    -0.176823\n",
       "Name: review_score, dtype: float64"
      ]
     },
     "execution_count": 748,
     "metadata": {},
     "output_type": "execute_result"
    }
   ],
   "source": [
    "corr = df_final.corr()\n",
    "corr['review_score']"
   ]
  },
  {
   "cell_type": "markdown",
   "id": "613c2f5a",
   "metadata": {},
   "source": [
    "## Preprocessing & Split the data"
   ]
  },
  {
   "cell_type": "code",
   "execution_count": 749,
   "id": "6429eed3",
   "metadata": {},
   "outputs": [],
   "source": [
    "# เตรียมข้อมูลก่อนทำการ Training โดยการแยก Training Data ออกจาก Target Data\n",
    "\n",
    "X = df_final.drop(columns='review_score')\n",
    "y = df_final['review_score']"
   ]
  },
  {
   "cell_type": "code",
   "execution_count": 750,
   "id": "0ccf6490",
   "metadata": {},
   "outputs": [],
   "source": [
    "from sklearn import preprocessing\n",
    "from sklearn.compose import ColumnTransformer\n",
    "from sklearn.preprocessing import StandardScaler\n",
    "from sklearn.pipeline import make_pipeline\n",
    "from sklearn.preprocessing import KBinsDiscretizer\n",
    "from sklearn.preprocessing import OneHotEncoder ,OrdinalEncoder\n",
    "from sklearn.pipeline import Pipeline"
   ]
  },
  {
   "cell_type": "code",
   "execution_count": 751,
   "id": "9706bba0",
   "metadata": {},
   "outputs": [
    {
     "data": {
      "text/plain": [
       "Index(['order_item_id', 'price', 'freight_value', 'product_name_lenght',\n",
       "       'product_description_lenght', 'product_photos_qty', 'product_weight_g',\n",
       "       'product_length_cm', 'product_height_cm', 'product_width_cm',\n",
       "       'product_category_name_english', 'seller_zip_code_prefix',\n",
       "       'seller_city', 'seller_state', 'order_status', 'payment_sequential',\n",
       "       'payment_type', 'payment_installments', 'payment_value',\n",
       "       'customer_zip_code_prefix', 'customer_city', 'customer_state',\n",
       "       'Seller packing duration', 'Approved duration', 'Delivery performance',\n",
       "       'Total shipping date', 'Ideal total shipping date'],\n",
       "      dtype='object')"
      ]
     },
     "execution_count": 751,
     "metadata": {},
     "output_type": "execute_result"
    }
   ],
   "source": [
    "X.columns"
   ]
  },
  {
   "cell_type": "code",
   "execution_count": 752,
   "id": "e1829bc5",
   "metadata": {},
   "outputs": [],
   "source": [
    "Ordinal= ['seller_city','seller_state','order_status','payment_type','customer_city','customer_state','product_category_name_english','seller_zip_code_prefix','customer_zip_code_prefix']\n",
    "edc= preprocessing.OrdinalEncoder(dtype=np.int64)\n",
    "X[Ordinal] = edc.fit_transform(X[Ordinal])"
   ]
  },
  {
   "cell_type": "code",
   "execution_count": 753,
   "id": "0d92a2f5",
   "metadata": {},
   "outputs": [
    {
     "data": {
      "text/html": [
       "<div>\n",
       "<style scoped>\n",
       "    .dataframe tbody tr th:only-of-type {\n",
       "        vertical-align: middle;\n",
       "    }\n",
       "\n",
       "    .dataframe tbody tr th {\n",
       "        vertical-align: top;\n",
       "    }\n",
       "\n",
       "    .dataframe thead th {\n",
       "        text-align: right;\n",
       "    }\n",
       "</style>\n",
       "<table border=\"1\" class=\"dataframe\">\n",
       "  <thead>\n",
       "    <tr style=\"text-align: right;\">\n",
       "      <th></th>\n",
       "      <th>order_item_id</th>\n",
       "      <th>price</th>\n",
       "      <th>freight_value</th>\n",
       "      <th>product_name_lenght</th>\n",
       "      <th>product_description_lenght</th>\n",
       "      <th>product_photos_qty</th>\n",
       "      <th>product_weight_g</th>\n",
       "      <th>product_length_cm</th>\n",
       "      <th>product_height_cm</th>\n",
       "      <th>product_width_cm</th>\n",
       "      <th>...</th>\n",
       "      <th>payment_installments</th>\n",
       "      <th>payment_value</th>\n",
       "      <th>customer_zip_code_prefix</th>\n",
       "      <th>customer_city</th>\n",
       "      <th>customer_state</th>\n",
       "      <th>Seller packing duration</th>\n",
       "      <th>Approved duration</th>\n",
       "      <th>Delivery performance</th>\n",
       "      <th>Total shipping date</th>\n",
       "      <th>Ideal total shipping date</th>\n",
       "    </tr>\n",
       "  </thead>\n",
       "  <tbody>\n",
       "    <tr>\n",
       "      <th>0</th>\n",
       "      <td>1</td>\n",
       "      <td>58.9</td>\n",
       "      <td>13.29</td>\n",
       "      <td>58.0</td>\n",
       "      <td>598.0</td>\n",
       "      <td>4.0</td>\n",
       "      <td>650.0</td>\n",
       "      <td>28.0</td>\n",
       "      <td>9.0</td>\n",
       "      <td>14.0</td>\n",
       "      <td>...</td>\n",
       "      <td>2</td>\n",
       "      <td>72.19</td>\n",
       "      <td>6600</td>\n",
       "      <td>729</td>\n",
       "      <td>18</td>\n",
       "      <td>0.0</td>\n",
       "      <td>2793.0</td>\n",
       "      <td>-9.0</td>\n",
       "      <td>1.0</td>\n",
       "      <td>9.0</td>\n",
       "    </tr>\n",
       "    <tr>\n",
       "      <th>1</th>\n",
       "      <td>1</td>\n",
       "      <td>55.9</td>\n",
       "      <td>17.96</td>\n",
       "      <td>58.0</td>\n",
       "      <td>598.0</td>\n",
       "      <td>4.0</td>\n",
       "      <td>650.0</td>\n",
       "      <td>28.0</td>\n",
       "      <td>9.0</td>\n",
       "      <td>14.0</td>\n",
       "      <td>...</td>\n",
       "      <td>1</td>\n",
       "      <td>73.86</td>\n",
       "      <td>11893</td>\n",
       "      <td>1918</td>\n",
       "      <td>8</td>\n",
       "      <td>0.0</td>\n",
       "      <td>53511.0</td>\n",
       "      <td>-13.0</td>\n",
       "      <td>8.0</td>\n",
       "      <td>20.0</td>\n",
       "    </tr>\n",
       "    <tr>\n",
       "      <th>2</th>\n",
       "      <td>1</td>\n",
       "      <td>64.9</td>\n",
       "      <td>18.33</td>\n",
       "      <td>58.0</td>\n",
       "      <td>598.0</td>\n",
       "      <td>4.0</td>\n",
       "      <td>650.0</td>\n",
       "      <td>28.0</td>\n",
       "      <td>9.0</td>\n",
       "      <td>14.0</td>\n",
       "      <td>...</td>\n",
       "      <td>2</td>\n",
       "      <td>83.23</td>\n",
       "      <td>7079</td>\n",
       "      <td>446</td>\n",
       "      <td>10</td>\n",
       "      <td>0.0</td>\n",
       "      <td>7550.0</td>\n",
       "      <td>-3.0</td>\n",
       "      <td>12.0</td>\n",
       "      <td>14.0</td>\n",
       "    </tr>\n",
       "    <tr>\n",
       "      <th>3</th>\n",
       "      <td>1</td>\n",
       "      <td>58.9</td>\n",
       "      <td>16.17</td>\n",
       "      <td>58.0</td>\n",
       "      <td>598.0</td>\n",
       "      <td>4.0</td>\n",
       "      <td>650.0</td>\n",
       "      <td>28.0</td>\n",
       "      <td>9.0</td>\n",
       "      <td>14.0</td>\n",
       "      <td>...</td>\n",
       "      <td>3</td>\n",
       "      <td>75.07</td>\n",
       "      <td>12698</td>\n",
       "      <td>3492</td>\n",
       "      <td>17</td>\n",
       "      <td>-5.0</td>\n",
       "      <td>986.0</td>\n",
       "      <td>-16.0</td>\n",
       "      <td>7.0</td>\n",
       "      <td>22.0</td>\n",
       "    </tr>\n",
       "    <tr>\n",
       "      <th>4</th>\n",
       "      <td>1</td>\n",
       "      <td>58.9</td>\n",
       "      <td>13.29</td>\n",
       "      <td>58.0</td>\n",
       "      <td>598.0</td>\n",
       "      <td>4.0</td>\n",
       "      <td>650.0</td>\n",
       "      <td>28.0</td>\n",
       "      <td>9.0</td>\n",
       "      <td>14.0</td>\n",
       "      <td>...</td>\n",
       "      <td>4</td>\n",
       "      <td>72.19</td>\n",
       "      <td>7696</td>\n",
       "      <td>1022</td>\n",
       "      <td>10</td>\n",
       "      <td>-6.0</td>\n",
       "      <td>991.0</td>\n",
       "      <td>-8.0</td>\n",
       "      <td>13.0</td>\n",
       "      <td>20.0</td>\n",
       "    </tr>\n",
       "    <tr>\n",
       "      <th>...</th>\n",
       "      <td>...</td>\n",
       "      <td>...</td>\n",
       "      <td>...</td>\n",
       "      <td>...</td>\n",
       "      <td>...</td>\n",
       "      <td>...</td>\n",
       "      <td>...</td>\n",
       "      <td>...</td>\n",
       "      <td>...</td>\n",
       "      <td>...</td>\n",
       "      <td>...</td>\n",
       "      <td>...</td>\n",
       "      <td>...</td>\n",
       "      <td>...</td>\n",
       "      <td>...</td>\n",
       "      <td>...</td>\n",
       "      <td>...</td>\n",
       "      <td>...</td>\n",
       "      <td>...</td>\n",
       "      <td>...</td>\n",
       "      <td>...</td>\n",
       "    </tr>\n",
       "    <tr>\n",
       "      <th>116002</th>\n",
       "      <td>1</td>\n",
       "      <td>119.9</td>\n",
       "      <td>16.14</td>\n",
       "      <td>44.0</td>\n",
       "      <td>533.0</td>\n",
       "      <td>2.0</td>\n",
       "      <td>1000.0</td>\n",
       "      <td>69.0</td>\n",
       "      <td>11.0</td>\n",
       "      <td>11.0</td>\n",
       "      <td>...</td>\n",
       "      <td>1</td>\n",
       "      <td>136.04</td>\n",
       "      <td>5855</td>\n",
       "      <td>3097</td>\n",
       "      <td>18</td>\n",
       "      <td>7.0</td>\n",
       "      <td>67777.0</td>\n",
       "      <td>2.0</td>\n",
       "      <td>19.0</td>\n",
       "      <td>17.0</td>\n",
       "    </tr>\n",
       "    <tr>\n",
       "      <th>116003</th>\n",
       "      <td>1</td>\n",
       "      <td>209.0</td>\n",
       "      <td>16.21</td>\n",
       "      <td>32.0</td>\n",
       "      <td>1306.0</td>\n",
       "      <td>3.0</td>\n",
       "      <td>500.0</td>\n",
       "      <td>17.0</td>\n",
       "      <td>9.0</td>\n",
       "      <td>25.0</td>\n",
       "      <td>...</td>\n",
       "      <td>1</td>\n",
       "      <td>225.21</td>\n",
       "      <td>4526</td>\n",
       "      <td>2064</td>\n",
       "      <td>25</td>\n",
       "      <td>-3.0</td>\n",
       "      <td>60005.0</td>\n",
       "      <td>-18.0</td>\n",
       "      <td>2.0</td>\n",
       "      <td>20.0</td>\n",
       "    </tr>\n",
       "    <tr>\n",
       "      <th>116004</th>\n",
       "      <td>1</td>\n",
       "      <td>6729.0</td>\n",
       "      <td>193.21</td>\n",
       "      <td>50.0</td>\n",
       "      <td>1935.0</td>\n",
       "      <td>4.0</td>\n",
       "      <td>5660.0</td>\n",
       "      <td>54.0</td>\n",
       "      <td>18.0</td>\n",
       "      <td>47.0</td>\n",
       "      <td>...</td>\n",
       "      <td>1</td>\n",
       "      <td>6922.21</td>\n",
       "      <td>6770</td>\n",
       "      <td>4014</td>\n",
       "      <td>7</td>\n",
       "      <td>1.0</td>\n",
       "      <td>35696.0</td>\n",
       "      <td>5.0</td>\n",
       "      <td>12.0</td>\n",
       "      <td>6.0</td>\n",
       "    </tr>\n",
       "    <tr>\n",
       "      <th>116005</th>\n",
       "      <td>1</td>\n",
       "      <td>27.9</td>\n",
       "      <td>14.44</td>\n",
       "      <td>28.0</td>\n",
       "      <td>242.0</td>\n",
       "      <td>1.0</td>\n",
       "      <td>2000.0</td>\n",
       "      <td>19.0</td>\n",
       "      <td>38.0</td>\n",
       "      <td>19.0</td>\n",
       "      <td>...</td>\n",
       "      <td>1</td>\n",
       "      <td>84.68</td>\n",
       "      <td>4085</td>\n",
       "      <td>605</td>\n",
       "      <td>25</td>\n",
       "      <td>-1.0</td>\n",
       "      <td>1373.0</td>\n",
       "      <td>-10.0</td>\n",
       "      <td>2.0</td>\n",
       "      <td>11.0</td>\n",
       "    </tr>\n",
       "    <tr>\n",
       "      <th>116006</th>\n",
       "      <td>2</td>\n",
       "      <td>27.9</td>\n",
       "      <td>14.44</td>\n",
       "      <td>28.0</td>\n",
       "      <td>242.0</td>\n",
       "      <td>1.0</td>\n",
       "      <td>2000.0</td>\n",
       "      <td>19.0</td>\n",
       "      <td>38.0</td>\n",
       "      <td>19.0</td>\n",
       "      <td>...</td>\n",
       "      <td>1</td>\n",
       "      <td>84.68</td>\n",
       "      <td>4085</td>\n",
       "      <td>605</td>\n",
       "      <td>25</td>\n",
       "      <td>-1.0</td>\n",
       "      <td>1373.0</td>\n",
       "      <td>-10.0</td>\n",
       "      <td>2.0</td>\n",
       "      <td>11.0</td>\n",
       "    </tr>\n",
       "  </tbody>\n",
       "</table>\n",
       "<p>116006 rows × 27 columns</p>\n",
       "</div>"
      ],
      "text/plain": [
       "        order_item_id   price  freight_value  product_name_lenght  \\\n",
       "0                   1    58.9          13.29                 58.0   \n",
       "1                   1    55.9          17.96                 58.0   \n",
       "2                   1    64.9          18.33                 58.0   \n",
       "3                   1    58.9          16.17                 58.0   \n",
       "4                   1    58.9          13.29                 58.0   \n",
       "...               ...     ...            ...                  ...   \n",
       "116002              1   119.9          16.14                 44.0   \n",
       "116003              1   209.0          16.21                 32.0   \n",
       "116004              1  6729.0         193.21                 50.0   \n",
       "116005              1    27.9          14.44                 28.0   \n",
       "116006              2    27.9          14.44                 28.0   \n",
       "\n",
       "        product_description_lenght  product_photos_qty  product_weight_g  \\\n",
       "0                            598.0                 4.0             650.0   \n",
       "1                            598.0                 4.0             650.0   \n",
       "2                            598.0                 4.0             650.0   \n",
       "3                            598.0                 4.0             650.0   \n",
       "4                            598.0                 4.0             650.0   \n",
       "...                            ...                 ...               ...   \n",
       "116002                       533.0                 2.0            1000.0   \n",
       "116003                      1306.0                 3.0             500.0   \n",
       "116004                      1935.0                 4.0            5660.0   \n",
       "116005                       242.0                 1.0            2000.0   \n",
       "116006                       242.0                 1.0            2000.0   \n",
       "\n",
       "        product_length_cm  product_height_cm  product_width_cm  ...  \\\n",
       "0                    28.0                9.0              14.0  ...   \n",
       "1                    28.0                9.0              14.0  ...   \n",
       "2                    28.0                9.0              14.0  ...   \n",
       "3                    28.0                9.0              14.0  ...   \n",
       "4                    28.0                9.0              14.0  ...   \n",
       "...                   ...                ...               ...  ...   \n",
       "116002               69.0               11.0              11.0  ...   \n",
       "116003               17.0                9.0              25.0  ...   \n",
       "116004               54.0               18.0              47.0  ...   \n",
       "116005               19.0               38.0              19.0  ...   \n",
       "116006               19.0               38.0              19.0  ...   \n",
       "\n",
       "        payment_installments  payment_value  customer_zip_code_prefix  \\\n",
       "0                          2          72.19                      6600   \n",
       "1                          1          73.86                     11893   \n",
       "2                          2          83.23                      7079   \n",
       "3                          3          75.07                     12698   \n",
       "4                          4          72.19                      7696   \n",
       "...                      ...            ...                       ...   \n",
       "116002                     1         136.04                      5855   \n",
       "116003                     1         225.21                      4526   \n",
       "116004                     1        6922.21                      6770   \n",
       "116005                     1          84.68                      4085   \n",
       "116006                     1          84.68                      4085   \n",
       "\n",
       "        customer_city  customer_state  Seller packing duration  \\\n",
       "0                 729              18                      0.0   \n",
       "1                1918               8                      0.0   \n",
       "2                 446              10                      0.0   \n",
       "3                3492              17                     -5.0   \n",
       "4                1022              10                     -6.0   \n",
       "...               ...             ...                      ...   \n",
       "116002           3097              18                      7.0   \n",
       "116003           2064              25                     -3.0   \n",
       "116004           4014               7                      1.0   \n",
       "116005            605              25                     -1.0   \n",
       "116006            605              25                     -1.0   \n",
       "\n",
       "        Approved duration  Delivery performance  Total shipping date  \\\n",
       "0                  2793.0                  -9.0                  1.0   \n",
       "1                 53511.0                 -13.0                  8.0   \n",
       "2                  7550.0                  -3.0                 12.0   \n",
       "3                   986.0                 -16.0                  7.0   \n",
       "4                   991.0                  -8.0                 13.0   \n",
       "...                   ...                   ...                  ...   \n",
       "116002            67777.0                   2.0                 19.0   \n",
       "116003            60005.0                 -18.0                  2.0   \n",
       "116004            35696.0                   5.0                 12.0   \n",
       "116005             1373.0                 -10.0                  2.0   \n",
       "116006             1373.0                 -10.0                  2.0   \n",
       "\n",
       "        Ideal total shipping date  \n",
       "0                             9.0  \n",
       "1                            20.0  \n",
       "2                            14.0  \n",
       "3                            22.0  \n",
       "4                            20.0  \n",
       "...                           ...  \n",
       "116002                       17.0  \n",
       "116003                       20.0  \n",
       "116004                        6.0  \n",
       "116005                       11.0  \n",
       "116006                       11.0  \n",
       "\n",
       "[116006 rows x 27 columns]"
      ]
     },
     "execution_count": 753,
     "metadata": {},
     "output_type": "execute_result"
    }
   ],
   "source": [
    "X"
   ]
  },
  {
   "cell_type": "code",
   "execution_count": 754,
   "id": "926732a3",
   "metadata": {},
   "outputs": [
    {
     "name": "stdout",
     "output_type": "stream",
     "text": [
      "<class 'pandas.core.frame.DataFrame'>\n",
      "Int64Index: 116006 entries, 0 to 116006\n",
      "Data columns (total 27 columns):\n",
      " #   Column                         Non-Null Count   Dtype  \n",
      "---  ------                         --------------   -----  \n",
      " 0   order_item_id                  116006 non-null  int64  \n",
      " 1   price                          116006 non-null  float64\n",
      " 2   freight_value                  116006 non-null  float64\n",
      " 3   product_name_lenght            116006 non-null  float64\n",
      " 4   product_description_lenght     116006 non-null  float64\n",
      " 5   product_photos_qty             116006 non-null  float64\n",
      " 6   product_weight_g               116006 non-null  float64\n",
      " 7   product_length_cm              116006 non-null  float64\n",
      " 8   product_height_cm              116006 non-null  float64\n",
      " 9   product_width_cm               116006 non-null  float64\n",
      " 10  product_category_name_english  116006 non-null  int64  \n",
      " 11  seller_zip_code_prefix         116006 non-null  int64  \n",
      " 12  seller_city                    116006 non-null  int64  \n",
      " 13  seller_state                   116006 non-null  int64  \n",
      " 14  order_status                   116006 non-null  int64  \n",
      " 15  payment_sequential             116006 non-null  int64  \n",
      " 16  payment_type                   116006 non-null  int64  \n",
      " 17  payment_installments           116006 non-null  int64  \n",
      " 18  payment_value                  116006 non-null  float64\n",
      " 19  customer_zip_code_prefix       116006 non-null  int64  \n",
      " 20  customer_city                  116006 non-null  int64  \n",
      " 21  customer_state                 116006 non-null  int64  \n",
      " 22  Seller packing duration        116006 non-null  float64\n",
      " 23  Approved duration              116006 non-null  float64\n",
      " 24  Delivery performance           116006 non-null  float64\n",
      " 25  Total shipping date            116006 non-null  float64\n",
      " 26  Ideal total shipping date      116006 non-null  float64\n",
      "dtypes: float64(15), int64(12)\n",
      "memory usage: 24.8 MB\n"
     ]
    }
   ],
   "source": [
    "X.info()"
   ]
  },
  {
   "cell_type": "code",
   "execution_count": 755,
   "id": "650f4142",
   "metadata": {},
   "outputs": [],
   "source": [
    "#Train:Test = 75:25\n",
    "from sklearn.model_selection import train_test_split\n",
    "X_train, X_test, y_train, y_test = train_test_split(X, y, stratify=y, test_size=0.25, random_state = 0)"
   ]
  },
  {
   "cell_type": "code",
   "execution_count": 756,
   "id": "0faf2be9",
   "metadata": {},
   "outputs": [
    {
     "data": {
      "text/plain": [
       "((87004, 27), (29002, 27), (87004,), (29002,))"
      ]
     },
     "execution_count": 756,
     "metadata": {},
     "output_type": "execute_result"
    }
   ],
   "source": [
    "X_train.shape, X_test.shape, y_train.shape, y_test.shape"
   ]
  },
  {
   "cell_type": "code",
   "execution_count": 757,
   "id": "506658a2",
   "metadata": {},
   "outputs": [
    {
     "data": {
      "text/html": [
       "<div>\n",
       "<style scoped>\n",
       "    .dataframe tbody tr th:only-of-type {\n",
       "        vertical-align: middle;\n",
       "    }\n",
       "\n",
       "    .dataframe tbody tr th {\n",
       "        vertical-align: top;\n",
       "    }\n",
       "\n",
       "    .dataframe thead th {\n",
       "        text-align: right;\n",
       "    }\n",
       "</style>\n",
       "<table border=\"1\" class=\"dataframe\">\n",
       "  <thead>\n",
       "    <tr style=\"text-align: right;\">\n",
       "      <th></th>\n",
       "      <th>price</th>\n",
       "      <th>freight_value</th>\n",
       "      <th>product_name_lenght</th>\n",
       "      <th>product_description_lenght</th>\n",
       "      <th>product_photos_qty</th>\n",
       "      <th>product_weight_g</th>\n",
       "      <th>product_length_cm</th>\n",
       "      <th>product_height_cm</th>\n",
       "      <th>product_width_cm</th>\n",
       "      <th>payment_value</th>\n",
       "      <th>Seller packing duration</th>\n",
       "      <th>Approved duration</th>\n",
       "      <th>Delivery performance</th>\n",
       "      <th>Total shipping date</th>\n",
       "      <th>Ideal total shipping date</th>\n",
       "    </tr>\n",
       "  </thead>\n",
       "  <tbody>\n",
       "    <tr>\n",
       "      <th>17124</th>\n",
       "      <td>12.99</td>\n",
       "      <td>7.39</td>\n",
       "      <td>58.0</td>\n",
       "      <td>138.0</td>\n",
       "      <td>1.0</td>\n",
       "      <td>100.0</td>\n",
       "      <td>18.0</td>\n",
       "      <td>3.0</td>\n",
       "      <td>13.0</td>\n",
       "      <td>47.67</td>\n",
       "      <td>-6.0</td>\n",
       "      <td>65774.0</td>\n",
       "      <td>-8.0</td>\n",
       "      <td>0.0</td>\n",
       "      <td>8.0</td>\n",
       "    </tr>\n",
       "    <tr>\n",
       "      <th>45195</th>\n",
       "      <td>38.90</td>\n",
       "      <td>16.79</td>\n",
       "      <td>35.0</td>\n",
       "      <td>1101.0</td>\n",
       "      <td>2.0</td>\n",
       "      <td>250.0</td>\n",
       "      <td>42.0</td>\n",
       "      <td>2.0</td>\n",
       "      <td>30.0</td>\n",
       "      <td>50.94</td>\n",
       "      <td>-3.0</td>\n",
       "      <td>790.0</td>\n",
       "      <td>-15.0</td>\n",
       "      <td>12.0</td>\n",
       "      <td>27.0</td>\n",
       "    </tr>\n",
       "    <tr>\n",
       "      <th>38388</th>\n",
       "      <td>52.50</td>\n",
       "      <td>24.86</td>\n",
       "      <td>24.0</td>\n",
       "      <td>290.0</td>\n",
       "      <td>2.0</td>\n",
       "      <td>600.0</td>\n",
       "      <td>50.0</td>\n",
       "      <td>12.0</td>\n",
       "      <td>50.0</td>\n",
       "      <td>154.72</td>\n",
       "      <td>-3.0</td>\n",
       "      <td>4387.0</td>\n",
       "      <td>-12.0</td>\n",
       "      <td>17.0</td>\n",
       "      <td>29.0</td>\n",
       "    </tr>\n",
       "    <tr>\n",
       "      <th>43404</th>\n",
       "      <td>49.90</td>\n",
       "      <td>7.05</td>\n",
       "      <td>51.0</td>\n",
       "      <td>2526.0</td>\n",
       "      <td>1.0</td>\n",
       "      <td>200.0</td>\n",
       "      <td>16.0</td>\n",
       "      <td>16.0</td>\n",
       "      <td>11.0</td>\n",
       "      <td>113.90</td>\n",
       "      <td>0.0</td>\n",
       "      <td>1185.0</td>\n",
       "      <td>-14.0</td>\n",
       "      <td>1.0</td>\n",
       "      <td>15.0</td>\n",
       "    </tr>\n",
       "    <tr>\n",
       "      <th>13749</th>\n",
       "      <td>89.00</td>\n",
       "      <td>16.38</td>\n",
       "      <td>53.0</td>\n",
       "      <td>495.0</td>\n",
       "      <td>2.0</td>\n",
       "      <td>1874.0</td>\n",
       "      <td>38.0</td>\n",
       "      <td>38.0</td>\n",
       "      <td>26.0</td>\n",
       "      <td>105.38</td>\n",
       "      <td>-11.0</td>\n",
       "      <td>565.0</td>\n",
       "      <td>-25.0</td>\n",
       "      <td>6.0</td>\n",
       "      <td>30.0</td>\n",
       "    </tr>\n",
       "    <tr>\n",
       "      <th>...</th>\n",
       "      <td>...</td>\n",
       "      <td>...</td>\n",
       "      <td>...</td>\n",
       "      <td>...</td>\n",
       "      <td>...</td>\n",
       "      <td>...</td>\n",
       "      <td>...</td>\n",
       "      <td>...</td>\n",
       "      <td>...</td>\n",
       "      <td>...</td>\n",
       "      <td>...</td>\n",
       "      <td>...</td>\n",
       "      <td>...</td>\n",
       "      <td>...</td>\n",
       "      <td>...</td>\n",
       "    </tr>\n",
       "    <tr>\n",
       "      <th>28246</th>\n",
       "      <td>27.90</td>\n",
       "      <td>16.11</td>\n",
       "      <td>29.0</td>\n",
       "      <td>194.0</td>\n",
       "      <td>1.0</td>\n",
       "      <td>450.0</td>\n",
       "      <td>16.0</td>\n",
       "      <td>42.0</td>\n",
       "      <td>32.0</td>\n",
       "      <td>44.01</td>\n",
       "      <td>-4.0</td>\n",
       "      <td>891.0</td>\n",
       "      <td>-15.0</td>\n",
       "      <td>6.0</td>\n",
       "      <td>21.0</td>\n",
       "    </tr>\n",
       "    <tr>\n",
       "      <th>107760</th>\n",
       "      <td>74.90</td>\n",
       "      <td>15.59</td>\n",
       "      <td>55.0</td>\n",
       "      <td>485.0</td>\n",
       "      <td>1.0</td>\n",
       "      <td>1150.0</td>\n",
       "      <td>35.0</td>\n",
       "      <td>15.0</td>\n",
       "      <td>15.0</td>\n",
       "      <td>90.49</td>\n",
       "      <td>-2.0</td>\n",
       "      <td>617.0</td>\n",
       "      <td>-5.0</td>\n",
       "      <td>4.0</td>\n",
       "      <td>8.0</td>\n",
       "    </tr>\n",
       "    <tr>\n",
       "      <th>513</th>\n",
       "      <td>169.90</td>\n",
       "      <td>22.99</td>\n",
       "      <td>47.0</td>\n",
       "      <td>539.0</td>\n",
       "      <td>2.0</td>\n",
       "      <td>8750.0</td>\n",
       "      <td>35.0</td>\n",
       "      <td>15.0</td>\n",
       "      <td>35.0</td>\n",
       "      <td>192.89</td>\n",
       "      <td>-1.0</td>\n",
       "      <td>22225.0</td>\n",
       "      <td>-21.0</td>\n",
       "      <td>5.0</td>\n",
       "      <td>26.0</td>\n",
       "    </tr>\n",
       "    <tr>\n",
       "      <th>111648</th>\n",
       "      <td>18.90</td>\n",
       "      <td>17.19</td>\n",
       "      <td>43.0</td>\n",
       "      <td>390.0</td>\n",
       "      <td>1.0</td>\n",
       "      <td>1300.0</td>\n",
       "      <td>46.0</td>\n",
       "      <td>7.0</td>\n",
       "      <td>12.0</td>\n",
       "      <td>72.18</td>\n",
       "      <td>-1.0</td>\n",
       "      <td>706.0</td>\n",
       "      <td>-30.0</td>\n",
       "      <td>8.0</td>\n",
       "      <td>37.0</td>\n",
       "    </tr>\n",
       "    <tr>\n",
       "      <th>78027</th>\n",
       "      <td>18.00</td>\n",
       "      <td>15.10</td>\n",
       "      <td>51.0</td>\n",
       "      <td>92.0</td>\n",
       "      <td>1.0</td>\n",
       "      <td>300.0</td>\n",
       "      <td>16.0</td>\n",
       "      <td>10.0</td>\n",
       "      <td>16.0</td>\n",
       "      <td>33.10</td>\n",
       "      <td>-8.0</td>\n",
       "      <td>655.0</td>\n",
       "      <td>-14.0</td>\n",
       "      <td>8.0</td>\n",
       "      <td>22.0</td>\n",
       "    </tr>\n",
       "  </tbody>\n",
       "</table>\n",
       "<p>87004 rows × 15 columns</p>\n",
       "</div>"
      ],
      "text/plain": [
       "         price  freight_value  product_name_lenght  \\\n",
       "17124    12.99           7.39                 58.0   \n",
       "45195    38.90          16.79                 35.0   \n",
       "38388    52.50          24.86                 24.0   \n",
       "43404    49.90           7.05                 51.0   \n",
       "13749    89.00          16.38                 53.0   \n",
       "...        ...            ...                  ...   \n",
       "28246    27.90          16.11                 29.0   \n",
       "107760   74.90          15.59                 55.0   \n",
       "513     169.90          22.99                 47.0   \n",
       "111648   18.90          17.19                 43.0   \n",
       "78027    18.00          15.10                 51.0   \n",
       "\n",
       "        product_description_lenght  product_photos_qty  product_weight_g  \\\n",
       "17124                        138.0                 1.0             100.0   \n",
       "45195                       1101.0                 2.0             250.0   \n",
       "38388                        290.0                 2.0             600.0   \n",
       "43404                       2526.0                 1.0             200.0   \n",
       "13749                        495.0                 2.0            1874.0   \n",
       "...                            ...                 ...               ...   \n",
       "28246                        194.0                 1.0             450.0   \n",
       "107760                       485.0                 1.0            1150.0   \n",
       "513                          539.0                 2.0            8750.0   \n",
       "111648                       390.0                 1.0            1300.0   \n",
       "78027                         92.0                 1.0             300.0   \n",
       "\n",
       "        product_length_cm  product_height_cm  product_width_cm  payment_value  \\\n",
       "17124                18.0                3.0              13.0          47.67   \n",
       "45195                42.0                2.0              30.0          50.94   \n",
       "38388                50.0               12.0              50.0         154.72   \n",
       "43404                16.0               16.0              11.0         113.90   \n",
       "13749                38.0               38.0              26.0         105.38   \n",
       "...                   ...                ...               ...            ...   \n",
       "28246                16.0               42.0              32.0          44.01   \n",
       "107760               35.0               15.0              15.0          90.49   \n",
       "513                  35.0               15.0              35.0         192.89   \n",
       "111648               46.0                7.0              12.0          72.18   \n",
       "78027                16.0               10.0              16.0          33.10   \n",
       "\n",
       "        Seller packing duration  Approved duration  Delivery performance  \\\n",
       "17124                      -6.0            65774.0                  -8.0   \n",
       "45195                      -3.0              790.0                 -15.0   \n",
       "38388                      -3.0             4387.0                 -12.0   \n",
       "43404                       0.0             1185.0                 -14.0   \n",
       "13749                     -11.0              565.0                 -25.0   \n",
       "...                         ...                ...                   ...   \n",
       "28246                      -4.0              891.0                 -15.0   \n",
       "107760                     -2.0              617.0                  -5.0   \n",
       "513                        -1.0            22225.0                 -21.0   \n",
       "111648                     -1.0              706.0                 -30.0   \n",
       "78027                      -8.0              655.0                 -14.0   \n",
       "\n",
       "        Total shipping date  Ideal total shipping date  \n",
       "17124                   0.0                        8.0  \n",
       "45195                  12.0                       27.0  \n",
       "38388                  17.0                       29.0  \n",
       "43404                   1.0                       15.0  \n",
       "13749                   6.0                       30.0  \n",
       "...                     ...                        ...  \n",
       "28246                   6.0                       21.0  \n",
       "107760                  4.0                        8.0  \n",
       "513                     5.0                       26.0  \n",
       "111648                  8.0                       37.0  \n",
       "78027                   8.0                       22.0  \n",
       "\n",
       "[87004 rows x 15 columns]"
      ]
     },
     "execution_count": 757,
     "metadata": {},
     "output_type": "execute_result"
    }
   ],
   "source": [
    "X_train.select_dtypes(include=['float64'])"
   ]
  },
  {
   "cell_type": "code",
   "execution_count": 758,
   "id": "b28c37f2",
   "metadata": {},
   "outputs": [
    {
     "data": {
      "text/plain": [
       "Index(['price', 'freight_value', 'product_name_lenght',\n",
       "       'product_description_lenght', 'product_photos_qty', 'product_weight_g',\n",
       "       'product_length_cm', 'product_height_cm', 'product_width_cm',\n",
       "       'payment_value', 'Seller packing duration', 'Approved duration',\n",
       "       'Delivery performance', 'Total shipping date',\n",
       "       'Ideal total shipping date'],\n",
       "      dtype='object')"
      ]
     },
     "execution_count": 758,
     "metadata": {},
     "output_type": "execute_result"
    }
   ],
   "source": [
    "X_train.select_dtypes(include=['float64']).columns"
   ]
  },
  {
   "cell_type": "code",
   "execution_count": null,
   "id": "d5cde2df",
   "metadata": {},
   "outputs": [],
   "source": []
  },
  {
   "cell_type": "code",
   "execution_count": 759,
   "id": "56e6ef3f",
   "metadata": {},
   "outputs": [
    {
     "name": "stdout",
     "output_type": "stream",
     "text": [
      "model score = 0.048055261827042436\n"
     ]
    }
   ],
   "source": [
    "from sklearn import tree \n",
    "from sklearn.compose import ColumnTransformer\n",
    "\n",
    "model = tree.DecisionTreeClassifier()\n",
    "ct = ColumnTransformer(\n",
    "    [('std', StandardScaler(),X_train.select_dtypes(include=['float64']).columns)],remainder='passthrough')\n",
    "\n",
    "pipe = Pipeline([('ct', ct), ('DT', model)])\n",
    "pipe.fit(X_train, y_train)\n",
    "pipe.score(X_test, y_test)\n",
    "print('model score =',model.score(X_train, y_train))"
   ]
  },
  {
   "cell_type": "code",
   "execution_count": null,
   "id": "182a2729",
   "metadata": {},
   "outputs": [],
   "source": []
  },
  {
   "cell_type": "code",
   "execution_count": 760,
   "id": "91b02155",
   "metadata": {},
   "outputs": [
    {
     "name": "stdout",
     "output_type": "stream",
     "text": [
      "accuracy = 4.682435694090063 %\n"
     ]
    }
   ],
   "source": [
    "from sklearn.metrics import accuracy_score\n",
    "prediction = model.predict(X_test)\n",
    "print('accuracy =',accuracy_score(y_test, prediction)*100,'%')"
   ]
  },
  {
   "cell_type": "code",
   "execution_count": 761,
   "id": "8ec344e1",
   "metadata": {},
   "outputs": [
    {
     "name": "stdout",
     "output_type": "stream",
     "text": [
      "error =  2.59939421014939\n"
     ]
    }
   ],
   "source": [
    "from sklearn.metrics import mean_squared_error\n",
    "predictions = model.predict(X_train)\n",
    "forest_mse = mean_squared_error(y_train, predictions)\n",
    "forest_rmse = np.sqrt(forest_mse)\n",
    "print('error = ',forest_rmse)"
   ]
  },
  {
   "cell_type": "code",
   "execution_count": 762,
   "id": "e0973e49",
   "metadata": {},
   "outputs": [
    {
     "name": "stdout",
     "output_type": "stream",
     "text": [
      "model score = 0.12406326145924325\n"
     ]
    }
   ],
   "source": [
    "from sklearn.ensemble import RandomForestClassifier\n",
    "model2 = RandomForestClassifier(n_estimators=100)\n",
    "\n",
    "pipe = Pipeline([('ct', ct), ('RF', model2)])\n",
    "pipe.fit(X_train, y_train)\n",
    "pipe.score(X_test, y_test)\n",
    "print('model score =',model2.score(X_train,y_train))"
   ]
  },
  {
   "cell_type": "code",
   "execution_count": 765,
   "id": "460ccc5c",
   "metadata": {},
   "outputs": [
    {
     "name": "stderr",
     "output_type": "stream",
     "text": [
      "C:\\Users\\66626\\anaconda3\\lib\\site-packages\\sklearn\\svm\\_base.py:985: ConvergenceWarning: Liblinear failed to converge, increase the number of iterations.\n",
      "  warnings.warn(\"Liblinear failed to converge, increase \"\n",
      "C:\\Users\\66626\\anaconda3\\lib\\site-packages\\sklearn\\svm\\_base.py:985: ConvergenceWarning: Liblinear failed to converge, increase the number of iterations.\n",
      "  warnings.warn(\"Liblinear failed to converge, increase \"\n"
     ]
    },
    {
     "ename": "KeyboardInterrupt",
     "evalue": "",
     "output_type": "error",
     "traceback": [
      "\u001b[1;31m---------------------------------------------------------------------------\u001b[0m",
      "\u001b[1;31mKeyboardInterrupt\u001b[0m                         Traceback (most recent call last)",
      "\u001b[1;32m~\\AppData\\Local\\Temp/ipykernel_22616/2113584923.py\u001b[0m in \u001b[0;36m<module>\u001b[1;34m\u001b[0m\n\u001b[0;32m      4\u001b[0m \u001b[1;33m\u001b[0m\u001b[0m\n\u001b[0;32m      5\u001b[0m \u001b[0mpipe\u001b[0m \u001b[1;33m=\u001b[0m \u001b[0mPipeline\u001b[0m\u001b[1;33m(\u001b[0m\u001b[1;33m[\u001b[0m\u001b[1;33m(\u001b[0m\u001b[1;34m'ct'\u001b[0m\u001b[1;33m,\u001b[0m \u001b[0mct\u001b[0m\u001b[1;33m)\u001b[0m\u001b[1;33m,\u001b[0m \u001b[1;33m(\u001b[0m\u001b[1;34m'OneVsOneClassifier'\u001b[0m\u001b[1;33m,\u001b[0m \u001b[0mmodel3\u001b[0m\u001b[1;33m)\u001b[0m\u001b[1;33m]\u001b[0m\u001b[1;33m)\u001b[0m\u001b[1;33m\u001b[0m\u001b[1;33m\u001b[0m\u001b[0m\n\u001b[1;32m----> 6\u001b[1;33m \u001b[0mpipe\u001b[0m\u001b[1;33m.\u001b[0m\u001b[0mfit\u001b[0m\u001b[1;33m(\u001b[0m\u001b[0mX_train\u001b[0m\u001b[1;33m,\u001b[0m \u001b[0my_train\u001b[0m\u001b[1;33m)\u001b[0m\u001b[1;33m\u001b[0m\u001b[1;33m\u001b[0m\u001b[0m\n\u001b[0m\u001b[0;32m      7\u001b[0m \u001b[0mpipe\u001b[0m\u001b[1;33m.\u001b[0m\u001b[0mscore\u001b[0m\u001b[1;33m(\u001b[0m\u001b[0mX_test\u001b[0m\u001b[1;33m,\u001b[0m \u001b[0my_test\u001b[0m\u001b[1;33m)\u001b[0m\u001b[1;33m\u001b[0m\u001b[1;33m\u001b[0m\u001b[0m\n\u001b[0;32m      8\u001b[0m \u001b[0mprint\u001b[0m\u001b[1;33m(\u001b[0m\u001b[1;34m'model score ='\u001b[0m\u001b[1;33m,\u001b[0m\u001b[0mmodel3\u001b[0m\u001b[1;33m.\u001b[0m\u001b[0mscore\u001b[0m\u001b[1;33m(\u001b[0m\u001b[0mX_train\u001b[0m\u001b[1;33m,\u001b[0m\u001b[0my_train\u001b[0m\u001b[1;33m)\u001b[0m\u001b[1;33m)\u001b[0m\u001b[1;33m\u001b[0m\u001b[1;33m\u001b[0m\u001b[0m\n",
      "\u001b[1;32m~\\anaconda3\\lib\\site-packages\\sklearn\\pipeline.py\u001b[0m in \u001b[0;36mfit\u001b[1;34m(self, X, y, **fit_params)\u001b[0m\n\u001b[0;32m    344\u001b[0m             \u001b[1;32mif\u001b[0m \u001b[0mself\u001b[0m\u001b[1;33m.\u001b[0m\u001b[0m_final_estimator\u001b[0m \u001b[1;33m!=\u001b[0m \u001b[1;34m'passthrough'\u001b[0m\u001b[1;33m:\u001b[0m\u001b[1;33m\u001b[0m\u001b[1;33m\u001b[0m\u001b[0m\n\u001b[0;32m    345\u001b[0m                 \u001b[0mfit_params_last_step\u001b[0m \u001b[1;33m=\u001b[0m \u001b[0mfit_params_steps\u001b[0m\u001b[1;33m[\u001b[0m\u001b[0mself\u001b[0m\u001b[1;33m.\u001b[0m\u001b[0msteps\u001b[0m\u001b[1;33m[\u001b[0m\u001b[1;33m-\u001b[0m\u001b[1;36m1\u001b[0m\u001b[1;33m]\u001b[0m\u001b[1;33m[\u001b[0m\u001b[1;36m0\u001b[0m\u001b[1;33m]\u001b[0m\u001b[1;33m]\u001b[0m\u001b[1;33m\u001b[0m\u001b[1;33m\u001b[0m\u001b[0m\n\u001b[1;32m--> 346\u001b[1;33m                 \u001b[0mself\u001b[0m\u001b[1;33m.\u001b[0m\u001b[0m_final_estimator\u001b[0m\u001b[1;33m.\u001b[0m\u001b[0mfit\u001b[0m\u001b[1;33m(\u001b[0m\u001b[0mXt\u001b[0m\u001b[1;33m,\u001b[0m \u001b[0my\u001b[0m\u001b[1;33m,\u001b[0m \u001b[1;33m**\u001b[0m\u001b[0mfit_params_last_step\u001b[0m\u001b[1;33m)\u001b[0m\u001b[1;33m\u001b[0m\u001b[1;33m\u001b[0m\u001b[0m\n\u001b[0m\u001b[0;32m    347\u001b[0m \u001b[1;33m\u001b[0m\u001b[0m\n\u001b[0;32m    348\u001b[0m         \u001b[1;32mreturn\u001b[0m \u001b[0mself\u001b[0m\u001b[1;33m\u001b[0m\u001b[1;33m\u001b[0m\u001b[0m\n",
      "\u001b[1;32m~\\anaconda3\\lib\\site-packages\\sklearn\\multiclass.py\u001b[0m in \u001b[0;36mfit\u001b[1;34m(self, X, y)\u001b[0m\n\u001b[0;32m    639\u001b[0m                              \" class is present.\")\n\u001b[0;32m    640\u001b[0m         \u001b[0mn_classes\u001b[0m \u001b[1;33m=\u001b[0m \u001b[0mself\u001b[0m\u001b[1;33m.\u001b[0m\u001b[0mclasses_\u001b[0m\u001b[1;33m.\u001b[0m\u001b[0mshape\u001b[0m\u001b[1;33m[\u001b[0m\u001b[1;36m0\u001b[0m\u001b[1;33m]\u001b[0m\u001b[1;33m\u001b[0m\u001b[1;33m\u001b[0m\u001b[0m\n\u001b[1;32m--> 641\u001b[1;33m         estimators_indices = list(zip(*(Parallel(n_jobs=self.n_jobs)(\n\u001b[0m\u001b[0;32m    642\u001b[0m             \u001b[0mdelayed\u001b[0m\u001b[1;33m(\u001b[0m\u001b[0m_fit_ovo_binary\u001b[0m\u001b[1;33m)\u001b[0m\u001b[1;33m\u001b[0m\u001b[1;33m\u001b[0m\u001b[0m\n\u001b[0;32m    643\u001b[0m             \u001b[1;33m(\u001b[0m\u001b[0mself\u001b[0m\u001b[1;33m.\u001b[0m\u001b[0mestimator\u001b[0m\u001b[1;33m,\u001b[0m \u001b[0mX\u001b[0m\u001b[1;33m,\u001b[0m \u001b[0my\u001b[0m\u001b[1;33m,\u001b[0m \u001b[0mself\u001b[0m\u001b[1;33m.\u001b[0m\u001b[0mclasses_\u001b[0m\u001b[1;33m[\u001b[0m\u001b[0mi\u001b[0m\u001b[1;33m]\u001b[0m\u001b[1;33m,\u001b[0m \u001b[0mself\u001b[0m\u001b[1;33m.\u001b[0m\u001b[0mclasses_\u001b[0m\u001b[1;33m[\u001b[0m\u001b[0mj\u001b[0m\u001b[1;33m]\u001b[0m\u001b[1;33m)\u001b[0m\u001b[1;33m\u001b[0m\u001b[1;33m\u001b[0m\u001b[0m\n",
      "\u001b[1;32m~\\anaconda3\\lib\\site-packages\\joblib\\parallel.py\u001b[0m in \u001b[0;36m__call__\u001b[1;34m(self, iterable)\u001b[0m\n\u001b[0;32m   1044\u001b[0m                 \u001b[0mself\u001b[0m\u001b[1;33m.\u001b[0m\u001b[0m_iterating\u001b[0m \u001b[1;33m=\u001b[0m \u001b[0mself\u001b[0m\u001b[1;33m.\u001b[0m\u001b[0m_original_iterator\u001b[0m \u001b[1;32mis\u001b[0m \u001b[1;32mnot\u001b[0m \u001b[1;32mNone\u001b[0m\u001b[1;33m\u001b[0m\u001b[1;33m\u001b[0m\u001b[0m\n\u001b[0;32m   1045\u001b[0m \u001b[1;33m\u001b[0m\u001b[0m\n\u001b[1;32m-> 1046\u001b[1;33m             \u001b[1;32mwhile\u001b[0m \u001b[0mself\u001b[0m\u001b[1;33m.\u001b[0m\u001b[0mdispatch_one_batch\u001b[0m\u001b[1;33m(\u001b[0m\u001b[0miterator\u001b[0m\u001b[1;33m)\u001b[0m\u001b[1;33m:\u001b[0m\u001b[1;33m\u001b[0m\u001b[1;33m\u001b[0m\u001b[0m\n\u001b[0m\u001b[0;32m   1047\u001b[0m                 \u001b[1;32mpass\u001b[0m\u001b[1;33m\u001b[0m\u001b[1;33m\u001b[0m\u001b[0m\n\u001b[0;32m   1048\u001b[0m \u001b[1;33m\u001b[0m\u001b[0m\n",
      "\u001b[1;32m~\\anaconda3\\lib\\site-packages\\joblib\\parallel.py\u001b[0m in \u001b[0;36mdispatch_one_batch\u001b[1;34m(self, iterator)\u001b[0m\n\u001b[0;32m    859\u001b[0m                 \u001b[1;32mreturn\u001b[0m \u001b[1;32mFalse\u001b[0m\u001b[1;33m\u001b[0m\u001b[1;33m\u001b[0m\u001b[0m\n\u001b[0;32m    860\u001b[0m             \u001b[1;32melse\u001b[0m\u001b[1;33m:\u001b[0m\u001b[1;33m\u001b[0m\u001b[1;33m\u001b[0m\u001b[0m\n\u001b[1;32m--> 861\u001b[1;33m                 \u001b[0mself\u001b[0m\u001b[1;33m.\u001b[0m\u001b[0m_dispatch\u001b[0m\u001b[1;33m(\u001b[0m\u001b[0mtasks\u001b[0m\u001b[1;33m)\u001b[0m\u001b[1;33m\u001b[0m\u001b[1;33m\u001b[0m\u001b[0m\n\u001b[0m\u001b[0;32m    862\u001b[0m                 \u001b[1;32mreturn\u001b[0m \u001b[1;32mTrue\u001b[0m\u001b[1;33m\u001b[0m\u001b[1;33m\u001b[0m\u001b[0m\n\u001b[0;32m    863\u001b[0m \u001b[1;33m\u001b[0m\u001b[0m\n",
      "\u001b[1;32m~\\anaconda3\\lib\\site-packages\\joblib\\parallel.py\u001b[0m in \u001b[0;36m_dispatch\u001b[1;34m(self, batch)\u001b[0m\n\u001b[0;32m    777\u001b[0m         \u001b[1;32mwith\u001b[0m \u001b[0mself\u001b[0m\u001b[1;33m.\u001b[0m\u001b[0m_lock\u001b[0m\u001b[1;33m:\u001b[0m\u001b[1;33m\u001b[0m\u001b[1;33m\u001b[0m\u001b[0m\n\u001b[0;32m    778\u001b[0m             \u001b[0mjob_idx\u001b[0m \u001b[1;33m=\u001b[0m \u001b[0mlen\u001b[0m\u001b[1;33m(\u001b[0m\u001b[0mself\u001b[0m\u001b[1;33m.\u001b[0m\u001b[0m_jobs\u001b[0m\u001b[1;33m)\u001b[0m\u001b[1;33m\u001b[0m\u001b[1;33m\u001b[0m\u001b[0m\n\u001b[1;32m--> 779\u001b[1;33m             \u001b[0mjob\u001b[0m \u001b[1;33m=\u001b[0m \u001b[0mself\u001b[0m\u001b[1;33m.\u001b[0m\u001b[0m_backend\u001b[0m\u001b[1;33m.\u001b[0m\u001b[0mapply_async\u001b[0m\u001b[1;33m(\u001b[0m\u001b[0mbatch\u001b[0m\u001b[1;33m,\u001b[0m \u001b[0mcallback\u001b[0m\u001b[1;33m=\u001b[0m\u001b[0mcb\u001b[0m\u001b[1;33m)\u001b[0m\u001b[1;33m\u001b[0m\u001b[1;33m\u001b[0m\u001b[0m\n\u001b[0m\u001b[0;32m    780\u001b[0m             \u001b[1;31m# A job can complete so quickly than its callback is\u001b[0m\u001b[1;33m\u001b[0m\u001b[1;33m\u001b[0m\u001b[0m\n\u001b[0;32m    781\u001b[0m             \u001b[1;31m# called before we get here, causing self._jobs to\u001b[0m\u001b[1;33m\u001b[0m\u001b[1;33m\u001b[0m\u001b[0m\n",
      "\u001b[1;32m~\\anaconda3\\lib\\site-packages\\joblib\\_parallel_backends.py\u001b[0m in \u001b[0;36mapply_async\u001b[1;34m(self, func, callback)\u001b[0m\n\u001b[0;32m    206\u001b[0m     \u001b[1;32mdef\u001b[0m \u001b[0mapply_async\u001b[0m\u001b[1;33m(\u001b[0m\u001b[0mself\u001b[0m\u001b[1;33m,\u001b[0m \u001b[0mfunc\u001b[0m\u001b[1;33m,\u001b[0m \u001b[0mcallback\u001b[0m\u001b[1;33m=\u001b[0m\u001b[1;32mNone\u001b[0m\u001b[1;33m)\u001b[0m\u001b[1;33m:\u001b[0m\u001b[1;33m\u001b[0m\u001b[1;33m\u001b[0m\u001b[0m\n\u001b[0;32m    207\u001b[0m         \u001b[1;34m\"\"\"Schedule a func to be run\"\"\"\u001b[0m\u001b[1;33m\u001b[0m\u001b[1;33m\u001b[0m\u001b[0m\n\u001b[1;32m--> 208\u001b[1;33m         \u001b[0mresult\u001b[0m \u001b[1;33m=\u001b[0m \u001b[0mImmediateResult\u001b[0m\u001b[1;33m(\u001b[0m\u001b[0mfunc\u001b[0m\u001b[1;33m)\u001b[0m\u001b[1;33m\u001b[0m\u001b[1;33m\u001b[0m\u001b[0m\n\u001b[0m\u001b[0;32m    209\u001b[0m         \u001b[1;32mif\u001b[0m \u001b[0mcallback\u001b[0m\u001b[1;33m:\u001b[0m\u001b[1;33m\u001b[0m\u001b[1;33m\u001b[0m\u001b[0m\n\u001b[0;32m    210\u001b[0m             \u001b[0mcallback\u001b[0m\u001b[1;33m(\u001b[0m\u001b[0mresult\u001b[0m\u001b[1;33m)\u001b[0m\u001b[1;33m\u001b[0m\u001b[1;33m\u001b[0m\u001b[0m\n",
      "\u001b[1;32m~\\anaconda3\\lib\\site-packages\\joblib\\_parallel_backends.py\u001b[0m in \u001b[0;36m__init__\u001b[1;34m(self, batch)\u001b[0m\n\u001b[0;32m    570\u001b[0m         \u001b[1;31m# Don't delay the application, to avoid keeping the input\u001b[0m\u001b[1;33m\u001b[0m\u001b[1;33m\u001b[0m\u001b[0m\n\u001b[0;32m    571\u001b[0m         \u001b[1;31m# arguments in memory\u001b[0m\u001b[1;33m\u001b[0m\u001b[1;33m\u001b[0m\u001b[0m\n\u001b[1;32m--> 572\u001b[1;33m         \u001b[0mself\u001b[0m\u001b[1;33m.\u001b[0m\u001b[0mresults\u001b[0m \u001b[1;33m=\u001b[0m \u001b[0mbatch\u001b[0m\u001b[1;33m(\u001b[0m\u001b[1;33m)\u001b[0m\u001b[1;33m\u001b[0m\u001b[1;33m\u001b[0m\u001b[0m\n\u001b[0m\u001b[0;32m    573\u001b[0m \u001b[1;33m\u001b[0m\u001b[0m\n\u001b[0;32m    574\u001b[0m     \u001b[1;32mdef\u001b[0m \u001b[0mget\u001b[0m\u001b[1;33m(\u001b[0m\u001b[0mself\u001b[0m\u001b[1;33m)\u001b[0m\u001b[1;33m:\u001b[0m\u001b[1;33m\u001b[0m\u001b[1;33m\u001b[0m\u001b[0m\n",
      "\u001b[1;32m~\\anaconda3\\lib\\site-packages\\joblib\\parallel.py\u001b[0m in \u001b[0;36m__call__\u001b[1;34m(self)\u001b[0m\n\u001b[0;32m    260\u001b[0m         \u001b[1;31m# change the default number of processes to -1\u001b[0m\u001b[1;33m\u001b[0m\u001b[1;33m\u001b[0m\u001b[0m\n\u001b[0;32m    261\u001b[0m         \u001b[1;32mwith\u001b[0m \u001b[0mparallel_backend\u001b[0m\u001b[1;33m(\u001b[0m\u001b[0mself\u001b[0m\u001b[1;33m.\u001b[0m\u001b[0m_backend\u001b[0m\u001b[1;33m,\u001b[0m \u001b[0mn_jobs\u001b[0m\u001b[1;33m=\u001b[0m\u001b[0mself\u001b[0m\u001b[1;33m.\u001b[0m\u001b[0m_n_jobs\u001b[0m\u001b[1;33m)\u001b[0m\u001b[1;33m:\u001b[0m\u001b[1;33m\u001b[0m\u001b[1;33m\u001b[0m\u001b[0m\n\u001b[1;32m--> 262\u001b[1;33m             return [func(*args, **kwargs)\n\u001b[0m\u001b[0;32m    263\u001b[0m                     for func, args, kwargs in self.items]\n\u001b[0;32m    264\u001b[0m \u001b[1;33m\u001b[0m\u001b[0m\n",
      "\u001b[1;32m~\\anaconda3\\lib\\site-packages\\joblib\\parallel.py\u001b[0m in \u001b[0;36m<listcomp>\u001b[1;34m(.0)\u001b[0m\n\u001b[0;32m    260\u001b[0m         \u001b[1;31m# change the default number of processes to -1\u001b[0m\u001b[1;33m\u001b[0m\u001b[1;33m\u001b[0m\u001b[0m\n\u001b[0;32m    261\u001b[0m         \u001b[1;32mwith\u001b[0m \u001b[0mparallel_backend\u001b[0m\u001b[1;33m(\u001b[0m\u001b[0mself\u001b[0m\u001b[1;33m.\u001b[0m\u001b[0m_backend\u001b[0m\u001b[1;33m,\u001b[0m \u001b[0mn_jobs\u001b[0m\u001b[1;33m=\u001b[0m\u001b[0mself\u001b[0m\u001b[1;33m.\u001b[0m\u001b[0m_n_jobs\u001b[0m\u001b[1;33m)\u001b[0m\u001b[1;33m:\u001b[0m\u001b[1;33m\u001b[0m\u001b[1;33m\u001b[0m\u001b[0m\n\u001b[1;32m--> 262\u001b[1;33m             return [func(*args, **kwargs)\n\u001b[0m\u001b[0;32m    263\u001b[0m                     for func, args, kwargs in self.items]\n\u001b[0;32m    264\u001b[0m \u001b[1;33m\u001b[0m\u001b[0m\n",
      "\u001b[1;32m~\\anaconda3\\lib\\site-packages\\sklearn\\utils\\fixes.py\u001b[0m in \u001b[0;36m__call__\u001b[1;34m(self, *args, **kwargs)\u001b[0m\n\u001b[0;32m    220\u001b[0m     \u001b[1;32mdef\u001b[0m \u001b[0m__call__\u001b[0m\u001b[1;33m(\u001b[0m\u001b[0mself\u001b[0m\u001b[1;33m,\u001b[0m \u001b[1;33m*\u001b[0m\u001b[0margs\u001b[0m\u001b[1;33m,\u001b[0m \u001b[1;33m**\u001b[0m\u001b[0mkwargs\u001b[0m\u001b[1;33m)\u001b[0m\u001b[1;33m:\u001b[0m\u001b[1;33m\u001b[0m\u001b[1;33m\u001b[0m\u001b[0m\n\u001b[0;32m    221\u001b[0m         \u001b[1;32mwith\u001b[0m \u001b[0mconfig_context\u001b[0m\u001b[1;33m(\u001b[0m\u001b[1;33m**\u001b[0m\u001b[0mself\u001b[0m\u001b[1;33m.\u001b[0m\u001b[0mconfig\u001b[0m\u001b[1;33m)\u001b[0m\u001b[1;33m:\u001b[0m\u001b[1;33m\u001b[0m\u001b[1;33m\u001b[0m\u001b[0m\n\u001b[1;32m--> 222\u001b[1;33m             \u001b[1;32mreturn\u001b[0m \u001b[0mself\u001b[0m\u001b[1;33m.\u001b[0m\u001b[0mfunction\u001b[0m\u001b[1;33m(\u001b[0m\u001b[1;33m*\u001b[0m\u001b[0margs\u001b[0m\u001b[1;33m,\u001b[0m \u001b[1;33m**\u001b[0m\u001b[0mkwargs\u001b[0m\u001b[1;33m)\u001b[0m\u001b[1;33m\u001b[0m\u001b[1;33m\u001b[0m\u001b[0m\n\u001b[0m",
      "\u001b[1;32m~\\anaconda3\\lib\\site-packages\\sklearn\\multiclass.py\u001b[0m in \u001b[0;36m_fit_ovo_binary\u001b[1;34m(estimator, X, y, i, j)\u001b[0m\n\u001b[0;32m    529\u001b[0m     \u001b[0my_binary\u001b[0m\u001b[1;33m[\u001b[0m\u001b[0my\u001b[0m \u001b[1;33m==\u001b[0m \u001b[0mj\u001b[0m\u001b[1;33m]\u001b[0m \u001b[1;33m=\u001b[0m \u001b[1;36m1\u001b[0m\u001b[1;33m\u001b[0m\u001b[1;33m\u001b[0m\u001b[0m\n\u001b[0;32m    530\u001b[0m     \u001b[0mindcond\u001b[0m \u001b[1;33m=\u001b[0m \u001b[0mnp\u001b[0m\u001b[1;33m.\u001b[0m\u001b[0marange\u001b[0m\u001b[1;33m(\u001b[0m\u001b[0mX\u001b[0m\u001b[1;33m.\u001b[0m\u001b[0mshape\u001b[0m\u001b[1;33m[\u001b[0m\u001b[1;36m0\u001b[0m\u001b[1;33m]\u001b[0m\u001b[1;33m)\u001b[0m\u001b[1;33m[\u001b[0m\u001b[0mcond\u001b[0m\u001b[1;33m]\u001b[0m\u001b[1;33m\u001b[0m\u001b[1;33m\u001b[0m\u001b[0m\n\u001b[1;32m--> 531\u001b[1;33m     return _fit_binary(estimator,\n\u001b[0m\u001b[0;32m    532\u001b[0m                        \u001b[0m_safe_split\u001b[0m\u001b[1;33m(\u001b[0m\u001b[0mestimator\u001b[0m\u001b[1;33m,\u001b[0m \u001b[0mX\u001b[0m\u001b[1;33m,\u001b[0m \u001b[1;32mNone\u001b[0m\u001b[1;33m,\u001b[0m \u001b[0mindices\u001b[0m\u001b[1;33m=\u001b[0m\u001b[0mindcond\u001b[0m\u001b[1;33m)\u001b[0m\u001b[1;33m[\u001b[0m\u001b[1;36m0\u001b[0m\u001b[1;33m]\u001b[0m\u001b[1;33m,\u001b[0m\u001b[1;33m\u001b[0m\u001b[1;33m\u001b[0m\u001b[0m\n\u001b[0;32m    533\u001b[0m                        y_binary, classes=[i, j]), indcond\n",
      "\u001b[1;32m~\\anaconda3\\lib\\site-packages\\sklearn\\multiclass.py\u001b[0m in \u001b[0;36m_fit_binary\u001b[1;34m(estimator, X, y, classes)\u001b[0m\n\u001b[0;32m     83\u001b[0m     \u001b[1;32melse\u001b[0m\u001b[1;33m:\u001b[0m\u001b[1;33m\u001b[0m\u001b[1;33m\u001b[0m\u001b[0m\n\u001b[0;32m     84\u001b[0m         \u001b[0mestimator\u001b[0m \u001b[1;33m=\u001b[0m \u001b[0mclone\u001b[0m\u001b[1;33m(\u001b[0m\u001b[0mestimator\u001b[0m\u001b[1;33m)\u001b[0m\u001b[1;33m\u001b[0m\u001b[1;33m\u001b[0m\u001b[0m\n\u001b[1;32m---> 85\u001b[1;33m         \u001b[0mestimator\u001b[0m\u001b[1;33m.\u001b[0m\u001b[0mfit\u001b[0m\u001b[1;33m(\u001b[0m\u001b[0mX\u001b[0m\u001b[1;33m,\u001b[0m \u001b[0my\u001b[0m\u001b[1;33m)\u001b[0m\u001b[1;33m\u001b[0m\u001b[1;33m\u001b[0m\u001b[0m\n\u001b[0m\u001b[0;32m     86\u001b[0m     \u001b[1;32mreturn\u001b[0m \u001b[0mestimator\u001b[0m\u001b[1;33m\u001b[0m\u001b[1;33m\u001b[0m\u001b[0m\n\u001b[0;32m     87\u001b[0m \u001b[1;33m\u001b[0m\u001b[0m\n",
      "\u001b[1;32m~\\anaconda3\\lib\\site-packages\\sklearn\\svm\\_classes.py\u001b[0m in \u001b[0;36mfit\u001b[1;34m(self, X, y, sample_weight)\u001b[0m\n\u001b[0;32m    232\u001b[0m         \u001b[0mself\u001b[0m\u001b[1;33m.\u001b[0m\u001b[0mclasses_\u001b[0m \u001b[1;33m=\u001b[0m \u001b[0mnp\u001b[0m\u001b[1;33m.\u001b[0m\u001b[0munique\u001b[0m\u001b[1;33m(\u001b[0m\u001b[0my\u001b[0m\u001b[1;33m)\u001b[0m\u001b[1;33m\u001b[0m\u001b[1;33m\u001b[0m\u001b[0m\n\u001b[0;32m    233\u001b[0m \u001b[1;33m\u001b[0m\u001b[0m\n\u001b[1;32m--> 234\u001b[1;33m         self.coef_, self.intercept_, self.n_iter_ = _fit_liblinear(\n\u001b[0m\u001b[0;32m    235\u001b[0m             \u001b[0mX\u001b[0m\u001b[1;33m,\u001b[0m \u001b[0my\u001b[0m\u001b[1;33m,\u001b[0m \u001b[0mself\u001b[0m\u001b[1;33m.\u001b[0m\u001b[0mC\u001b[0m\u001b[1;33m,\u001b[0m \u001b[0mself\u001b[0m\u001b[1;33m.\u001b[0m\u001b[0mfit_intercept\u001b[0m\u001b[1;33m,\u001b[0m \u001b[0mself\u001b[0m\u001b[1;33m.\u001b[0m\u001b[0mintercept_scaling\u001b[0m\u001b[1;33m,\u001b[0m\u001b[1;33m\u001b[0m\u001b[1;33m\u001b[0m\u001b[0m\n\u001b[0;32m    236\u001b[0m             \u001b[0mself\u001b[0m\u001b[1;33m.\u001b[0m\u001b[0mclass_weight\u001b[0m\u001b[1;33m,\u001b[0m \u001b[0mself\u001b[0m\u001b[1;33m.\u001b[0m\u001b[0mpenalty\u001b[0m\u001b[1;33m,\u001b[0m \u001b[0mself\u001b[0m\u001b[1;33m.\u001b[0m\u001b[0mdual\u001b[0m\u001b[1;33m,\u001b[0m \u001b[0mself\u001b[0m\u001b[1;33m.\u001b[0m\u001b[0mverbose\u001b[0m\u001b[1;33m,\u001b[0m\u001b[1;33m\u001b[0m\u001b[1;33m\u001b[0m\u001b[0m\n",
      "\u001b[1;32m~\\anaconda3\\lib\\site-packages\\sklearn\\svm\\_base.py\u001b[0m in \u001b[0;36m_fit_liblinear\u001b[1;34m(X, y, C, fit_intercept, intercept_scaling, class_weight, penalty, dual, verbose, max_iter, tol, random_state, multi_class, loss, epsilon, sample_weight)\u001b[0m\n\u001b[0;32m    973\u001b[0m \u001b[1;33m\u001b[0m\u001b[0m\n\u001b[0;32m    974\u001b[0m     \u001b[0msolver_type\u001b[0m \u001b[1;33m=\u001b[0m \u001b[0m_get_liblinear_solver_type\u001b[0m\u001b[1;33m(\u001b[0m\u001b[0mmulti_class\u001b[0m\u001b[1;33m,\u001b[0m \u001b[0mpenalty\u001b[0m\u001b[1;33m,\u001b[0m \u001b[0mloss\u001b[0m\u001b[1;33m,\u001b[0m \u001b[0mdual\u001b[0m\u001b[1;33m)\u001b[0m\u001b[1;33m\u001b[0m\u001b[1;33m\u001b[0m\u001b[0m\n\u001b[1;32m--> 975\u001b[1;33m     raw_coef_, n_iter_ = liblinear.train_wrap(\n\u001b[0m\u001b[0;32m    976\u001b[0m         \u001b[0mX\u001b[0m\u001b[1;33m,\u001b[0m \u001b[0my_ind\u001b[0m\u001b[1;33m,\u001b[0m \u001b[0msp\u001b[0m\u001b[1;33m.\u001b[0m\u001b[0misspmatrix\u001b[0m\u001b[1;33m(\u001b[0m\u001b[0mX\u001b[0m\u001b[1;33m)\u001b[0m\u001b[1;33m,\u001b[0m \u001b[0msolver_type\u001b[0m\u001b[1;33m,\u001b[0m \u001b[0mtol\u001b[0m\u001b[1;33m,\u001b[0m \u001b[0mbias\u001b[0m\u001b[1;33m,\u001b[0m \u001b[0mC\u001b[0m\u001b[1;33m,\u001b[0m\u001b[1;33m\u001b[0m\u001b[1;33m\u001b[0m\u001b[0m\n\u001b[0;32m    977\u001b[0m         \u001b[0mclass_weight_\u001b[0m\u001b[1;33m,\u001b[0m \u001b[0mmax_iter\u001b[0m\u001b[1;33m,\u001b[0m \u001b[0mrnd\u001b[0m\u001b[1;33m.\u001b[0m\u001b[0mrandint\u001b[0m\u001b[1;33m(\u001b[0m\u001b[0mnp\u001b[0m\u001b[1;33m.\u001b[0m\u001b[0miinfo\u001b[0m\u001b[1;33m(\u001b[0m\u001b[1;34m'i'\u001b[0m\u001b[1;33m)\u001b[0m\u001b[1;33m.\u001b[0m\u001b[0mmax\u001b[0m\u001b[1;33m)\u001b[0m\u001b[1;33m,\u001b[0m\u001b[1;33m\u001b[0m\u001b[1;33m\u001b[0m\u001b[0m\n",
      "\u001b[1;31mKeyboardInterrupt\u001b[0m: "
     ]
    }
   ],
   "source": [
    "from sklearn.multiclass import OneVsOneClassifier\n",
    "from sklearn.svm import LinearSVC\n",
    "model3=OneVsOneClassifier(LinearSVC(random_state=0))\n",
    "\n",
    "pipe = Pipeline([('ct', ct), ('OneVsOneClassifier', model3)])\n",
    "pipe.fit(X_train, y_train)\n",
    "pipe.score(X_test, y_test)\n",
    "print('model score =',model3.score(X_train,y_train))"
   ]
  },
  {
   "cell_type": "code",
   "execution_count": null,
   "id": "b27b978f",
   "metadata": {},
   "outputs": [],
   "source": []
  }
 ],
 "metadata": {
  "kernelspec": {
   "display_name": "Python 3 (ipykernel)",
   "language": "python",
   "name": "python3"
  },
  "language_info": {
   "codemirror_mode": {
    "name": "ipython",
    "version": 3
   },
   "file_extension": ".py",
   "mimetype": "text/x-python",
   "name": "python",
   "nbconvert_exporter": "python",
   "pygments_lexer": "ipython3",
   "version": "3.9.7"
  }
 },
 "nbformat": 4,
 "nbformat_minor": 5
}
